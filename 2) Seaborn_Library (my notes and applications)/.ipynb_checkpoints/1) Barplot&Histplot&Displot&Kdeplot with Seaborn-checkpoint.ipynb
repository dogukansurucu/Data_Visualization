{
 "cells": [
  {
   "cell_type": "markdown",
   "id": "1e6fc0ab-5c7c-463d-aab5-f0c18d1defc4",
   "metadata": {
    "tags": []
   },
   "source": [
    "# Dağılım  Grafikleri"
   ]
  },
  {
   "cell_type": "markdown",
   "id": "5a8575f5-6d85-4949-9767-6abb8fd02559",
   "metadata": {
    "tags": []
   },
   "source": [
    "## **Barplot (Sütun Grafik)**"
   ]
  },
  {
   "cell_type": "markdown",
   "id": "4769af01-93ae-4dda-be87-d50c9bec82de",
   "metadata": {},
   "source": [
    "> **BARPLOT**: Elimizdeki kategorik değişkenleri görselleştirmek için kullanılır."
   ]
  },
  {
   "cell_type": "code",
   "execution_count": 7,
   "id": "eb6f9285-d6aa-4abd-9f13-dc50c4d96bd7",
   "metadata": {
    "tags": []
   },
   "outputs": [
    {
     "data": {
      "text/plain": [
       "\u001b[1;31mSignature:\u001b[0m\n",
       "\u001b[0msns\u001b[0m\u001b[1;33m.\u001b[0m\u001b[0mbarplot\u001b[0m\u001b[1;33m(\u001b[0m\u001b[1;33m\n",
       "\u001b[0m    \u001b[1;33m*\u001b[0m\u001b[1;33m,\u001b[0m\u001b[1;33m\n",
       "\u001b[0m    \u001b[0mx\u001b[0m\u001b[1;33m=\u001b[0m\u001b[1;32mNone\u001b[0m\u001b[1;33m,\u001b[0m\u001b[1;33m\n",
       "\u001b[0m    \u001b[0my\u001b[0m\u001b[1;33m=\u001b[0m\u001b[1;32mNone\u001b[0m\u001b[1;33m,\u001b[0m\u001b[1;33m\n",
       "\u001b[0m    \u001b[0mhue\u001b[0m\u001b[1;33m=\u001b[0m\u001b[1;32mNone\u001b[0m\u001b[1;33m,\u001b[0m\u001b[1;33m\n",
       "\u001b[0m    \u001b[0mdata\u001b[0m\u001b[1;33m=\u001b[0m\u001b[1;32mNone\u001b[0m\u001b[1;33m,\u001b[0m\u001b[1;33m\n",
       "\u001b[0m    \u001b[0morder\u001b[0m\u001b[1;33m=\u001b[0m\u001b[1;32mNone\u001b[0m\u001b[1;33m,\u001b[0m\u001b[1;33m\n",
       "\u001b[0m    \u001b[0mhue_order\u001b[0m\u001b[1;33m=\u001b[0m\u001b[1;32mNone\u001b[0m\u001b[1;33m,\u001b[0m\u001b[1;33m\n",
       "\u001b[0m    \u001b[0mestimator\u001b[0m\u001b[1;33m=\u001b[0m\u001b[1;33m<\u001b[0m\u001b[0mfunction\u001b[0m \u001b[0mmean\u001b[0m \u001b[0mat\u001b[0m \u001b[1;36m0x00000255FF70E670\u001b[0m\u001b[1;33m>\u001b[0m\u001b[1;33m,\u001b[0m\u001b[1;33m\n",
       "\u001b[0m    \u001b[0mci\u001b[0m\u001b[1;33m=\u001b[0m\u001b[1;36m95\u001b[0m\u001b[1;33m,\u001b[0m\u001b[1;33m\n",
       "\u001b[0m    \u001b[0mn_boot\u001b[0m\u001b[1;33m=\u001b[0m\u001b[1;36m1000\u001b[0m\u001b[1;33m,\u001b[0m\u001b[1;33m\n",
       "\u001b[0m    \u001b[0munits\u001b[0m\u001b[1;33m=\u001b[0m\u001b[1;32mNone\u001b[0m\u001b[1;33m,\u001b[0m\u001b[1;33m\n",
       "\u001b[0m    \u001b[0mseed\u001b[0m\u001b[1;33m=\u001b[0m\u001b[1;32mNone\u001b[0m\u001b[1;33m,\u001b[0m\u001b[1;33m\n",
       "\u001b[0m    \u001b[0morient\u001b[0m\u001b[1;33m=\u001b[0m\u001b[1;32mNone\u001b[0m\u001b[1;33m,\u001b[0m\u001b[1;33m\n",
       "\u001b[0m    \u001b[0mcolor\u001b[0m\u001b[1;33m=\u001b[0m\u001b[1;32mNone\u001b[0m\u001b[1;33m,\u001b[0m\u001b[1;33m\n",
       "\u001b[0m    \u001b[0mpalette\u001b[0m\u001b[1;33m=\u001b[0m\u001b[1;32mNone\u001b[0m\u001b[1;33m,\u001b[0m\u001b[1;33m\n",
       "\u001b[0m    \u001b[0msaturation\u001b[0m\u001b[1;33m=\u001b[0m\u001b[1;36m0.75\u001b[0m\u001b[1;33m,\u001b[0m\u001b[1;33m\n",
       "\u001b[0m    \u001b[0merrcolor\u001b[0m\u001b[1;33m=\u001b[0m\u001b[1;34m'.26'\u001b[0m\u001b[1;33m,\u001b[0m\u001b[1;33m\n",
       "\u001b[0m    \u001b[0merrwidth\u001b[0m\u001b[1;33m=\u001b[0m\u001b[1;32mNone\u001b[0m\u001b[1;33m,\u001b[0m\u001b[1;33m\n",
       "\u001b[0m    \u001b[0mcapsize\u001b[0m\u001b[1;33m=\u001b[0m\u001b[1;32mNone\u001b[0m\u001b[1;33m,\u001b[0m\u001b[1;33m\n",
       "\u001b[0m    \u001b[0mdodge\u001b[0m\u001b[1;33m=\u001b[0m\u001b[1;32mTrue\u001b[0m\u001b[1;33m,\u001b[0m\u001b[1;33m\n",
       "\u001b[0m    \u001b[0max\u001b[0m\u001b[1;33m=\u001b[0m\u001b[1;32mNone\u001b[0m\u001b[1;33m,\u001b[0m\u001b[1;33m\n",
       "\u001b[0m    \u001b[1;33m**\u001b[0m\u001b[0mkwargs\u001b[0m\u001b[1;33m,\u001b[0m\u001b[1;33m\n",
       "\u001b[0m\u001b[1;33m)\u001b[0m\u001b[1;33m\u001b[0m\u001b[1;33m\u001b[0m\u001b[0m\n",
       "\u001b[1;31mDocstring:\u001b[0m\n",
       "Show point estimates and confidence intervals as rectangular bars.\n",
       "\n",
       "A bar plot represents an estimate of central tendency for a numeric\n",
       "variable with the height of each rectangle and provides some indication of\n",
       "the uncertainty around that estimate using error bars. Bar plots include 0\n",
       "in the quantitative axis range, and they are a good choice when 0 is a\n",
       "meaningful value for the quantitative variable, and you want to make\n",
       "comparisons against it.\n",
       "\n",
       "For datasets where 0 is not a meaningful value, a point plot will allow you\n",
       "to focus on differences between levels of one or more categorical\n",
       "variables.\n",
       "\n",
       "It is also important to keep in mind that a bar plot shows only the mean\n",
       "(or other estimator) value, but in many cases it may be more informative to\n",
       "show the distribution of values at each level of the categorical variables.\n",
       "In that case, other approaches such as a box or violin plot may be more\n",
       "appropriate.\n",
       "\n",
       "\n",
       "Input data can be passed in a variety of formats, including:\n",
       "\n",
       "- Vectors of data represented as lists, numpy arrays, or pandas Series\n",
       "  objects passed directly to the ``x``, ``y``, and/or ``hue`` parameters.\n",
       "- A \"long-form\" DataFrame, in which case the ``x``, ``y``, and ``hue``\n",
       "  variables will determine how the data are plotted.\n",
       "- A \"wide-form\" DataFrame, such that each numeric column will be plotted.\n",
       "- An array or list of vectors.\n",
       "\n",
       "In most cases, it is possible to use numpy or Python objects, but pandas\n",
       "objects are preferable because the associated names will be used to\n",
       "annotate the axes. Additionally, you can use Categorical types for the\n",
       "grouping variables to control the order of plot elements.    \n",
       "\n",
       "This function always treats one of the variables as categorical and\n",
       "draws data at ordinal positions (0, 1, ... n) on the relevant axis, even\n",
       "when the data has a numeric or date type.\n",
       "\n",
       "See the :ref:`tutorial <categorical_tutorial>` for more information.    \n",
       "\n",
       "Parameters\n",
       "----------\n",
       "x, y, hue : names of variables in ``data`` or vector data, optional\n",
       "    Inputs for plotting long-form data. See examples for interpretation.        \n",
       "data : DataFrame, array, or list of arrays, optional\n",
       "    Dataset for plotting. If ``x`` and ``y`` are absent, this is\n",
       "    interpreted as wide-form. Otherwise it is expected to be long-form.    \n",
       "order, hue_order : lists of strings, optional\n",
       "    Order to plot the categorical levels in, otherwise the levels are\n",
       "    inferred from the data objects.        \n",
       "estimator : callable that maps vector -> scalar, optional\n",
       "    Statistical function to estimate within each categorical bin.\n",
       "ci : float or \"sd\" or None, optional\n",
       "    Size of confidence intervals to draw around estimated values.  If\n",
       "    \"sd\", skip bootstrapping and draw the standard deviation of the\n",
       "    observations. If ``None``, no bootstrapping will be performed, and\n",
       "    error bars will not be drawn.\n",
       "n_boot : int, optional\n",
       "    Number of bootstrap iterations to use when computing confidence\n",
       "    intervals.\n",
       "units : name of variable in ``data`` or vector data, optional\n",
       "    Identifier of sampling units, which will be used to perform a\n",
       "    multilevel bootstrap and account for repeated measures design.\n",
       "seed : int, numpy.random.Generator, or numpy.random.RandomState, optional\n",
       "    Seed or random number generator for reproducible bootstrapping.    \n",
       "orient : \"v\" | \"h\", optional\n",
       "    Orientation of the plot (vertical or horizontal). This is usually\n",
       "    inferred based on the type of the input variables, but it can be used\n",
       "    to resolve ambiguity when both `x` and `y` are numeric or when\n",
       "    plotting wide-form data.    \n",
       "color : matplotlib color, optional\n",
       "    Color for all of the elements, or seed for a gradient palette.    \n",
       "palette : palette name, list, or dict\n",
       "    Colors to use for the different levels of the ``hue`` variable. Should\n",
       "    be something that can be interpreted by :func:`color_palette`, or a\n",
       "    dictionary mapping hue levels to matplotlib colors.    \n",
       "saturation : float, optional\n",
       "    Proportion of the original saturation to draw colors at. Large patches\n",
       "    often look better with slightly desaturated colors, but set this to\n",
       "    ``1`` if you want the plot colors to perfectly match the input color\n",
       "    spec.    \n",
       "errcolor : matplotlib color\n",
       "    Color for the lines that represent the confidence interval.\n",
       "errwidth : float, optional\n",
       "    Thickness of error bar lines (and caps).         \n",
       "capsize : float, optional\n",
       "    Width of the \"caps\" on error bars.\n",
       "\n",
       "dodge : bool, optional\n",
       "    When hue nesting is used, whether elements should be shifted along the\n",
       "    categorical axis.    \n",
       "ax : matplotlib Axes, optional\n",
       "    Axes object to draw the plot onto, otherwise uses the current Axes.    \n",
       "kwargs : key, value mappings\n",
       "    Other keyword arguments are passed through to\n",
       "    :meth:`matplotlib.axes.Axes.bar`.\n",
       "\n",
       "Returns\n",
       "-------\n",
       "ax : matplotlib Axes\n",
       "    Returns the Axes object with the plot drawn onto it.    \n",
       "\n",
       "See Also\n",
       "--------\n",
       "countplot : Show the counts of observations in each categorical bin.    \n",
       "pointplot : Show point estimates and confidence intervals using scatterplot\n",
       "            glyphs.    \n",
       "catplot : Combine a categorical plot with a :class:`FacetGrid`.    \n",
       "\n",
       "Examples\n",
       "--------\n",
       "\n",
       "Draw a set of vertical bar plots grouped by a categorical variable:\n",
       "\n",
       ".. plot::\n",
       "    :context: close-figs\n",
       "\n",
       "    >>> import seaborn as sns\n",
       "    >>> sns.set_theme(style=\"whitegrid\")\n",
       "    >>> tips = sns.load_dataset(\"tips\")\n",
       "    >>> ax = sns.barplot(x=\"day\", y=\"total_bill\", data=tips)\n",
       "\n",
       "Draw a set of vertical bars with nested grouping by a two variables:\n",
       "\n",
       ".. plot::\n",
       "    :context: close-figs\n",
       "\n",
       "    >>> ax = sns.barplot(x=\"day\", y=\"total_bill\", hue=\"sex\", data=tips)\n",
       "\n",
       "Draw a set of horizontal bars:\n",
       "\n",
       ".. plot::\n",
       "    :context: close-figs\n",
       "\n",
       "    >>> ax = sns.barplot(x=\"tip\", y=\"day\", data=tips)\n",
       "\n",
       "Control bar order by passing an explicit order:\n",
       "\n",
       ".. plot::\n",
       "    :context: close-figs\n",
       "\n",
       "    >>> ax = sns.barplot(x=\"time\", y=\"tip\", data=tips,\n",
       "    ...                  order=[\"Dinner\", \"Lunch\"])\n",
       "\n",
       "Use median as the estimate of central tendency:\n",
       "\n",
       ".. plot::\n",
       "    :context: close-figs\n",
       "\n",
       "    >>> from numpy import median\n",
       "    >>> ax = sns.barplot(x=\"day\", y=\"tip\", data=tips, estimator=median)\n",
       "\n",
       "Show the standard error of the mean with the error bars:\n",
       "\n",
       ".. plot::\n",
       "    :context: close-figs\n",
       "\n",
       "    >>> ax = sns.barplot(x=\"day\", y=\"tip\", data=tips, ci=68)\n",
       "\n",
       "Show standard deviation of observations instead of a confidence interval:\n",
       "\n",
       ".. plot::\n",
       "    :context: close-figs\n",
       "\n",
       "    >>> ax = sns.barplot(x=\"day\", y=\"tip\", data=tips, ci=\"sd\")\n",
       "\n",
       "Add \"caps\" to the error bars:\n",
       "\n",
       ".. plot::\n",
       "    :context: close-figs\n",
       "\n",
       "    >>> ax = sns.barplot(x=\"day\", y=\"tip\", data=tips, capsize=.2)\n",
       "\n",
       "Use a different color palette for the bars:\n",
       "\n",
       ".. plot::\n",
       "    :context: close-figs\n",
       "\n",
       "    >>> ax = sns.barplot(x=\"size\", y=\"total_bill\", data=tips,\n",
       "    ...                  palette=\"Blues_d\")\n",
       "\n",
       "Use ``hue`` without changing bar position or width:\n",
       "\n",
       ".. plot::\n",
       "    :context: close-figs\n",
       "\n",
       "    >>> tips[\"weekend\"] = tips[\"day\"].isin([\"Sat\", \"Sun\"])\n",
       "    >>> ax = sns.barplot(x=\"day\", y=\"total_bill\", hue=\"weekend\",\n",
       "    ...                  data=tips, dodge=False)\n",
       "\n",
       "Plot all bars in a single color:\n",
       "\n",
       ".. plot::\n",
       "    :context: close-figs\n",
       "\n",
       "    >>> ax = sns.barplot(x=\"size\", y=\"total_bill\", data=tips,\n",
       "    ...                  color=\"salmon\", saturation=.5)\n",
       "\n",
       "Use :meth:`matplotlib.axes.Axes.bar` parameters to control the style.\n",
       "\n",
       ".. plot::\n",
       "    :context: close-figs\n",
       "\n",
       "    >>> ax = sns.barplot(x=\"day\", y=\"total_bill\", data=tips,\n",
       "    ...                  linewidth=2.5, facecolor=(1, 1, 1, 0),\n",
       "    ...                  errcolor=\".2\", edgecolor=\".2\")\n",
       "\n",
       "Use :func:`catplot` to combine a :func:`barplot` and a :class:`FacetGrid`.\n",
       "This allows grouping within additional categorical variables. Using\n",
       ":func:`catplot` is safer than using :class:`FacetGrid` directly, as it\n",
       "ensures synchronization of variable order across facets:\n",
       "\n",
       ".. plot::\n",
       "    :context: close-figs\n",
       "\n",
       "    >>> g = sns.catplot(x=\"sex\", y=\"total_bill\",\n",
       "    ...                 hue=\"smoker\", col=\"time\",\n",
       "    ...                 data=tips, kind=\"bar\",\n",
       "    ...                 height=4, aspect=.7);\n",
       "\u001b[1;31mFile:\u001b[0m      c:\\users\\dogukan\\anaconda3\\lib\\site-packages\\seaborn\\categorical.py\n",
       "\u001b[1;31mType:\u001b[0m      function\n"
      ]
     },
     "metadata": {},
     "output_type": "display_data"
    }
   ],
   "source": [
    "?sns.barplot"
   ]
  },
  {
   "cell_type": "markdown",
   "id": "498b7d53-0c8c-4ba7-b635-8a2a0901c912",
   "metadata": {},
   "source": [
    "> seaborn.barplot(x=None, y=None, hue=None, data=None, order=None, hue_order=None, estimator=<function mean at 0x7fa4c4f67940>, ci=95, n_boot=1000, units=None, seed=None, orient=None, color=None, palette=None, saturation=0.75, errcolor=’.26′, errwidth=None, capsize=None, dodge=True, ax=None, **kwargs)"
   ]
  },
  {
   "cell_type": "markdown",
   "id": "da8f4632-76a1-4b47-8d76-7f3609d7b37b",
   "metadata": {},
   "source": [
    "> **ÇUBUK GRAFİĞİ PARAMETRELERİ**\n",
    "* <span style='color:red'>x, y</span> : Bu parametre, verilerdeki veya vektör verilerindeki değişkenlerin adlarını alır, Uzun biçimli verileri çizmek için girişler.\n",
    "* <span style='color:red'>hue</span> : (isteğe bağlı) Bu parametre  boyut ekleme argümanıdır.renk kodlaması için sütun adını alır. color boyutunu cut boyutuyla groupby yapmış oluyoruz.\n",
    "* <span style='color:red'>data</span> : (isteğe bağlı) Bu parametre, çizim için DataFrame, dizi veya dizi listesi, Dataset alır. x ve y yoksa, bu geniş biçimli olarak yorumlanır. Aksi takdirde uzun formda olması beklenir.\n",
    "* <span style='color:red'>color</span> : (i steğe bağlı) Bu parametre matplotlib color, tüm öğeler için Color veya bir degrade paleti için tohum alır.\n",
    "* <span style='color:red'>palette</span> : (isteğe bağlı) bu parametre ile çubuk grafiklerin renklerini ayarlayabiliyoruz.\n",
    "* <span style='color:red'>saturation</span> : (isteğe bağlı) bu parametre ile çubuk grafiklerin doygunluklarını değiştirir.\n",
    "* <span style='color:red'>linewidth=2.5</span> : çubukların kenarlarını belirginleştirme özelliği vardır. Değer ne kadar arttıkça o kadar belirginleşir.\n",
    "* <span style='color:red'>facecolor = (1, 1, 1, 0)</span>\n",
    "* <span style='color:red'>errcolor = \".2\"</span> : değer ne kadar azaldıkça çubuklara bağlı etiketler belirginleşir.\n",
    "* <span style='color:red'>edgecolor = \".1\"</span>"
   ]
  },
  {
   "cell_type": "markdown",
   "id": "9134b00d-b086-477c-94f7-a607fd4e01dc",
   "metadata": {
    "tags": []
   },
   "source": [
    "**Veri Seti Hikayesi**\n",
    "\n",
    "price: dolar cinsinde fiyat ($326–$18,823)\n",
    "\n",
    "carat: ağırlık (0.2–5.01)\n",
    "\n",
    "cut: kalite (Fair, Good, Very Good, Premium, Ideal)\n",
    "\n",
    "color: renk (from J (worst) to D (best))\n",
    "\n",
    "clarity: temizliği, berraklığı (I1 (worst), SI2, SI1, VS2, VS1, VVS2, VVS1, IF (best))\n",
    "\n",
    "x: length in mm (0–10.74)\n",
    "\n",
    "y: width in mm (0–58.9)\n",
    "\n",
    "z: depth in mm (0–31.8)\n",
    "\n",
    "depth: toplam derinlik yüzdesi = z / mean(x, y) = 2 * z / (x + y) (43–79)\n",
    "\n",
    "table: elmasın en geniş noktasına göre genişliği (43–95)"
   ]
  },
  {
   "cell_type": "code",
   "execution_count": 8,
   "id": "ca670c04-5730-49cf-8bc1-27a9746e10d2",
   "metadata": {},
   "outputs": [
    {
     "data": {
      "text/html": [
       "<div>\n",
       "<style scoped>\n",
       "    .dataframe tbody tr th:only-of-type {\n",
       "        vertical-align: middle;\n",
       "    }\n",
       "\n",
       "    .dataframe tbody tr th {\n",
       "        vertical-align: top;\n",
       "    }\n",
       "\n",
       "    .dataframe thead th {\n",
       "        text-align: right;\n",
       "    }\n",
       "</style>\n",
       "<table border=\"1\" class=\"dataframe\">\n",
       "  <thead>\n",
       "    <tr style=\"text-align: right;\">\n",
       "      <th></th>\n",
       "      <th>carat</th>\n",
       "      <th>cut</th>\n",
       "      <th>color</th>\n",
       "      <th>clarity</th>\n",
       "      <th>depth</th>\n",
       "      <th>table</th>\n",
       "      <th>price</th>\n",
       "      <th>x</th>\n",
       "      <th>y</th>\n",
       "      <th>z</th>\n",
       "    </tr>\n",
       "  </thead>\n",
       "  <tbody>\n",
       "    <tr>\n",
       "      <th>0</th>\n",
       "      <td>0.23</td>\n",
       "      <td>Ideal</td>\n",
       "      <td>E</td>\n",
       "      <td>SI2</td>\n",
       "      <td>61.5</td>\n",
       "      <td>55.0</td>\n",
       "      <td>326</td>\n",
       "      <td>3.95</td>\n",
       "      <td>3.98</td>\n",
       "      <td>2.43</td>\n",
       "    </tr>\n",
       "    <tr>\n",
       "      <th>1</th>\n",
       "      <td>0.21</td>\n",
       "      <td>Premium</td>\n",
       "      <td>E</td>\n",
       "      <td>SI1</td>\n",
       "      <td>59.8</td>\n",
       "      <td>61.0</td>\n",
       "      <td>326</td>\n",
       "      <td>3.89</td>\n",
       "      <td>3.84</td>\n",
       "      <td>2.31</td>\n",
       "    </tr>\n",
       "    <tr>\n",
       "      <th>2</th>\n",
       "      <td>0.23</td>\n",
       "      <td>Good</td>\n",
       "      <td>E</td>\n",
       "      <td>VS1</td>\n",
       "      <td>56.9</td>\n",
       "      <td>65.0</td>\n",
       "      <td>327</td>\n",
       "      <td>4.05</td>\n",
       "      <td>4.07</td>\n",
       "      <td>2.31</td>\n",
       "    </tr>\n",
       "    <tr>\n",
       "      <th>3</th>\n",
       "      <td>0.29</td>\n",
       "      <td>Premium</td>\n",
       "      <td>I</td>\n",
       "      <td>VS2</td>\n",
       "      <td>62.4</td>\n",
       "      <td>58.0</td>\n",
       "      <td>334</td>\n",
       "      <td>4.20</td>\n",
       "      <td>4.23</td>\n",
       "      <td>2.63</td>\n",
       "    </tr>\n",
       "    <tr>\n",
       "      <th>4</th>\n",
       "      <td>0.31</td>\n",
       "      <td>Good</td>\n",
       "      <td>J</td>\n",
       "      <td>SI2</td>\n",
       "      <td>63.3</td>\n",
       "      <td>58.0</td>\n",
       "      <td>335</td>\n",
       "      <td>4.34</td>\n",
       "      <td>4.35</td>\n",
       "      <td>2.75</td>\n",
       "    </tr>\n",
       "  </tbody>\n",
       "</table>\n",
       "</div>"
      ],
      "text/plain": [
       "   carat      cut color clarity  depth  table  price     x     y     z\n",
       "0   0.23    Ideal     E     SI2   61.5   55.0    326  3.95  3.98  2.43\n",
       "1   0.21  Premium     E     SI1   59.8   61.0    326  3.89  3.84  2.31\n",
       "2   0.23     Good     E     VS1   56.9   65.0    327  4.05  4.07  2.31\n",
       "3   0.29  Premium     I     VS2   62.4   58.0    334  4.20  4.23  2.63\n",
       "4   0.31     Good     J     SI2   63.3   58.0    335  4.34  4.35  2.75"
      ]
     },
     "execution_count": 8,
     "metadata": {},
     "output_type": "execute_result"
    }
   ],
   "source": [
    "import seaborn as sns\n",
    "diamonds = sns.load_dataset('diamonds')\n",
    "a = diamonds.copy()\n",
    "a.head()"
   ]
  },
  {
   "cell_type": "code",
   "execution_count": 9,
   "id": "fbac19ea-68a5-4eec-b679-f13a4b6db565",
   "metadata": {},
   "outputs": [
    {
     "name": "stdout",
     "output_type": "stream",
     "text": [
      "<class 'pandas.core.frame.DataFrame'>\n",
      "RangeIndex: 53940 entries, 0 to 53939\n",
      "Data columns (total 10 columns):\n",
      " #   Column   Non-Null Count  Dtype   \n",
      "---  ------   --------------  -----   \n",
      " 0   carat    53940 non-null  float64 \n",
      " 1   cut      53940 non-null  category\n",
      " 2   color    53940 non-null  category\n",
      " 3   clarity  53940 non-null  category\n",
      " 4   depth    53940 non-null  float64 \n",
      " 5   table    53940 non-null  float64 \n",
      " 6   price    53940 non-null  int64   \n",
      " 7   x        53940 non-null  float64 \n",
      " 8   y        53940 non-null  float64 \n",
      " 9   z        53940 non-null  float64 \n",
      "dtypes: category(3), float64(6), int64(1)\n",
      "memory usage: 3.0 MB\n"
     ]
    }
   ],
   "source": [
    "a.info()"
   ]
  },
  {
   "cell_type": "code",
   "execution_count": 10,
   "id": "5b64a8c5-ebb7-4e20-9fd1-155e293e30d3",
   "metadata": {},
   "outputs": [
    {
     "data": {
      "text/html": [
       "<div>\n",
       "<style scoped>\n",
       "    .dataframe tbody tr th:only-of-type {\n",
       "        vertical-align: middle;\n",
       "    }\n",
       "\n",
       "    .dataframe tbody tr th {\n",
       "        vertical-align: top;\n",
       "    }\n",
       "\n",
       "    .dataframe thead th {\n",
       "        text-align: right;\n",
       "    }\n",
       "</style>\n",
       "<table border=\"1\" class=\"dataframe\">\n",
       "  <thead>\n",
       "    <tr style=\"text-align: right;\">\n",
       "      <th></th>\n",
       "      <th>count</th>\n",
       "      <th>mean</th>\n",
       "      <th>std</th>\n",
       "      <th>min</th>\n",
       "      <th>25%</th>\n",
       "      <th>50%</th>\n",
       "      <th>75%</th>\n",
       "      <th>max</th>\n",
       "    </tr>\n",
       "  </thead>\n",
       "  <tbody>\n",
       "    <tr>\n",
       "      <th>carat</th>\n",
       "      <td>53940.0</td>\n",
       "      <td>0.797940</td>\n",
       "      <td>0.474011</td>\n",
       "      <td>0.2</td>\n",
       "      <td>0.40</td>\n",
       "      <td>0.70</td>\n",
       "      <td>1.04</td>\n",
       "      <td>5.01</td>\n",
       "    </tr>\n",
       "    <tr>\n",
       "      <th>depth</th>\n",
       "      <td>53940.0</td>\n",
       "      <td>61.749405</td>\n",
       "      <td>1.432621</td>\n",
       "      <td>43.0</td>\n",
       "      <td>61.00</td>\n",
       "      <td>61.80</td>\n",
       "      <td>62.50</td>\n",
       "      <td>79.00</td>\n",
       "    </tr>\n",
       "    <tr>\n",
       "      <th>table</th>\n",
       "      <td>53940.0</td>\n",
       "      <td>57.457184</td>\n",
       "      <td>2.234491</td>\n",
       "      <td>43.0</td>\n",
       "      <td>56.00</td>\n",
       "      <td>57.00</td>\n",
       "      <td>59.00</td>\n",
       "      <td>95.00</td>\n",
       "    </tr>\n",
       "    <tr>\n",
       "      <th>price</th>\n",
       "      <td>53940.0</td>\n",
       "      <td>3932.799722</td>\n",
       "      <td>3989.439738</td>\n",
       "      <td>326.0</td>\n",
       "      <td>950.00</td>\n",
       "      <td>2401.00</td>\n",
       "      <td>5324.25</td>\n",
       "      <td>18823.00</td>\n",
       "    </tr>\n",
       "    <tr>\n",
       "      <th>x</th>\n",
       "      <td>53940.0</td>\n",
       "      <td>5.731157</td>\n",
       "      <td>1.121761</td>\n",
       "      <td>0.0</td>\n",
       "      <td>4.71</td>\n",
       "      <td>5.70</td>\n",
       "      <td>6.54</td>\n",
       "      <td>10.74</td>\n",
       "    </tr>\n",
       "    <tr>\n",
       "      <th>y</th>\n",
       "      <td>53940.0</td>\n",
       "      <td>5.734526</td>\n",
       "      <td>1.142135</td>\n",
       "      <td>0.0</td>\n",
       "      <td>4.72</td>\n",
       "      <td>5.71</td>\n",
       "      <td>6.54</td>\n",
       "      <td>58.90</td>\n",
       "    </tr>\n",
       "    <tr>\n",
       "      <th>z</th>\n",
       "      <td>53940.0</td>\n",
       "      <td>3.538734</td>\n",
       "      <td>0.705699</td>\n",
       "      <td>0.0</td>\n",
       "      <td>2.91</td>\n",
       "      <td>3.53</td>\n",
       "      <td>4.04</td>\n",
       "      <td>31.80</td>\n",
       "    </tr>\n",
       "  </tbody>\n",
       "</table>\n",
       "</div>"
      ],
      "text/plain": [
       "         count         mean          std    min     25%      50%      75%  \\\n",
       "carat  53940.0     0.797940     0.474011    0.2    0.40     0.70     1.04   \n",
       "depth  53940.0    61.749405     1.432621   43.0   61.00    61.80    62.50   \n",
       "table  53940.0    57.457184     2.234491   43.0   56.00    57.00    59.00   \n",
       "price  53940.0  3932.799722  3989.439738  326.0  950.00  2401.00  5324.25   \n",
       "x      53940.0     5.731157     1.121761    0.0    4.71     5.70     6.54   \n",
       "y      53940.0     5.734526     1.142135    0.0    4.72     5.71     6.54   \n",
       "z      53940.0     3.538734     0.705699    0.0    2.91     3.53     4.04   \n",
       "\n",
       "            max  \n",
       "carat      5.01  \n",
       "depth     79.00  \n",
       "table     95.00  \n",
       "price  18823.00  \n",
       "x         10.74  \n",
       "y         58.90  \n",
       "z         31.80  "
      ]
     },
     "execution_count": 10,
     "metadata": {},
     "output_type": "execute_result"
    }
   ],
   "source": [
    "a.describe().T"
   ]
  },
  {
   "cell_type": "code",
   "execution_count": 11,
   "id": "99ea6e6e-f062-4372-8e4e-fce4e9eee62e",
   "metadata": {},
   "outputs": [
    {
     "data": {
      "text/plain": [
       "Ideal        21551\n",
       "Premium      13791\n",
       "Very Good    12082\n",
       "Good          4906\n",
       "Fair          1610\n",
       "Name: cut, dtype: int64"
      ]
     },
     "execution_count": 11,
     "metadata": {},
     "output_type": "execute_result"
    }
   ],
   "source": [
    "a[\"cut\"].value_counts()\n",
    "\n",
    "# farkediliği üzere cut kategorik değişkende ordinal bir sıralama var. Ideal... fair"
   ]
  },
  {
   "cell_type": "code",
   "execution_count": 12,
   "id": "5a9057ce-ec72-4d83-ac1b-e0b4db9cd50e",
   "metadata": {},
   "outputs": [
    {
     "data": {
      "text/plain": [
       "605      132\n",
       "802      127\n",
       "625      126\n",
       "828      125\n",
       "776      124\n",
       "        ... \n",
       "8816       1\n",
       "14704      1\n",
       "14699      1\n",
       "14698      1\n",
       "9793       1\n",
       "Name: price, Length: 11602, dtype: int64"
      ]
     },
     "execution_count": 12,
     "metadata": {},
     "output_type": "execute_result"
    }
   ],
   "source": [
    "a[\"price\"].value_counts()"
   ]
  },
  {
   "cell_type": "code",
   "execution_count": 13,
   "id": "c913599c-ca07-45ea-b532-2ea65b4b1ff1",
   "metadata": {},
   "outputs": [
    {
     "data": {
      "text/plain": [
       "G    11292\n",
       "E     9797\n",
       "F     9542\n",
       "H     8304\n",
       "D     6775\n",
       "I     5422\n",
       "J     2808\n",
       "Name: color, dtype: int64"
      ]
     },
     "execution_count": 13,
     "metadata": {},
     "output_type": "execute_result"
    }
   ],
   "source": [
    "a[\"color\"].value_counts()"
   ]
  },
  {
   "cell_type": "markdown",
   "id": "451a64d4-5912-46be-ac29-1a7e0eff35e1",
   "metadata": {},
   "source": [
    "**kategorik bir değişkendeki sınıfları ordinal tanımlama işlemi**"
   ]
  },
  {
   "cell_type": "code",
   "execution_count": 15,
   "id": "67746e90-54a1-4d72-a693-7d899f6be35e",
   "metadata": {},
   "outputs": [
    {
     "data": {
      "text/plain": [
       "0            Ideal\n",
       "1          Premium\n",
       "2             Good\n",
       "3          Premium\n",
       "4             Good\n",
       "           ...    \n",
       "53935        Ideal\n",
       "53936         Good\n",
       "53937    Very Good\n",
       "53938      Premium\n",
       "53939        Ideal\n",
       "Name: cut, Length: 53940, dtype: category\n",
       "Categories (5, object): ['Ideal' < 'Premium' < 'Very Good' < 'Good' < 'Fair']"
      ]
     },
     "execution_count": 15,
     "metadata": {},
     "output_type": "execute_result"
    }
   ],
   "source": [
    "#1.yol\n",
    "import pandas as pd\n",
    "a[\"cut\"] = pd.Categorical(a[\"cut\"],ordered=True)\n",
    "a[\"cut\"]"
   ]
  },
  {
   "cell_type": "code",
   "execution_count": 16,
   "id": "bea322e9-f113-485a-939e-b0c635d7cc40",
   "metadata": {},
   "outputs": [
    {
     "data": {
      "text/plain": [
       "0            Ideal\n",
       "1          Premium\n",
       "2             Good\n",
       "3          Premium\n",
       "4             Good\n",
       "           ...    \n",
       "53935        Ideal\n",
       "53936         Good\n",
       "53937    Very Good\n",
       "53938      Premium\n",
       "53939        Ideal\n",
       "Name: cut, Length: 53940, dtype: category\n",
       "Categories (5, object): ['Ideal' < 'Premium' < 'Very Good' < 'Good' < 'Fair']"
      ]
     },
     "execution_count": 16,
     "metadata": {},
     "output_type": "execute_result"
    }
   ],
   "source": [
    "#2.yol\n",
    "\n",
    "from pandas.api.types import CategoricalDtype\n",
    "a.cut.head()\n",
    "\n",
    "a.cut = a.cut.astype(CategoricalDtype(ordered = True))\n",
    "a.cut"
   ]
  },
  {
   "cell_type": "code",
   "execution_count": 17,
   "id": "7d4b13dc-a030-4313-9196-77396485fb01",
   "metadata": {},
   "outputs": [
    {
     "data": {
      "text/plain": [
       "carat       float64\n",
       "cut        category\n",
       "color      category\n",
       "clarity    category\n",
       "depth       float64\n",
       "table       float64\n",
       "price         int64\n",
       "x           float64\n",
       "y           float64\n",
       "z           float64\n",
       "dtype: object"
      ]
     },
     "execution_count": 17,
     "metadata": {},
     "output_type": "execute_result"
    }
   ],
   "source": [
    "a.dtypes"
   ]
  },
  {
   "cell_type": "code",
   "execution_count": 18,
   "id": "58a6d269-71c4-4ae4-bed0-179f14b3d7b7",
   "metadata": {},
   "outputs": [
    {
     "data": {
      "text/plain": [
       "0    Ideal\n",
       "Name: cut, dtype: category\n",
       "Categories (5, object): ['Ideal' < 'Premium' < 'Very Good' < 'Good' < 'Fair']"
      ]
     },
     "execution_count": 18,
     "metadata": {},
     "output_type": "execute_result"
    }
   ],
   "source": [
    "a.cut.head(1)"
   ]
  },
  {
   "cell_type": "markdown",
   "id": "d550919f-af2a-4cff-8e3b-50744db7cc2d",
   "metadata": {},
   "source": [
    "**ordinal sırasını düzeltme işlemi**"
   ]
  },
  {
   "cell_type": "code",
   "execution_count": 19,
   "id": "aba1a8b8-dcdc-4fd8-960e-a3c0e51c579e",
   "metadata": {},
   "outputs": [
    {
     "data": {
      "text/plain": [
       "0    Ideal\n",
       "Name: cut, dtype: category\n",
       "Categories (5, object): ['Fair' < 'Good' < 'Very' < 'Premium' < 'Ideal']"
      ]
     },
     "execution_count": 19,
     "metadata": {},
     "output_type": "execute_result"
    }
   ],
   "source": [
    "from pandas.api.types import CategoricalDtype\n",
    "\n",
    "a.cut = a.cut.astype(CategoricalDtype(categories = [\"Fair\",\"Good\",\"Very\",\"Premium\",\"Ideal\"],ordered = True))\n",
    "a.cut.head(1)"
   ]
  },
  {
   "cell_type": "markdown",
   "id": "872ad167-51fa-405a-9b96-ecc79de7cc23",
   "metadata": {},
   "source": [
    "## Sütun Grafiğinin Oluşturulması (Barplot)"
   ]
  },
  {
   "cell_type": "code",
   "execution_count": 20,
   "id": "42bedc4c-c53c-4c1c-8fa9-ae9957c50569",
   "metadata": {},
   "outputs": [
    {
     "name": "stdout",
     "output_type": "stream",
     "text": [
      "Ideal      21551\n",
      "Premium    13791\n",
      "Good        4906\n",
      "Fair        1610\n",
      "Very           0\n",
      "Name: cut, dtype: int64 \n",
      "\n"
     ]
    }
   ],
   "source": [
    "# pandas aracılığıyla veri görselleştirme\n",
    "\n",
    "print(a[\"cut\"].value_counts(),\"\\n\")\n",
    "\n",
    "a[\"cut\"].value_counts().plot.barh().set_title(\"cut kategorik değişkeninin sınıflarının frekansları\");"
   ]
  },
  {
   "cell_type": "code",
   "execution_count": 22,
   "id": "1989f488-7754-4295-bef4-b7c7478ae361",
   "metadata": {},
   "outputs": [],
   "source": [
    "# yazdığımız kodun görüntüsünün iyi olması açısından yanyana yazmak yerine böyle bir yöntem de deneyebiliriz.\n",
    "(a[\"cut\"].value_counts()\n",
    ".plot.barh()\n",
    ".set_title(\"cut kategorik değişkeninin sınıflarının frekansları\"));"
   ]
  },
  {
   "cell_type": "code",
   "execution_count": 23,
   "id": "96f0d172-72ea-4738-aab5-49698dedaec1",
   "metadata": {},
   "outputs": [],
   "source": [
    "# üstte yapmış olduğumuz görselleştirme pandas aracılığıyla yaptığımı görselleştirmeydi ama genellikle seaborn modülüyle görselleştirme yapacağız.\n",
    "\n",
    "import seaborn as sns\n",
    "\n",
    "diamonds = sns.load_dataset('diamonds')\n",
    "a = diamonds.copy()\n",
    "sns.barplot(x = a[\"cut\"].value_counts().index, y = a[\"cut\"].value_counts(), data = a).set_title(\"cut kategorik değişkeninin sınıflarının frekansları\");"
   ]
  },
  {
   "cell_type": "code",
   "execution_count": 51,
   "id": "31d9a857-7132-4805-9f8a-769b4207ac66",
   "metadata": {},
   "outputs": [
    {
     "data": {
      "image/png": "[encoded data removed]",
      "text/plain": [
       "<Figure size 640x480 with 1 Axes>"
      ]
     },
     "metadata": {},
     "output_type": "display_data"
    }
   ],
   "source": [
    "(sns.barplot(x=a[\"cut\"].value_counts(), y=a[\"cut\"].value_counts().index, data=a)\n",
    " .set_title(\"cut kategorik değişkeninin sınıflarının frekansları\"));"
   ]
  },
  {
   "cell_type": "code",
   "execution_count": 52,
   "id": "afc88772-2a64-4fd0-be74-755592133fc2",
   "metadata": {},
   "outputs": [
    {
     "data": {
      "text/plain": [
       "Text(0, 0.5, 'Frekans sayısı')"
      ]
     },
     "execution_count": 52,
     "metadata": {},
     "output_type": "execute_result"
    },
    {
     "data": {
      "image/png": "[encoded data removed]",
      "text/plain": [
       "<Figure size 640x480 with 1 Axes>"
      ]
     },
     "metadata": {},
     "output_type": "display_data"
    }
   ],
   "source": [
    "#başka bir yol\n",
    "a = sns.countplot(x = 'cut',data = a );\n",
    "a.set_xlabel(\"Kalite seviyeleri\")\n",
    "a.set_ylabel(\"Frekans sayısı\")"
   ]
  },
  {
   "cell_type": "markdown",
   "id": "af393848-f0b9-4651-aa0a-5026e365e9b4",
   "metadata": {},
   "source": [
    "> **COUNTPLOT**: barplot ile aynı görevi yapar. çubukları kullanarak her kategorik kutudaki gözlem sayısını göstermek için kullanılır"
   ]
  },
  {
   "cell_type": "code",
   "execution_count": 30,
   "id": "cafdfc17-9b95-4a94-8147-17efcc878ca9",
   "metadata": {
    "tags": []
   },
   "outputs": [
    {
     "data": {
      "text/plain": [
       "\u001b[1;31mSignature:\u001b[0m\n",
       "\u001b[0msns\u001b[0m\u001b[1;33m.\u001b[0m\u001b[0mcountplot\u001b[0m\u001b[1;33m(\u001b[0m\u001b[1;33m\n",
       "\u001b[0m    \u001b[1;33m*\u001b[0m\u001b[1;33m,\u001b[0m\u001b[1;33m\n",
       "\u001b[0m    \u001b[0mx\u001b[0m\u001b[1;33m=\u001b[0m\u001b[1;32mNone\u001b[0m\u001b[1;33m,\u001b[0m\u001b[1;33m\n",
       "\u001b[0m    \u001b[0my\u001b[0m\u001b[1;33m=\u001b[0m\u001b[1;32mNone\u001b[0m\u001b[1;33m,\u001b[0m\u001b[1;33m\n",
       "\u001b[0m    \u001b[0mhue\u001b[0m\u001b[1;33m=\u001b[0m\u001b[1;32mNone\u001b[0m\u001b[1;33m,\u001b[0m\u001b[1;33m\n",
       "\u001b[0m    \u001b[0mdata\u001b[0m\u001b[1;33m=\u001b[0m\u001b[1;32mNone\u001b[0m\u001b[1;33m,\u001b[0m\u001b[1;33m\n",
       "\u001b[0m    \u001b[0morder\u001b[0m\u001b[1;33m=\u001b[0m\u001b[1;32mNone\u001b[0m\u001b[1;33m,\u001b[0m\u001b[1;33m\n",
       "\u001b[0m    \u001b[0mhue_order\u001b[0m\u001b[1;33m=\u001b[0m\u001b[1;32mNone\u001b[0m\u001b[1;33m,\u001b[0m\u001b[1;33m\n",
       "\u001b[0m    \u001b[0morient\u001b[0m\u001b[1;33m=\u001b[0m\u001b[1;32mNone\u001b[0m\u001b[1;33m,\u001b[0m\u001b[1;33m\n",
       "\u001b[0m    \u001b[0mcolor\u001b[0m\u001b[1;33m=\u001b[0m\u001b[1;32mNone\u001b[0m\u001b[1;33m,\u001b[0m\u001b[1;33m\n",
       "\u001b[0m    \u001b[0mpalette\u001b[0m\u001b[1;33m=\u001b[0m\u001b[1;32mNone\u001b[0m\u001b[1;33m,\u001b[0m\u001b[1;33m\n",
       "\u001b[0m    \u001b[0msaturation\u001b[0m\u001b[1;33m=\u001b[0m\u001b[1;36m0.75\u001b[0m\u001b[1;33m,\u001b[0m\u001b[1;33m\n",
       "\u001b[0m    \u001b[0mdodge\u001b[0m\u001b[1;33m=\u001b[0m\u001b[1;32mTrue\u001b[0m\u001b[1;33m,\u001b[0m\u001b[1;33m\n",
       "\u001b[0m    \u001b[0max\u001b[0m\u001b[1;33m=\u001b[0m\u001b[1;32mNone\u001b[0m\u001b[1;33m,\u001b[0m\u001b[1;33m\n",
       "\u001b[0m    \u001b[1;33m**\u001b[0m\u001b[0mkwargs\u001b[0m\u001b[1;33m,\u001b[0m\u001b[1;33m\n",
       "\u001b[0m\u001b[1;33m)\u001b[0m\u001b[1;33m\u001b[0m\u001b[1;33m\u001b[0m\u001b[0m\n",
       "\u001b[1;31mDocstring:\u001b[0m\n",
       "Show the counts of observations in each categorical bin using bars.\n",
       "\n",
       "A count plot can be thought of as a histogram across a categorical, instead\n",
       "of quantitative, variable. The basic API and options are identical to those\n",
       "for :func:`barplot`, so you can compare counts across nested variables.\n",
       "\n",
       "\n",
       "Input data can be passed in a variety of formats, including:\n",
       "\n",
       "- Vectors of data represented as lists, numpy arrays, or pandas Series\n",
       "  objects passed directly to the ``x``, ``y``, and/or ``hue`` parameters.\n",
       "- A \"long-form\" DataFrame, in which case the ``x``, ``y``, and ``hue``\n",
       "  variables will determine how the data are plotted.\n",
       "- A \"wide-form\" DataFrame, such that each numeric column will be plotted.\n",
       "- An array or list of vectors.\n",
       "\n",
       "In most cases, it is possible to use numpy or Python objects, but pandas\n",
       "objects are preferable because the associated names will be used to\n",
       "annotate the axes. Additionally, you can use Categorical types for the\n",
       "grouping variables to control the order of plot elements.    \n",
       "\n",
       "This function always treats one of the variables as categorical and\n",
       "draws data at ordinal positions (0, 1, ... n) on the relevant axis, even\n",
       "when the data has a numeric or date type.\n",
       "\n",
       "See the :ref:`tutorial <categorical_tutorial>` for more information.    \n",
       "\n",
       "Parameters\n",
       "----------\n",
       "x, y, hue : names of variables in ``data`` or vector data, optional\n",
       "    Inputs for plotting long-form data. See examples for interpretation.        \n",
       "data : DataFrame, array, or list of arrays, optional\n",
       "    Dataset for plotting. If ``x`` and ``y`` are absent, this is\n",
       "    interpreted as wide-form. Otherwise it is expected to be long-form.    \n",
       "order, hue_order : lists of strings, optional\n",
       "    Order to plot the categorical levels in, otherwise the levels are\n",
       "    inferred from the data objects.        \n",
       "orient : \"v\" | \"h\", optional\n",
       "    Orientation of the plot (vertical or horizontal). This is usually\n",
       "    inferred based on the type of the input variables, but it can be used\n",
       "    to resolve ambiguity when both `x` and `y` are numeric or when\n",
       "    plotting wide-form data.    \n",
       "color : matplotlib color, optional\n",
       "    Color for all of the elements, or seed for a gradient palette.    \n",
       "palette : palette name, list, or dict\n",
       "    Colors to use for the different levels of the ``hue`` variable. Should\n",
       "    be something that can be interpreted by :func:`color_palette`, or a\n",
       "    dictionary mapping hue levels to matplotlib colors.    \n",
       "saturation : float, optional\n",
       "    Proportion of the original saturation to draw colors at. Large patches\n",
       "    often look better with slightly desaturated colors, but set this to\n",
       "    ``1`` if you want the plot colors to perfectly match the input color\n",
       "    spec.    \n",
       "dodge : bool, optional\n",
       "    When hue nesting is used, whether elements should be shifted along the\n",
       "    categorical axis.    \n",
       "ax : matplotlib Axes, optional\n",
       "    Axes object to draw the plot onto, otherwise uses the current Axes.    \n",
       "kwargs : key, value mappings\n",
       "    Other keyword arguments are passed through to\n",
       "    :meth:`matplotlib.axes.Axes.bar`.\n",
       "\n",
       "Returns\n",
       "-------\n",
       "ax : matplotlib Axes\n",
       "    Returns the Axes object with the plot drawn onto it.    \n",
       "\n",
       "See Also\n",
       "--------\n",
       "barplot : Show point estimates and confidence intervals using bars.    \n",
       "catplot : Combine a categorical plot with a :class:`FacetGrid`.    \n",
       "\n",
       "Examples\n",
       "--------\n",
       "\n",
       "Show value counts for a single categorical variable:\n",
       "\n",
       ".. plot::\n",
       "    :context: close-figs\n",
       "\n",
       "    >>> import seaborn as sns\n",
       "    >>> sns.set_theme(style=\"darkgrid\")\n",
       "    >>> titanic = sns.load_dataset(\"titanic\")\n",
       "    >>> ax = sns.countplot(x=\"class\", data=titanic)\n",
       "\n",
       "Show value counts for two categorical variables:\n",
       "\n",
       ".. plot::\n",
       "    :context: close-figs\n",
       "\n",
       "    >>> ax = sns.countplot(x=\"class\", hue=\"who\", data=titanic)\n",
       "\n",
       "Plot the bars horizontally:\n",
       "\n",
       ".. plot::\n",
       "    :context: close-figs\n",
       "\n",
       "    >>> ax = sns.countplot(y=\"class\", hue=\"who\", data=titanic)\n",
       "\n",
       "Use a different color palette:\n",
       "\n",
       ".. plot::\n",
       "    :context: close-figs\n",
       "\n",
       "    >>> ax = sns.countplot(x=\"who\", data=titanic, palette=\"Set3\")\n",
       "\n",
       "Use :meth:`matplotlib.axes.Axes.bar` parameters to control the style.\n",
       "\n",
       ".. plot::\n",
       "    :context: close-figs\n",
       "\n",
       "    >>> ax = sns.countplot(x=\"who\", data=titanic,\n",
       "    ...                    facecolor=(0, 0, 0, 0),\n",
       "    ...                    linewidth=5,\n",
       "    ...                    edgecolor=sns.color_palette(\"dark\", 3))\n",
       "\n",
       "Use :func:`catplot` to combine a :func:`countplot` and a\n",
       ":class:`FacetGrid`. This allows grouping within additional categorical\n",
       "variables. Using :func:`catplot` is safer than using :class:`FacetGrid`\n",
       "directly, as it ensures synchronization of variable order across facets:\n",
       "\n",
       ".. plot::\n",
       "    :context: close-figs\n",
       "\n",
       "    >>> g = sns.catplot(x=\"class\", hue=\"who\", col=\"survived\",\n",
       "    ...                 data=titanic, kind=\"count\",\n",
       "    ...                 height=4, aspect=.7);\n",
       "\u001b[1;31mFile:\u001b[0m      c:\\users\\suruc\\anaconda3\\lib\\site-packages\\seaborn\\categorical.py\n",
       "\u001b[1;31mType:\u001b[0m      function\n"
      ]
     },
     "metadata": {},
     "output_type": "display_data"
    }
   ],
   "source": [
    "?sns.countplot"
   ]
  },
  {
   "cell_type": "markdown",
   "id": "936b988e-eb5d-40d5-964f-1916584d4d86",
   "metadata": {},
   "source": [
    "## Sütun Grafik Çaprazlamalar"
   ]
  },
  {
   "cell_type": "code",
   "execution_count": 2,
   "id": "a71d4956-2885-4274-b72e-4692d43dd017",
   "metadata": {
    "tags": []
   },
   "outputs": [
    {
     "data": {
      "text/html": [
       "<div>\n",
       "<style scoped>\n",
       "    .dataframe tbody tr th:only-of-type {\n",
       "        vertical-align: middle;\n",
       "    }\n",
       "\n",
       "    .dataframe tbody tr th {\n",
       "        vertical-align: top;\n",
       "    }\n",
       "\n",
       "    .dataframe thead th {\n",
       "        text-align: right;\n",
       "    }\n",
       "</style>\n",
       "<table border=\"1\" class=\"dataframe\">\n",
       "  <thead>\n",
       "    <tr style=\"text-align: right;\">\n",
       "      <th></th>\n",
       "      <th>carat</th>\n",
       "      <th>cut</th>\n",
       "      <th>color</th>\n",
       "      <th>clarity</th>\n",
       "      <th>depth</th>\n",
       "      <th>table</th>\n",
       "      <th>price</th>\n",
       "      <th>x</th>\n",
       "      <th>y</th>\n",
       "      <th>z</th>\n",
       "    </tr>\n",
       "  </thead>\n",
       "  <tbody>\n",
       "    <tr>\n",
       "      <th>0</th>\n",
       "      <td>0.23</td>\n",
       "      <td>Ideal</td>\n",
       "      <td>E</td>\n",
       "      <td>SI2</td>\n",
       "      <td>61.5</td>\n",
       "      <td>55.0</td>\n",
       "      <td>326</td>\n",
       "      <td>3.95</td>\n",
       "      <td>3.98</td>\n",
       "      <td>2.43</td>\n",
       "    </tr>\n",
       "    <tr>\n",
       "      <th>1</th>\n",
       "      <td>0.21</td>\n",
       "      <td>Premium</td>\n",
       "      <td>E</td>\n",
       "      <td>SI1</td>\n",
       "      <td>59.8</td>\n",
       "      <td>61.0</td>\n",
       "      <td>326</td>\n",
       "      <td>3.89</td>\n",
       "      <td>3.84</td>\n",
       "      <td>2.31</td>\n",
       "    </tr>\n",
       "    <tr>\n",
       "      <th>2</th>\n",
       "      <td>0.23</td>\n",
       "      <td>Good</td>\n",
       "      <td>E</td>\n",
       "      <td>VS1</td>\n",
       "      <td>56.9</td>\n",
       "      <td>65.0</td>\n",
       "      <td>327</td>\n",
       "      <td>4.05</td>\n",
       "      <td>4.07</td>\n",
       "      <td>2.31</td>\n",
       "    </tr>\n",
       "    <tr>\n",
       "      <th>3</th>\n",
       "      <td>0.29</td>\n",
       "      <td>Premium</td>\n",
       "      <td>I</td>\n",
       "      <td>VS2</td>\n",
       "      <td>62.4</td>\n",
       "      <td>58.0</td>\n",
       "      <td>334</td>\n",
       "      <td>4.20</td>\n",
       "      <td>4.23</td>\n",
       "      <td>2.63</td>\n",
       "    </tr>\n",
       "    <tr>\n",
       "      <th>4</th>\n",
       "      <td>0.31</td>\n",
       "      <td>Good</td>\n",
       "      <td>J</td>\n",
       "      <td>SI2</td>\n",
       "      <td>63.3</td>\n",
       "      <td>58.0</td>\n",
       "      <td>335</td>\n",
       "      <td>4.34</td>\n",
       "      <td>4.35</td>\n",
       "      <td>2.75</td>\n",
       "    </tr>\n",
       "  </tbody>\n",
       "</table>\n",
       "</div>"
      ],
      "text/plain": [
       "   carat      cut color clarity  depth  table  price     x     y     z\n",
       "0   0.23    Ideal     E     SI2   61.5   55.0    326  3.95  3.98  2.43\n",
       "1   0.21  Premium     E     SI1   59.8   61.0    326  3.89  3.84  2.31\n",
       "2   0.23     Good     E     VS1   56.9   65.0    327  4.05  4.07  2.31\n",
       "3   0.29  Premium     I     VS2   62.4   58.0    334  4.20  4.23  2.63\n",
       "4   0.31     Good     J     SI2   63.3   58.0    335  4.34  4.35  2.75"
      ]
     },
     "execution_count": 2,
     "metadata": {},
     "output_type": "execute_result"
    }
   ],
   "source": [
    "import seaborn as sns\n",
    "from pandas.api.types import CategoricalDtype\n",
    "diamonds = sns.load_dataset('diamonds')\n",
    "df = diamonds.copy()\n",
    "df.cut = df.cut.astype(CategoricalDtype(categories=[\"Fair\",\"Good\",\"Very Good\",\"Premium\",\"Ideal\"],ordered = True))\n",
    "df.head()"
   ]
  },
  {
   "cell_type": "code",
   "execution_count": 3,
   "id": "fbe1b3ef-aa57-4201-b90e-32f04fcc8799",
   "metadata": {},
   "outputs": [
    {
     "data": {
      "image/png": "[encoded data removed]",
      "text/plain": [
       "<Figure size 500x500 with 1 Axes>"
      ]
     },
     "metadata": {},
     "output_type": "display_data"
    }
   ],
   "source": [
    "sns.catplot(x = \"cut\", y = \"price\" ,data=df);\n",
    "\n",
    "# price değişkeni içerisinde bulunan bilgileri diğer değişkenlerdeki bilgiler etkileyebilir. Renk gibi vs\n",
    "# fair düzeyinde 7500 ve altındaki fiyatlarda yoğunluk gözlemlenirken üstünde seyreklik var.\n",
    "# kalite arttıkça price sürekli değişkenin her kategoride yoğunlukta olduğu görülmektedir."
   ]
  },
  {
   "cell_type": "code",
   "execution_count": null,
   "id": "282c96fb-bdee-43fe-b77a-b4f184534085",
   "metadata": {
    "collapsed": true,
    "jupyter": {
     "outputs_hidden": true
    },
    "tags": []
   },
   "outputs": [
    {
     "data": {
      "text/plain": [
       "\u001b[1;31mSignature:\u001b[0m\n",
       "\u001b[0msns\u001b[0m\u001b[1;33m.\u001b[0m\u001b[0mcatplot\u001b[0m\u001b[1;33m(\u001b[0m\u001b[1;33m\n",
       "\u001b[0m    \u001b[0mdata\u001b[0m\u001b[1;33m=\u001b[0m\u001b[1;32mNone\u001b[0m\u001b[1;33m,\u001b[0m\u001b[1;33m\n",
       "\u001b[0m    \u001b[1;33m*\u001b[0m\u001b[1;33m,\u001b[0m\u001b[1;33m\n",
       "\u001b[0m    \u001b[0mx\u001b[0m\u001b[1;33m=\u001b[0m\u001b[1;32mNone\u001b[0m\u001b[1;33m,\u001b[0m\u001b[1;33m\n",
       "\u001b[0m    \u001b[0my\u001b[0m\u001b[1;33m=\u001b[0m\u001b[1;32mNone\u001b[0m\u001b[1;33m,\u001b[0m\u001b[1;33m\n",
       "\u001b[0m    \u001b[0mhue\u001b[0m\u001b[1;33m=\u001b[0m\u001b[1;32mNone\u001b[0m\u001b[1;33m,\u001b[0m\u001b[1;33m\n",
       "\u001b[0m    \u001b[0mrow\u001b[0m\u001b[1;33m=\u001b[0m\u001b[1;32mNone\u001b[0m\u001b[1;33m,\u001b[0m\u001b[1;33m\n",
       "\u001b[0m    \u001b[0mcol\u001b[0m\u001b[1;33m=\u001b[0m\u001b[1;32mNone\u001b[0m\u001b[1;33m,\u001b[0m\u001b[1;33m\n",
       "\u001b[0m    \u001b[0mcol_wrap\u001b[0m\u001b[1;33m=\u001b[0m\u001b[1;32mNone\u001b[0m\u001b[1;33m,\u001b[0m\u001b[1;33m\n",
       "\u001b[0m    \u001b[0mestimator\u001b[0m\u001b[1;33m=\u001b[0m\u001b[1;34m'mean'\u001b[0m\u001b[1;33m,\u001b[0m\u001b[1;33m\n",
       "\u001b[0m    \u001b[0merrorbar\u001b[0m\u001b[1;33m=\u001b[0m\u001b[1;33m(\u001b[0m\u001b[1;34m'ci'\u001b[0m\u001b[1;33m,\u001b[0m \u001b[1;36m95\u001b[0m\u001b[1;33m)\u001b[0m\u001b[1;33m,\u001b[0m\u001b[1;33m\n",
       "\u001b[0m    \u001b[0mn_boot\u001b[0m\u001b[1;33m=\u001b[0m\u001b[1;36m1000\u001b[0m\u001b[1;33m,\u001b[0m\u001b[1;33m\n",
       "\u001b[0m    \u001b[0munits\u001b[0m\u001b[1;33m=\u001b[0m\u001b[1;32mNone\u001b[0m\u001b[1;33m,\u001b[0m\u001b[1;33m\n",
       "\u001b[0m    \u001b[0mseed\u001b[0m\u001b[1;33m=\u001b[0m\u001b[1;32mNone\u001b[0m\u001b[1;33m,\u001b[0m\u001b[1;33m\n",
       "\u001b[0m    \u001b[0morder\u001b[0m\u001b[1;33m=\u001b[0m\u001b[1;32mNone\u001b[0m\u001b[1;33m,\u001b[0m\u001b[1;33m\n",
       "\u001b[0m    \u001b[0mhue_order\u001b[0m\u001b[1;33m=\u001b[0m\u001b[1;32mNone\u001b[0m\u001b[1;33m,\u001b[0m\u001b[1;33m\n",
       "\u001b[0m    \u001b[0mrow_order\u001b[0m\u001b[1;33m=\u001b[0m\u001b[1;32mNone\u001b[0m\u001b[1;33m,\u001b[0m\u001b[1;33m\n",
       "\u001b[0m    \u001b[0mcol_order\u001b[0m\u001b[1;33m=\u001b[0m\u001b[1;32mNone\u001b[0m\u001b[1;33m,\u001b[0m\u001b[1;33m\n",
       "\u001b[0m    \u001b[0mheight\u001b[0m\u001b[1;33m=\u001b[0m\u001b[1;36m5\u001b[0m\u001b[1;33m,\u001b[0m\u001b[1;33m\n",
       "\u001b[0m    \u001b[0maspect\u001b[0m\u001b[1;33m=\u001b[0m\u001b[1;36m1\u001b[0m\u001b[1;33m,\u001b[0m\u001b[1;33m\n",
       "\u001b[0m    \u001b[0mkind\u001b[0m\u001b[1;33m=\u001b[0m\u001b[1;34m'strip'\u001b[0m\u001b[1;33m,\u001b[0m\u001b[1;33m\n",
       "\u001b[0m    \u001b[0mnative_scale\u001b[0m\u001b[1;33m=\u001b[0m\u001b[1;32mFalse\u001b[0m\u001b[1;33m,\u001b[0m\u001b[1;33m\n",
       "\u001b[0m    \u001b[0mformatter\u001b[0m\u001b[1;33m=\u001b[0m\u001b[1;32mNone\u001b[0m\u001b[1;33m,\u001b[0m\u001b[1;33m\n",
       "\u001b[0m    \u001b[0morient\u001b[0m\u001b[1;33m=\u001b[0m\u001b[1;32mNone\u001b[0m\u001b[1;33m,\u001b[0m\u001b[1;33m\n",
       "\u001b[0m    \u001b[0mcolor\u001b[0m\u001b[1;33m=\u001b[0m\u001b[1;32mNone\u001b[0m\u001b[1;33m,\u001b[0m\u001b[1;33m\n",
       "\u001b[0m    \u001b[0mpalette\u001b[0m\u001b[1;33m=\u001b[0m\u001b[1;32mNone\u001b[0m\u001b[1;33m,\u001b[0m\u001b[1;33m\n",
       "\u001b[0m    \u001b[0mhue_norm\u001b[0m\u001b[1;33m=\u001b[0m\u001b[1;32mNone\u001b[0m\u001b[1;33m,\u001b[0m\u001b[1;33m\n",
       "\u001b[0m    \u001b[0mlegend\u001b[0m\u001b[1;33m=\u001b[0m\u001b[1;34m'auto'\u001b[0m\u001b[1;33m,\u001b[0m\u001b[1;33m\n",
       "\u001b[0m    \u001b[0mlegend_out\u001b[0m\u001b[1;33m=\u001b[0m\u001b[1;32mTrue\u001b[0m\u001b[1;33m,\u001b[0m\u001b[1;33m\n",
       "\u001b[0m    \u001b[0msharex\u001b[0m\u001b[1;33m=\u001b[0m\u001b[1;32mTrue\u001b[0m\u001b[1;33m,\u001b[0m\u001b[1;33m\n",
       "\u001b[0m    \u001b[0msharey\u001b[0m\u001b[1;33m=\u001b[0m\u001b[1;32mTrue\u001b[0m\u001b[1;33m,\u001b[0m\u001b[1;33m\n",
       "\u001b[0m    \u001b[0mmargin_titles\u001b[0m\u001b[1;33m=\u001b[0m\u001b[1;32mFalse\u001b[0m\u001b[1;33m,\u001b[0m\u001b[1;33m\n",
       "\u001b[0m    \u001b[0mfacet_kws\u001b[0m\u001b[1;33m=\u001b[0m\u001b[1;32mNone\u001b[0m\u001b[1;33m,\u001b[0m\u001b[1;33m\n",
       "\u001b[0m    \u001b[0mci\u001b[0m\u001b[1;33m=\u001b[0m\u001b[1;34m'deprecated'\u001b[0m\u001b[1;33m,\u001b[0m\u001b[1;33m\n",
       "\u001b[0m    \u001b[1;33m**\u001b[0m\u001b[0mkwargs\u001b[0m\u001b[1;33m,\u001b[0m\u001b[1;33m\n",
       "\u001b[0m\u001b[1;33m)\u001b[0m\u001b[1;33m\u001b[0m\u001b[1;33m\u001b[0m\u001b[0m\n",
       "\u001b[1;31mDocstring:\u001b[0m\n",
       "Figure-level interface for drawing categorical plots onto a FacetGrid.\n",
       "\n",
       "This function provides access to several axes-level functions that\n",
       "show the relationship between a numerical and one or more categorical\n",
       "variables using one of several visual representations. The `kind`\n",
       "parameter selects the underlying axes-level function to use:\n",
       "\n",
       "Categorical scatterplots:\n",
       "\n",
       "- :func:`stripplot` (with `kind=\"strip\"`; the default)\n",
       "- :func:`swarmplot` (with `kind=\"swarm\"`)\n",
       "\n",
       "Categorical distribution plots:\n",
       "\n",
       "- :func:`boxplot` (with `kind=\"box\"`)\n",
       "- :func:`violinplot` (with `kind=\"violin\"`)\n",
       "- :func:`boxenplot` (with `kind=\"boxen\"`)\n",
       "\n",
       "Categorical estimate plots:\n",
       "\n",
       "- :func:`pointplot` (with `kind=\"point\"`)\n",
       "- :func:`barplot` (with `kind=\"bar\"`)\n",
       "- :func:`countplot` (with `kind=\"count\"`)\n",
       "\n",
       "Extra keyword arguments are passed to the underlying function, so you\n",
       "should refer to the documentation for each to see kind-specific options.\n",
       "\n",
       "Note that unlike when using the axes-level functions directly, data must be\n",
       "passed in a long-form DataFrame with variables specified by passing strings\n",
       "to `x`, `y`, `hue`, etc.\n",
       "\n",
       ".. note::\n",
       "    This function always treats one of the variables as categorical and\n",
       "    draws data at ordinal positions (0, 1, ... n) on the relevant axis,\n",
       "    even when the data has a numeric or date type.\n",
       "\n",
       "See the :ref:`tutorial <categorical_tutorial>` for more information.    \n",
       "\n",
       "After plotting, the :class:`FacetGrid` with the plot is returned and can\n",
       "be used directly to tweak supporting plot details or add other layers.\n",
       "\n",
       "Parameters\n",
       "----------\n",
       "data : DataFrame\n",
       "    Long-form (tidy) dataset for plotting. Each column should correspond\n",
       "    to a variable, and each row should correspond to an observation.    \n",
       "x, y, hue : names of variables in ``data``\n",
       "    Inputs for plotting long-form data. See examples for interpretation.    \n",
       "row, col : names of variables in `data`, optional\n",
       "    Categorical variables that will determine the faceting of the grid.\n",
       "col_wrap : int\n",
       "    \"Wrap\" the column variable at this width, so that the column facets\n",
       "    span multiple rows. Incompatible with a ``row`` facet.    \n",
       "estimator : string or callable that maps vector -> scalar, optional\n",
       "    Statistical function to estimate within each categorical bin.\n",
       "errorbar : string, (string, number) tuple, or callable\n",
       "    Name of errorbar method (either \"ci\", \"pi\", \"se\", or \"sd\"), or a tuple\n",
       "    with a method name and a level parameter, or a function that maps from a\n",
       "    vector to a (min, max) interval.\n",
       "n_boot : int, optional\n",
       "    Number of bootstrap samples used to compute confidence intervals.\n",
       "units : name of variable in ``data`` or vector data, optional\n",
       "    Identifier of sampling units, which will be used to perform a\n",
       "    multilevel bootstrap and account for repeated measures design.\n",
       "seed : int, numpy.random.Generator, or numpy.random.RandomState, optional\n",
       "    Seed or random number generator for reproducible bootstrapping.    \n",
       "order, hue_order : lists of strings, optional\n",
       "    Order to plot the categorical levels in; otherwise the levels are\n",
       "    inferred from the data objects.    \n",
       "row_order, col_order : lists of strings, optional\n",
       "    Order to organize the rows and/or columns of the grid in, otherwise the\n",
       "    orders are inferred from the data objects.\n",
       "height : scalar\n",
       "    Height (in inches) of each facet. See also: ``aspect``.    \n",
       "aspect : scalar\n",
       "    Aspect ratio of each facet, so that ``aspect * height`` gives the width\n",
       "    of each facet in inches.    \n",
       "kind : str, optional\n",
       "    The kind of plot to draw, corresponds to the name of a categorical\n",
       "    axes-level plotting function. Options are: \"strip\", \"swarm\", \"box\", \"violin\",\n",
       "    \"boxen\", \"point\", \"bar\", or \"count\".\n",
       "native_scale : bool, optional\n",
       "    When True, numeric or datetime values on the categorical axis will maintain\n",
       "    their original scaling rather than being converted to fixed indices.    \n",
       "formatter : callable, optional\n",
       "    Function for converting categorical data into strings. Affects both grouping\n",
       "    and tick labels.    \n",
       "orient : \"v\" | \"h\", optional\n",
       "    Orientation of the plot (vertical or horizontal). This is usually\n",
       "    inferred based on the type of the input variables, but it can be used\n",
       "    to resolve ambiguity when both `x` and `y` are numeric or when\n",
       "    plotting wide-form data.    \n",
       "color : matplotlib color, optional\n",
       "    Single color for the elements in the plot.    \n",
       "palette : palette name, list, or dict\n",
       "    Colors to use for the different levels of the ``hue`` variable. Should\n",
       "    be something that can be interpreted by :func:`color_palette`, or a\n",
       "    dictionary mapping hue levels to matplotlib colors.    \n",
       "hue_norm : tuple or :class:`matplotlib.colors.Normalize` object\n",
       "    Normalization in data units for colormap applied to the `hue`\n",
       "    variable when it is numeric. Not relevant if `hue` is categorical.    \n",
       "legend : str or bool, optional\n",
       "    Set to `False` to disable the legend. With `strip` or `swarm` plots,\n",
       "    this also accepts a string, as described in the axes-level docstrings.\n",
       "legend_out : bool\n",
       "    If ``True``, the figure size will be extended, and the legend will be\n",
       "    drawn outside the plot on the center right.    \n",
       "share{x,y} : bool, 'col', or 'row' optional\n",
       "    If true, the facets will share y axes across columns and/or x axes\n",
       "    across rows.    \n",
       "margin_titles : bool\n",
       "    If ``True``, the titles for the row variable are drawn to the right of\n",
       "    the last column. This option is experimental and may not work in all\n",
       "    cases.    \n",
       "facet_kws : dict, optional\n",
       "    Dictionary of other keyword arguments to pass to :class:`FacetGrid`.\n",
       "kwargs : key, value pairings\n",
       "    Other keyword arguments are passed through to the underlying plotting\n",
       "    function.\n",
       "\n",
       "Returns\n",
       "-------\n",
       "g : :class:`FacetGrid`\n",
       "    Returns the :class:`FacetGrid` object with the plot on it for further\n",
       "    tweaking.\n",
       "\n",
       "Examples\n",
       "--------\n",
       "\n",
       ".. include:: ../docstrings/catplot.rst\n",
       "\u001b[1;31mFile:\u001b[0m      c:\\users\\suruc\\anaconda3\\lib\\site-packages\\seaborn\\categorical.py\n",
       "\u001b[1;31mType:\u001b[0m      function\n"
      ]
     },
     "metadata": {},
     "output_type": "display_data"
    }
   ],
   "source": [
    "?sns.catplot"
   ]
  },
  {
   "cell_type": "code",
   "execution_count": 5,
   "id": "369d193f-d2fd-412d-9af3-335e61f0216b",
   "metadata": {
    "tags": []
   },
   "outputs": [],
   "source": [
    "# şimdi ise üstteki tek boyutlu bir değişkenin yanına farklı bir boyut ekleyerek farklı bir oluşumun gösterleştirilmesi\n",
    "\n",
    "\n",
    "sns.barplot(x= \"cut\",y=\"price\",hue= \"color\",data=df, order = [\"Ideal\",\"Very Good\",\"Good\",\"Premium\",\"Fair\"], palette = [\"green\",\"yellow\",\"purple\",\"pink\",\"black\"], saturation=1);\n",
    "\n",
    "\n",
    "\n",
    "\n",
    "# grafiğe bakılınca her cut kategorisinde hemen hemen I ve J sınıflarının 4000 değerinin üstünde olduğu görülüyor.\n",
    "# öte yandan D ve E color sınıfları ise fair haricinde çoğu düzeyde 4000 değerinin altında kalıyor.\n",
    "\n",
    "\n",
    "# Price değişkeni 0 ile 1800 arasında değeleri temsil ediyordu peki aşağıdaki price neden 6000 ile sınırlandırılmış ? çubuklar bu aralıkta nasıl temsil edilmiş ?\n",
    "# Öncelikle büyük resmi görmek gerekir. Seaborn yüksek seviyede bir kütüphane olduğu için biz 3.boyutu(değişkeni) eklediğimizde\n",
    "# teknik olarak arka planda veriyi temsil eder . nasıl mı ?\n",
    "\n",
    "#!!!\n",
    "# yani 2 kategorik değişken aşağıdaki gibi birarada bulunduğunda \n",
    "# y eksenindeki price değerleri 2 değişkenin groupby sonucu price değişkeninin ortalamasıdır.\n",
    "# çubuklar ise 2 değişkenin groupby sonucu price değişkenin standart sapmasıdır."
   ]
  },
  {
   "cell_type": "code",
   "execution_count": 6,
   "id": "420659a4-4d89-4ef3-ab4a-d0752620f726",
   "metadata": {},
   "outputs": [
    {
     "data": {
      "text/html": [
       "<div>\n",
       "<style scoped>\n",
       "    .dataframe tbody tr th:only-of-type {\n",
       "        vertical-align: middle;\n",
       "    }\n",
       "\n",
       "    .dataframe tbody tr th {\n",
       "        vertical-align: top;\n",
       "    }\n",
       "\n",
       "    .dataframe thead th {\n",
       "        text-align: right;\n",
       "    }\n",
       "</style>\n",
       "<table border=\"1\" class=\"dataframe\">\n",
       "  <thead>\n",
       "    <tr style=\"text-align: right;\">\n",
       "      <th></th>\n",
       "      <th></th>\n",
       "      <th>price</th>\n",
       "    </tr>\n",
       "    <tr>\n",
       "      <th>cut</th>\n",
       "      <th>color</th>\n",
       "      <th></th>\n",
       "    </tr>\n",
       "  </thead>\n",
       "  <tbody>\n",
       "    <tr>\n",
       "      <th rowspan=\"7\" valign=\"top\">Fair</th>\n",
       "      <th>D</th>\n",
       "      <td>4291.061350</td>\n",
       "    </tr>\n",
       "    <tr>\n",
       "      <th>E</th>\n",
       "      <td>3682.312500</td>\n",
       "    </tr>\n",
       "    <tr>\n",
       "      <th>F</th>\n",
       "      <td>3827.003205</td>\n",
       "    </tr>\n",
       "    <tr>\n",
       "      <th>G</th>\n",
       "      <td>4239.254777</td>\n",
       "    </tr>\n",
       "    <tr>\n",
       "      <th>H</th>\n",
       "      <td>5135.683168</td>\n",
       "    </tr>\n",
       "    <tr>\n",
       "      <th>I</th>\n",
       "      <td>4685.445714</td>\n",
       "    </tr>\n",
       "    <tr>\n",
       "      <th>J</th>\n",
       "      <td>4975.655462</td>\n",
       "    </tr>\n",
       "    <tr>\n",
       "      <th rowspan=\"7\" valign=\"top\">Good</th>\n",
       "      <th>D</th>\n",
       "      <td>3405.382175</td>\n",
       "    </tr>\n",
       "    <tr>\n",
       "      <th>E</th>\n",
       "      <td>3423.644159</td>\n",
       "    </tr>\n",
       "    <tr>\n",
       "      <th>F</th>\n",
       "      <td>3495.750275</td>\n",
       "    </tr>\n",
       "    <tr>\n",
       "      <th>G</th>\n",
       "      <td>4123.482204</td>\n",
       "    </tr>\n",
       "    <tr>\n",
       "      <th>H</th>\n",
       "      <td>4276.254986</td>\n",
       "    </tr>\n",
       "    <tr>\n",
       "      <th>I</th>\n",
       "      <td>5078.532567</td>\n",
       "    </tr>\n",
       "    <tr>\n",
       "      <th>J</th>\n",
       "      <td>4574.172638</td>\n",
       "    </tr>\n",
       "    <tr>\n",
       "      <th rowspan=\"7\" valign=\"top\">Very Good</th>\n",
       "      <th>D</th>\n",
       "      <td>3470.467284</td>\n",
       "    </tr>\n",
       "    <tr>\n",
       "      <th>E</th>\n",
       "      <td>3214.652083</td>\n",
       "    </tr>\n",
       "    <tr>\n",
       "      <th>F</th>\n",
       "      <td>3778.820240</td>\n",
       "    </tr>\n",
       "    <tr>\n",
       "      <th>G</th>\n",
       "      <td>3872.753806</td>\n",
       "    </tr>\n",
       "    <tr>\n",
       "      <th>H</th>\n",
       "      <td>4535.390351</td>\n",
       "    </tr>\n",
       "    <tr>\n",
       "      <th>I</th>\n",
       "      <td>5255.879568</td>\n",
       "    </tr>\n",
       "    <tr>\n",
       "      <th>J</th>\n",
       "      <td>5103.513274</td>\n",
       "    </tr>\n",
       "    <tr>\n",
       "      <th rowspan=\"7\" valign=\"top\">Premium</th>\n",
       "      <th>D</th>\n",
       "      <td>3631.292576</td>\n",
       "    </tr>\n",
       "    <tr>\n",
       "      <th>E</th>\n",
       "      <td>3538.914420</td>\n",
       "    </tr>\n",
       "    <tr>\n",
       "      <th>F</th>\n",
       "      <td>4324.890176</td>\n",
       "    </tr>\n",
       "    <tr>\n",
       "      <th>G</th>\n",
       "      <td>4500.742134</td>\n",
       "    </tr>\n",
       "    <tr>\n",
       "      <th>H</th>\n",
       "      <td>5216.706780</td>\n",
       "    </tr>\n",
       "    <tr>\n",
       "      <th>I</th>\n",
       "      <td>5946.180672</td>\n",
       "    </tr>\n",
       "    <tr>\n",
       "      <th>J</th>\n",
       "      <td>6294.591584</td>\n",
       "    </tr>\n",
       "    <tr>\n",
       "      <th rowspan=\"7\" valign=\"top\">Ideal</th>\n",
       "      <th>D</th>\n",
       "      <td>2629.094566</td>\n",
       "    </tr>\n",
       "    <tr>\n",
       "      <th>E</th>\n",
       "      <td>2597.550090</td>\n",
       "    </tr>\n",
       "    <tr>\n",
       "      <th>F</th>\n",
       "      <td>3374.939362</td>\n",
       "    </tr>\n",
       "    <tr>\n",
       "      <th>G</th>\n",
       "      <td>3720.706388</td>\n",
       "    </tr>\n",
       "    <tr>\n",
       "      <th>H</th>\n",
       "      <td>3889.334831</td>\n",
       "    </tr>\n",
       "    <tr>\n",
       "      <th>I</th>\n",
       "      <td>4451.970377</td>\n",
       "    </tr>\n",
       "    <tr>\n",
       "      <th>J</th>\n",
       "      <td>4918.186384</td>\n",
       "    </tr>\n",
       "  </tbody>\n",
       "</table>\n",
       "</div>"
      ],
      "text/plain": [
       "                       price\n",
       "cut       color             \n",
       "Fair      D      4291.061350\n",
       "          E      3682.312500\n",
       "          F      3827.003205\n",
       "          G      4239.254777\n",
       "          H      5135.683168\n",
       "          I      4685.445714\n",
       "          J      4975.655462\n",
       "Good      D      3405.382175\n",
       "          E      3423.644159\n",
       "          F      3495.750275\n",
       "          G      4123.482204\n",
       "          H      4276.254986\n",
       "          I      5078.532567\n",
       "          J      4574.172638\n",
       "Very Good D      3470.467284\n",
       "          E      3214.652083\n",
       "          F      3778.820240\n",
       "          G      3872.753806\n",
       "          H      4535.390351\n",
       "          I      5255.879568\n",
       "          J      5103.513274\n",
       "Premium   D      3631.292576\n",
       "          E      3538.914420\n",
       "          F      4324.890176\n",
       "          G      4500.742134\n",
       "          H      5216.706780\n",
       "          I      5946.180672\n",
       "          J      6294.591584\n",
       "Ideal     D      2629.094566\n",
       "          E      2597.550090\n",
       "          F      3374.939362\n",
       "          G      3720.706388\n",
       "          H      3889.334831\n",
       "          I      4451.970377\n",
       "          J      4918.186384"
      ]
     },
     "execution_count": 6,
     "metadata": {},
     "output_type": "execute_result"
    }
   ],
   "source": [
    "import numpy as np\n",
    "df.groupby([\"cut\",\"color\"])[[\"price\"]].aggregate(np.mean)"
   ]
  },
  {
   "cell_type": "code",
   "execution_count": 104,
   "id": "9419c2c6-7273-49cd-b4c1-99235e4c1f23",
   "metadata": {},
   "outputs": [
    {
     "data": {
      "text/plain": [
       "4884"
      ]
     },
     "execution_count": 104,
     "metadata": {},
     "output_type": "execute_result"
    }
   ],
   "source": [
    "df[(df[\"cut\"]==\"Ideal\") & (df[\"color\"]==\"G\")][[\"price\"]].size"
   ]
  },
  {
   "cell_type": "code",
   "execution_count": 105,
   "id": "279ae331-9930-4919-bdc9-b0b4c4d689c2",
   "metadata": {},
   "outputs": [
    {
     "data": {
      "image/png": "[encoded data removed]",
      "text/plain": [
       "<Figure size 640x480 with 1 Axes>"
      ]
     },
     "metadata": {},
     "output_type": "display_data"
    }
   ],
   "source": [
    "sns.barplot(x= \"cut\",y=\"price\",data=df, linewidth=2.5, facecolor=(1, 1, 1, 0), errcolor=\".2\", edgecolor=\".1\");"
   ]
  },
  {
   "cell_type": "code",
   "execution_count": null,
   "id": "a66dda9a-845b-4b6f-86b5-7d9590147a75",
   "metadata": {
    "tags": []
   },
   "outputs": [
    {
     "data": {
      "text/html": [
       "<div>\n",
       "<style scoped>\n",
       "    .dataframe tbody tr th:only-of-type {\n",
       "        vertical-align: middle;\n",
       "    }\n",
       "\n",
       "    .dataframe tbody tr th {\n",
       "        vertical-align: top;\n",
       "    }\n",
       "\n",
       "    .dataframe thead th {\n",
       "        text-align: right;\n",
       "    }\n",
       "</style>\n",
       "<table border=\"1\" class=\"dataframe\">\n",
       "  <thead>\n",
       "    <tr style=\"text-align: right;\">\n",
       "      <th></th>\n",
       "      <th></th>\n",
       "      <th>price</th>\n",
       "    </tr>\n",
       "    <tr>\n",
       "      <th>cut</th>\n",
       "      <th>color</th>\n",
       "      <th></th>\n",
       "    </tr>\n",
       "  </thead>\n",
       "  <tbody>\n",
       "    <tr>\n",
       "      <th rowspan=\"7\" valign=\"top\">Fair</th>\n",
       "      <th>D</th>\n",
       "      <td>4291.061350</td>\n",
       "    </tr>\n",
       "    <tr>\n",
       "      <th>E</th>\n",
       "      <td>3682.312500</td>\n",
       "    </tr>\n",
       "    <tr>\n",
       "      <th>F</th>\n",
       "      <td>3827.003205</td>\n",
       "    </tr>\n",
       "    <tr>\n",
       "      <th>G</th>\n",
       "      <td>4239.254777</td>\n",
       "    </tr>\n",
       "    <tr>\n",
       "      <th>H</th>\n",
       "      <td>5135.683168</td>\n",
       "    </tr>\n",
       "    <tr>\n",
       "      <th>I</th>\n",
       "      <td>4685.445714</td>\n",
       "    </tr>\n",
       "    <tr>\n",
       "      <th>J</th>\n",
       "      <td>4975.655462</td>\n",
       "    </tr>\n",
       "    <tr>\n",
       "      <th rowspan=\"7\" valign=\"top\">Good</th>\n",
       "      <th>D</th>\n",
       "      <td>3405.382175</td>\n",
       "    </tr>\n",
       "    <tr>\n",
       "      <th>E</th>\n",
       "      <td>3423.644159</td>\n",
       "    </tr>\n",
       "    <tr>\n",
       "      <th>F</th>\n",
       "      <td>3495.750275</td>\n",
       "    </tr>\n",
       "    <tr>\n",
       "      <th>G</th>\n",
       "      <td>4123.482204</td>\n",
       "    </tr>\n",
       "    <tr>\n",
       "      <th>H</th>\n",
       "      <td>4276.254986</td>\n",
       "    </tr>\n",
       "    <tr>\n",
       "      <th>I</th>\n",
       "      <td>5078.532567</td>\n",
       "    </tr>\n",
       "    <tr>\n",
       "      <th>J</th>\n",
       "      <td>4574.172638</td>\n",
       "    </tr>\n",
       "    <tr>\n",
       "      <th rowspan=\"7\" valign=\"top\">Very Good</th>\n",
       "      <th>D</th>\n",
       "      <td>3470.467284</td>\n",
       "    </tr>\n",
       "    <tr>\n",
       "      <th>E</th>\n",
       "      <td>3214.652083</td>\n",
       "    </tr>\n",
       "    <tr>\n",
       "      <th>F</th>\n",
       "      <td>3778.820240</td>\n",
       "    </tr>\n",
       "    <tr>\n",
       "      <th>G</th>\n",
       "      <td>3872.753806</td>\n",
       "    </tr>\n",
       "    <tr>\n",
       "      <th>H</th>\n",
       "      <td>4535.390351</td>\n",
       "    </tr>\n",
       "    <tr>\n",
       "      <th>I</th>\n",
       "      <td>5255.879568</td>\n",
       "    </tr>\n",
       "    <tr>\n",
       "      <th>J</th>\n",
       "      <td>5103.513274</td>\n",
       "    </tr>\n",
       "    <tr>\n",
       "      <th rowspan=\"7\" valign=\"top\">Premium</th>\n",
       "      <th>D</th>\n",
       "      <td>3631.292576</td>\n",
       "    </tr>\n",
       "    <tr>\n",
       "      <th>E</th>\n",
       "      <td>3538.914420</td>\n",
       "    </tr>\n",
       "    <tr>\n",
       "      <th>F</th>\n",
       "      <td>4324.890176</td>\n",
       "    </tr>\n",
       "    <tr>\n",
       "      <th>G</th>\n",
       "      <td>4500.742134</td>\n",
       "    </tr>\n",
       "    <tr>\n",
       "      <th>H</th>\n",
       "      <td>5216.706780</td>\n",
       "    </tr>\n",
       "    <tr>\n",
       "      <th>I</th>\n",
       "      <td>5946.180672</td>\n",
       "    </tr>\n",
       "    <tr>\n",
       "      <th>J</th>\n",
       "      <td>6294.591584</td>\n",
       "    </tr>\n",
       "    <tr>\n",
       "      <th rowspan=\"7\" valign=\"top\">Ideal</th>\n",
       "      <th>D</th>\n",
       "      <td>2629.094566</td>\n",
       "    </tr>\n",
       "    <tr>\n",
       "      <th>E</th>\n",
       "      <td>2597.550090</td>\n",
       "    </tr>\n",
       "    <tr>\n",
       "      <th>F</th>\n",
       "      <td>3374.939362</td>\n",
       "    </tr>\n",
       "    <tr>\n",
       "      <th>G</th>\n",
       "      <td>3720.706388</td>\n",
       "    </tr>\n",
       "    <tr>\n",
       "      <th>H</th>\n",
       "      <td>3889.334831</td>\n",
       "    </tr>\n",
       "    <tr>\n",
       "      <th>I</th>\n",
       "      <td>4451.970377</td>\n",
       "    </tr>\n",
       "    <tr>\n",
       "      <th>J</th>\n",
       "      <td>4918.186384</td>\n",
       "    </tr>\n",
       "  </tbody>\n",
       "</table>\n",
       "</div>"
      ],
      "text/plain": [
       "                       price\n",
       "cut       color             \n",
       "Fair      D      4291.061350\n",
       "          E      3682.312500\n",
       "          F      3827.003205\n",
       "          G      4239.254777\n",
       "          H      5135.683168\n",
       "          I      4685.445714\n",
       "          J      4975.655462\n",
       "Good      D      3405.382175\n",
       "          E      3423.644159\n",
       "          F      3495.750275\n",
       "          G      4123.482204\n",
       "          H      4276.254986\n",
       "          I      5078.532567\n",
       "          J      4574.172638\n",
       "Very Good D      3470.467284\n",
       "          E      3214.652083\n",
       "          F      3778.820240\n",
       "          G      3872.753806\n",
       "          H      4535.390351\n",
       "          I      5255.879568\n",
       "          J      5103.513274\n",
       "Premium   D      3631.292576\n",
       "          E      3538.914420\n",
       "          F      4324.890176\n",
       "          G      4500.742134\n",
       "          H      5216.706780\n",
       "          I      5946.180672\n",
       "          J      6294.591584\n",
       "Ideal     D      2629.094566\n",
       "          E      2597.550090\n",
       "          F      3374.939362\n",
       "          G      3720.706388\n",
       "          H      3889.334831\n",
       "          I      4451.970377\n",
       "          J      4918.186384"
      ]
     },
     "execution_count": 31,
     "metadata": {},
     "output_type": "execute_result"
    }
   ],
   "source": [
    "# işte kanıtı aşağıda\n",
    "\n",
    "df.groupby([\"cut\",\"color\"])[[\"price\"]].mean()"
   ]
  },
  {
   "cell_type": "code",
   "execution_count": null,
   "id": "fae62d67-c088-4796-9f97-84d4081ddb2f",
   "metadata": {},
   "outputs": [
    {
     "data": {
      "text/plain": [
       "18823"
      ]
     },
     "execution_count": 32,
     "metadata": {},
     "output_type": "execute_result"
    }
   ],
   "source": [
    "df[\"price\"].max()"
   ]
  },
  {
   "cell_type": "markdown",
   "id": "46158a02-21ee-4745-9e6a-e45139d3b23a",
   "metadata": {},
   "source": [
    "## Histogram Ve Yoğunluk Grafiğinin Oluşturulaması"
   ]
  },
  {
   "cell_type": "markdown",
   "id": "7d8684cc-1ec0-4345-8544-85844628bac8",
   "metadata": {},
   "source": [
    "> **HİSTOGRAM**: Sayısal değişkenler için kullanılan sayısal değişkenlerin dağılımını ifade etmek için kullanılan veri görselleştirme teknikleridir. Keza yoğunluk için de aynı şey geçerlidir.\n",
    "* **histplot()**\n",
    "* **displot()**"
   ]
  },
  {
   "cell_type": "markdown",
   "id": "75a9208c-87f0-4d28-ae03-1e53ea70d50e",
   "metadata": {},
   "source": [
    "**Önemli Hatırlatma !!!** : distplot() metodu kullanımdan kaldırılmış.Şuan için histplot() ve displot() metodlarını kullanarak görselleştirme yapılmaktadır."
   ]
  },
  {
   "cell_type": "code",
   "execution_count": 35,
   "id": "9564864c-be42-4c75-8f07-b90cbedadee8",
   "metadata": {
    "tags": []
   },
   "outputs": [
    {
     "data": {
      "text/plain": [
       "\u001b[1;31mSignature:\u001b[0m\n",
       "\u001b[0msns\u001b[0m\u001b[1;33m.\u001b[0m\u001b[0mdisplot\u001b[0m\u001b[1;33m(\u001b[0m\u001b[1;33m\n",
       "\u001b[0m    \u001b[0mdata\u001b[0m\u001b[1;33m=\u001b[0m\u001b[1;32mNone\u001b[0m\u001b[1;33m,\u001b[0m\u001b[1;33m\n",
       "\u001b[0m    \u001b[1;33m*\u001b[0m\u001b[1;33m,\u001b[0m\u001b[1;33m\n",
       "\u001b[0m    \u001b[0mx\u001b[0m\u001b[1;33m=\u001b[0m\u001b[1;32mNone\u001b[0m\u001b[1;33m,\u001b[0m\u001b[1;33m\n",
       "\u001b[0m    \u001b[0my\u001b[0m\u001b[1;33m=\u001b[0m\u001b[1;32mNone\u001b[0m\u001b[1;33m,\u001b[0m\u001b[1;33m\n",
       "\u001b[0m    \u001b[0mhue\u001b[0m\u001b[1;33m=\u001b[0m\u001b[1;32mNone\u001b[0m\u001b[1;33m,\u001b[0m\u001b[1;33m\n",
       "\u001b[0m    \u001b[0mrow\u001b[0m\u001b[1;33m=\u001b[0m\u001b[1;32mNone\u001b[0m\u001b[1;33m,\u001b[0m\u001b[1;33m\n",
       "\u001b[0m    \u001b[0mcol\u001b[0m\u001b[1;33m=\u001b[0m\u001b[1;32mNone\u001b[0m\u001b[1;33m,\u001b[0m\u001b[1;33m\n",
       "\u001b[0m    \u001b[0mweights\u001b[0m\u001b[1;33m=\u001b[0m\u001b[1;32mNone\u001b[0m\u001b[1;33m,\u001b[0m\u001b[1;33m\n",
       "\u001b[0m    \u001b[0mkind\u001b[0m\u001b[1;33m=\u001b[0m\u001b[1;34m'hist'\u001b[0m\u001b[1;33m,\u001b[0m\u001b[1;33m\n",
       "\u001b[0m    \u001b[0mrug\u001b[0m\u001b[1;33m=\u001b[0m\u001b[1;32mFalse\u001b[0m\u001b[1;33m,\u001b[0m\u001b[1;33m\n",
       "\u001b[0m    \u001b[0mrug_kws\u001b[0m\u001b[1;33m=\u001b[0m\u001b[1;32mNone\u001b[0m\u001b[1;33m,\u001b[0m\u001b[1;33m\n",
       "\u001b[0m    \u001b[0mlog_scale\u001b[0m\u001b[1;33m=\u001b[0m\u001b[1;32mNone\u001b[0m\u001b[1;33m,\u001b[0m\u001b[1;33m\n",
       "\u001b[0m    \u001b[0mlegend\u001b[0m\u001b[1;33m=\u001b[0m\u001b[1;32mTrue\u001b[0m\u001b[1;33m,\u001b[0m\u001b[1;33m\n",
       "\u001b[0m    \u001b[0mpalette\u001b[0m\u001b[1;33m=\u001b[0m\u001b[1;32mNone\u001b[0m\u001b[1;33m,\u001b[0m\u001b[1;33m\n",
       "\u001b[0m    \u001b[0mhue_order\u001b[0m\u001b[1;33m=\u001b[0m\u001b[1;32mNone\u001b[0m\u001b[1;33m,\u001b[0m\u001b[1;33m\n",
       "\u001b[0m    \u001b[0mhue_norm\u001b[0m\u001b[1;33m=\u001b[0m\u001b[1;32mNone\u001b[0m\u001b[1;33m,\u001b[0m\u001b[1;33m\n",
       "\u001b[0m    \u001b[0mcolor\u001b[0m\u001b[1;33m=\u001b[0m\u001b[1;32mNone\u001b[0m\u001b[1;33m,\u001b[0m\u001b[1;33m\n",
       "\u001b[0m    \u001b[0mcol_wrap\u001b[0m\u001b[1;33m=\u001b[0m\u001b[1;32mNone\u001b[0m\u001b[1;33m,\u001b[0m\u001b[1;33m\n",
       "\u001b[0m    \u001b[0mrow_order\u001b[0m\u001b[1;33m=\u001b[0m\u001b[1;32mNone\u001b[0m\u001b[1;33m,\u001b[0m\u001b[1;33m\n",
       "\u001b[0m    \u001b[0mcol_order\u001b[0m\u001b[1;33m=\u001b[0m\u001b[1;32mNone\u001b[0m\u001b[1;33m,\u001b[0m\u001b[1;33m\n",
       "\u001b[0m    \u001b[0mheight\u001b[0m\u001b[1;33m=\u001b[0m\u001b[1;36m5\u001b[0m\u001b[1;33m,\u001b[0m\u001b[1;33m\n",
       "\u001b[0m    \u001b[0maspect\u001b[0m\u001b[1;33m=\u001b[0m\u001b[1;36m1\u001b[0m\u001b[1;33m,\u001b[0m\u001b[1;33m\n",
       "\u001b[0m    \u001b[0mfacet_kws\u001b[0m\u001b[1;33m=\u001b[0m\u001b[1;32mNone\u001b[0m\u001b[1;33m,\u001b[0m\u001b[1;33m\n",
       "\u001b[0m    \u001b[1;33m**\u001b[0m\u001b[0mkwargs\u001b[0m\u001b[1;33m,\u001b[0m\u001b[1;33m\n",
       "\u001b[0m\u001b[1;33m)\u001b[0m\u001b[1;33m\u001b[0m\u001b[1;33m\u001b[0m\u001b[0m\n",
       "\u001b[1;31mDocstring:\u001b[0m\n",
       "Figure-level interface for drawing distribution plots onto a FacetGrid.\n",
       "\n",
       "This function provides access to several approaches for visualizing the\n",
       "univariate or bivariate distribution of data, including subsets of data\n",
       "defined by semantic mapping and faceting across multiple subplots. The\n",
       "``kind`` parameter selects the approach to use:\n",
       "\n",
       "- :func:`histplot` (with ``kind=\"hist\"``; the default)\n",
       "- :func:`kdeplot` (with ``kind=\"kde\"``)\n",
       "- :func:`ecdfplot` (with ``kind=\"ecdf\"``; univariate-only)\n",
       "\n",
       "Additionally, a :func:`rugplot` can be added to any kind of plot to show\n",
       "individual observations.\n",
       "\n",
       "Extra keyword arguments are passed to the underlying function, so you should\n",
       "refer to the documentation for each to understand the complete set of options\n",
       "for making plots with this interface.\n",
       "\n",
       "See the :doc:`distribution plots tutorial <../tutorial/distributions>` for a more\n",
       "in-depth discussion of the relative strengths and weaknesses of each approach.\n",
       "The distinction between figure-level and axes-level functions is explained\n",
       "further in the :doc:`user guide <../tutorial/function_overview>`.\n",
       "\n",
       "Parameters\n",
       "----------\n",
       "data : :class:`pandas.DataFrame`, :class:`numpy.ndarray`, mapping, or sequence\n",
       "    Input data structure. Either a long-form collection of vectors that can be\n",
       "    assigned to named variables or a wide-form dataset that will be internally\n",
       "    reshaped.\n",
       "x, y : vectors or keys in ``data``\n",
       "    Variables that specify positions on the x and y axes.\n",
       "hue : vector or key in ``data``\n",
       "    Semantic variable that is mapped to determine the color of plot elements.\n",
       "row, col : vectors or keys in ``data``\n",
       "    Variables that define subsets to plot on different facets.    \n",
       "kind : {\"hist\", \"kde\", \"ecdf\"}\n",
       "    Approach for visualizing the data. Selects the underlying plotting function\n",
       "    and determines the additional set of valid parameters.\n",
       "rug : bool\n",
       "    If True, show each observation with marginal ticks (as in :func:`rugplot`).\n",
       "rug_kws : dict\n",
       "    Parameters to control the appearance of the rug plot.\n",
       "log_scale : bool or number, or pair of bools or numbers\n",
       "    Set axis scale(s) to log. A single value sets the data axis for univariate\n",
       "    distributions and both axes for bivariate distributions. A pair of values\n",
       "    sets each axis independently. Numeric values are interpreted as the desired\n",
       "    base (default 10). If `False`, defer to the existing Axes scale.\n",
       "legend : bool\n",
       "    If False, suppress the legend for semantic variables.\n",
       "palette : string, list, dict, or :class:`matplotlib.colors.Colormap`\n",
       "    Method for choosing the colors to use when mapping the ``hue`` semantic.\n",
       "    String values are passed to :func:`color_palette`. List or dict values\n",
       "    imply categorical mapping, while a colormap object implies numeric mapping.\n",
       "hue_order : vector of strings\n",
       "    Specify the order of processing and plotting for categorical levels of the\n",
       "    ``hue`` semantic.\n",
       "hue_norm : tuple or :class:`matplotlib.colors.Normalize`\n",
       "    Either a pair of values that set the normalization range in data units\n",
       "    or an object that will map from data units into a [0, 1] interval. Usage\n",
       "    implies numeric mapping.\n",
       "color : :mod:`matplotlib color <matplotlib.colors>`\n",
       "    Single color specification for when hue mapping is not used. Otherwise, the\n",
       "    plot will try to hook into the matplotlib property cycle.\n",
       "col_wrap : int\n",
       "    \"Wrap\" the column variable at this width, so that the column facets\n",
       "    span multiple rows. Incompatible with a ``row`` facet.    \n",
       "{row,col}_order : vector of strings\n",
       "    Specify the order in which levels of the ``row`` and/or ``col`` variables\n",
       "    appear in the grid of subplots.    \n",
       "height : scalar\n",
       "    Height (in inches) of each facet. See also: ``aspect``.    \n",
       "aspect : scalar\n",
       "    Aspect ratio of each facet, so that ``aspect * height`` gives the width\n",
       "    of each facet in inches.    \n",
       "facet_kws : dict\n",
       "    Additional parameters passed to :class:`FacetGrid`.\n",
       "\n",
       "kwargs\n",
       "    Other keyword arguments are documented with the relevant axes-level function:\n",
       "\n",
       "    - :func:`histplot` (with ``kind=\"hist\"``)\n",
       "    - :func:`kdeplot` (with ``kind=\"kde\"``)\n",
       "    - :func:`ecdfplot` (with ``kind=\"ecdf\"``)\n",
       "\n",
       "Returns\n",
       "-------\n",
       ":class:`FacetGrid`\n",
       "    An object managing one or more subplots that correspond to conditional data\n",
       "    subsets with convenient methods for batch-setting of axes attributes.\n",
       "\n",
       "See Also\n",
       "--------\n",
       "histplot : Plot a histogram of binned counts with optional normalization or smoothing.\n",
       "kdeplot : Plot univariate or bivariate distributions using kernel density estimation.\n",
       "rugplot : Plot a tick at each observation value along the x and/or y axes.\n",
       "ecdfplot : Plot empirical cumulative distribution functions.\n",
       "jointplot : Draw a bivariate plot with univariate marginal distributions.\n",
       "\n",
       "Examples\n",
       "--------\n",
       "\n",
       "See the API documentation for the axes-level functions for more details\n",
       "about the breadth of options available for each plot kind.\n",
       "\n",
       ".. include:: ../docstrings/displot.rst\n",
       "\u001b[1;31mFile:\u001b[0m      c:\\users\\suruc\\anaconda3\\lib\\site-packages\\seaborn\\distributions.py\n",
       "\u001b[1;31mType:\u001b[0m      function\n"
      ]
     },
     "metadata": {},
     "output_type": "display_data"
    }
   ],
   "source": [
    "?sns.displot"
   ]
  },
  {
   "cell_type": "code",
   "execution_count": null,
   "id": "457cf95c-48db-4abe-98f8-e7fd4f3c04c4",
   "metadata": {
    "tags": []
   },
   "outputs": [
    {
     "data": {
      "text/plain": [
       "\u001b[1;31mSignature:\u001b[0m\n",
       "\u001b[0msns\u001b[0m\u001b[1;33m.\u001b[0m\u001b[0mhistplot\u001b[0m\u001b[1;33m(\u001b[0m\u001b[1;33m\n",
       "\u001b[0m    \u001b[0mdata\u001b[0m\u001b[1;33m=\u001b[0m\u001b[1;32mNone\u001b[0m\u001b[1;33m,\u001b[0m\u001b[1;33m\n",
       "\u001b[0m    \u001b[1;33m*\u001b[0m\u001b[1;33m,\u001b[0m\u001b[1;33m\n",
       "\u001b[0m    \u001b[0mx\u001b[0m\u001b[1;33m=\u001b[0m\u001b[1;32mNone\u001b[0m\u001b[1;33m,\u001b[0m\u001b[1;33m\n",
       "\u001b[0m    \u001b[0my\u001b[0m\u001b[1;33m=\u001b[0m\u001b[1;32mNone\u001b[0m\u001b[1;33m,\u001b[0m\u001b[1;33m\n",
       "\u001b[0m    \u001b[0mhue\u001b[0m\u001b[1;33m=\u001b[0m\u001b[1;32mNone\u001b[0m\u001b[1;33m,\u001b[0m\u001b[1;33m\n",
       "\u001b[0m    \u001b[0mweights\u001b[0m\u001b[1;33m=\u001b[0m\u001b[1;32mNone\u001b[0m\u001b[1;33m,\u001b[0m\u001b[1;33m\n",
       "\u001b[0m    \u001b[0mstat\u001b[0m\u001b[1;33m=\u001b[0m\u001b[1;34m'count'\u001b[0m\u001b[1;33m,\u001b[0m\u001b[1;33m\n",
       "\u001b[0m    \u001b[0mbins\u001b[0m\u001b[1;33m=\u001b[0m\u001b[1;34m'auto'\u001b[0m\u001b[1;33m,\u001b[0m\u001b[1;33m\n",
       "\u001b[0m    \u001b[0mbinwidth\u001b[0m\u001b[1;33m=\u001b[0m\u001b[1;32mNone\u001b[0m\u001b[1;33m,\u001b[0m\u001b[1;33m\n",
       "\u001b[0m    \u001b[0mbinrange\u001b[0m\u001b[1;33m=\u001b[0m\u001b[1;32mNone\u001b[0m\u001b[1;33m,\u001b[0m\u001b[1;33m\n",
       "\u001b[0m    \u001b[0mdiscrete\u001b[0m\u001b[1;33m=\u001b[0m\u001b[1;32mNone\u001b[0m\u001b[1;33m,\u001b[0m\u001b[1;33m\n",
       "\u001b[0m    \u001b[0mcumulative\u001b[0m\u001b[1;33m=\u001b[0m\u001b[1;32mFalse\u001b[0m\u001b[1;33m,\u001b[0m\u001b[1;33m\n",
       "\u001b[0m    \u001b[0mcommon_bins\u001b[0m\u001b[1;33m=\u001b[0m\u001b[1;32mTrue\u001b[0m\u001b[1;33m,\u001b[0m\u001b[1;33m\n",
       "\u001b[0m    \u001b[0mcommon_norm\u001b[0m\u001b[1;33m=\u001b[0m\u001b[1;32mTrue\u001b[0m\u001b[1;33m,\u001b[0m\u001b[1;33m\n",
       "\u001b[0m    \u001b[0mmultiple\u001b[0m\u001b[1;33m=\u001b[0m\u001b[1;34m'layer'\u001b[0m\u001b[1;33m,\u001b[0m\u001b[1;33m\n",
       "\u001b[0m    \u001b[0melement\u001b[0m\u001b[1;33m=\u001b[0m\u001b[1;34m'bars'\u001b[0m\u001b[1;33m,\u001b[0m\u001b[1;33m\n",
       "\u001b[0m    \u001b[0mfill\u001b[0m\u001b[1;33m=\u001b[0m\u001b[1;32mTrue\u001b[0m\u001b[1;33m,\u001b[0m\u001b[1;33m\n",
       "\u001b[0m    \u001b[0mshrink\u001b[0m\u001b[1;33m=\u001b[0m\u001b[1;36m1\u001b[0m\u001b[1;33m,\u001b[0m\u001b[1;33m\n",
       "\u001b[0m    \u001b[0mkde\u001b[0m\u001b[1;33m=\u001b[0m\u001b[1;32mFalse\u001b[0m\u001b[1;33m,\u001b[0m\u001b[1;33m\n",
       "\u001b[0m    \u001b[0mkde_kws\u001b[0m\u001b[1;33m=\u001b[0m\u001b[1;32mNone\u001b[0m\u001b[1;33m,\u001b[0m\u001b[1;33m\n",
       "\u001b[0m    \u001b[0mline_kws\u001b[0m\u001b[1;33m=\u001b[0m\u001b[1;32mNone\u001b[0m\u001b[1;33m,\u001b[0m\u001b[1;33m\n",
       "\u001b[0m    \u001b[0mthresh\u001b[0m\u001b[1;33m=\u001b[0m\u001b[1;36m0\u001b[0m\u001b[1;33m,\u001b[0m\u001b[1;33m\n",
       "\u001b[0m    \u001b[0mpthresh\u001b[0m\u001b[1;33m=\u001b[0m\u001b[1;32mNone\u001b[0m\u001b[1;33m,\u001b[0m\u001b[1;33m\n",
       "\u001b[0m    \u001b[0mpmax\u001b[0m\u001b[1;33m=\u001b[0m\u001b[1;32mNone\u001b[0m\u001b[1;33m,\u001b[0m\u001b[1;33m\n",
       "\u001b[0m    \u001b[0mcbar\u001b[0m\u001b[1;33m=\u001b[0m\u001b[1;32mFalse\u001b[0m\u001b[1;33m,\u001b[0m\u001b[1;33m\n",
       "\u001b[0m    \u001b[0mcbar_ax\u001b[0m\u001b[1;33m=\u001b[0m\u001b[1;32mNone\u001b[0m\u001b[1;33m,\u001b[0m\u001b[1;33m\n",
       "\u001b[0m    \u001b[0mcbar_kws\u001b[0m\u001b[1;33m=\u001b[0m\u001b[1;32mNone\u001b[0m\u001b[1;33m,\u001b[0m\u001b[1;33m\n",
       "\u001b[0m    \u001b[0mpalette\u001b[0m\u001b[1;33m=\u001b[0m\u001b[1;32mNone\u001b[0m\u001b[1;33m,\u001b[0m\u001b[1;33m\n",
       "\u001b[0m    \u001b[0mhue_order\u001b[0m\u001b[1;33m=\u001b[0m\u001b[1;32mNone\u001b[0m\u001b[1;33m,\u001b[0m\u001b[1;33m\n",
       "\u001b[0m    \u001b[0mhue_norm\u001b[0m\u001b[1;33m=\u001b[0m\u001b[1;32mNone\u001b[0m\u001b[1;33m,\u001b[0m\u001b[1;33m\n",
       "\u001b[0m    \u001b[0mcolor\u001b[0m\u001b[1;33m=\u001b[0m\u001b[1;32mNone\u001b[0m\u001b[1;33m,\u001b[0m\u001b[1;33m\n",
       "\u001b[0m    \u001b[0mlog_scale\u001b[0m\u001b[1;33m=\u001b[0m\u001b[1;32mNone\u001b[0m\u001b[1;33m,\u001b[0m\u001b[1;33m\n",
       "\u001b[0m    \u001b[0mlegend\u001b[0m\u001b[1;33m=\u001b[0m\u001b[1;32mTrue\u001b[0m\u001b[1;33m,\u001b[0m\u001b[1;33m\n",
       "\u001b[0m    \u001b[0max\u001b[0m\u001b[1;33m=\u001b[0m\u001b[1;32mNone\u001b[0m\u001b[1;33m,\u001b[0m\u001b[1;33m\n",
       "\u001b[0m    \u001b[1;33m**\u001b[0m\u001b[0mkwargs\u001b[0m\u001b[1;33m,\u001b[0m\u001b[1;33m\n",
       "\u001b[0m\u001b[1;33m)\u001b[0m\u001b[1;33m\u001b[0m\u001b[1;33m\u001b[0m\u001b[0m\n",
       "\u001b[1;31mDocstring:\u001b[0m\n",
       "Plot univariate or bivariate histograms to show distributions of datasets.\n",
       "\n",
       "A histogram is a classic visualization tool that represents the distribution\n",
       "of one or more variables by counting the number of observations that fall within\n",
       "discrete bins.\n",
       "\n",
       "This function can normalize the statistic computed within each bin to estimate\n",
       "frequency, density or probability mass, and it can add a smooth curve obtained\n",
       "using a kernel density estimate, similar to :func:`kdeplot`.\n",
       "\n",
       "More information is provided in the :ref:`user guide <tutorial_hist>`.\n",
       "\n",
       "Parameters\n",
       "----------\n",
       "data : :class:`pandas.DataFrame`, :class:`numpy.ndarray`, mapping, or sequence\n",
       "    Input data structure. Either a long-form collection of vectors that can be\n",
       "    assigned to named variables or a wide-form dataset that will be internally\n",
       "    reshaped.\n",
       "x, y : vectors or keys in ``data``\n",
       "    Variables that specify positions on the x and y axes.\n",
       "hue : vector or key in ``data``\n",
       "    Semantic variable that is mapped to determine the color of plot elements.\n",
       "weights : vector or key in ``data``\n",
       "    If provided, weight the contribution of the corresponding data points\n",
       "    towards the count in each bin by these factors.\n",
       "stat : str\n",
       "    Aggregate statistic to compute in each bin.\n",
       "    \n",
       "    - `count`: show the number of observations in each bin\n",
       "    - `frequency`: show the number of observations divided by the bin width\n",
       "    - `probability` or `proportion`: normalize such that bar heights sum to 1\n",
       "    - `percent`: normalize such that bar heights sum to 100\n",
       "    - `density`: normalize such that the total area of the histogram equals 1\n",
       "bins : str, number, vector, or a pair of such values\n",
       "    Generic bin parameter that can be the name of a reference rule,\n",
       "    the number of bins, or the breaks of the bins.\n",
       "    Passed to :func:`numpy.histogram_bin_edges`.\n",
       "binwidth : number or pair of numbers\n",
       "    Width of each bin, overrides ``bins`` but can be used with\n",
       "    ``binrange``.\n",
       "binrange : pair of numbers or a pair of pairs\n",
       "    Lowest and highest value for bin edges; can be used either\n",
       "    with ``bins`` or ``binwidth``. Defaults to data extremes.\n",
       "discrete : bool\n",
       "    If True, default to ``binwidth=1`` and draw the bars so that they are\n",
       "    centered on their corresponding data points. This avoids \"gaps\" that may\n",
       "    otherwise appear when using discrete (integer) data.\n",
       "cumulative : bool\n",
       "    If True, plot the cumulative counts as bins increase.\n",
       "common_bins : bool\n",
       "    If True, use the same bins when semantic variables produce multiple\n",
       "    plots. If using a reference rule to determine the bins, it will be computed\n",
       "    with the full dataset.\n",
       "common_norm : bool\n",
       "    If True and using a normalized statistic, the normalization will apply over\n",
       "    the full dataset. Otherwise, normalize each histogram independently.\n",
       "multiple : {\"layer\", \"dodge\", \"stack\", \"fill\"}\n",
       "    Approach to resolving multiple elements when semantic mapping creates subsets.\n",
       "    Only relevant with univariate data.\n",
       "element : {\"bars\", \"step\", \"poly\"}\n",
       "    Visual representation of the histogram statistic.\n",
       "    Only relevant with univariate data.\n",
       "fill : bool\n",
       "    If True, fill in the space under the histogram.\n",
       "    Only relevant with univariate data.\n",
       "shrink : number\n",
       "    Scale the width of each bar relative to the binwidth by this factor.\n",
       "    Only relevant with univariate data.\n",
       "kde : bool\n",
       "    If True, compute a kernel density estimate to smooth the distribution\n",
       "    and show on the plot as (one or more) line(s).\n",
       "    Only relevant with univariate data.\n",
       "kde_kws : dict\n",
       "    Parameters that control the KDE computation, as in :func:`kdeplot`.\n",
       "line_kws : dict\n",
       "    Parameters that control the KDE visualization, passed to\n",
       "    :meth:`matplotlib.axes.Axes.plot`.\n",
       "thresh : number or None\n",
       "    Cells with a statistic less than or equal to this value will be transparent.\n",
       "    Only relevant with bivariate data.\n",
       "pthresh : number or None\n",
       "    Like ``thresh``, but a value in [0, 1] such that cells with aggregate counts\n",
       "    (or other statistics, when used) up to this proportion of the total will be\n",
       "    transparent.\n",
       "pmax : number or None\n",
       "    A value in [0, 1] that sets that saturation point for the colormap at a value\n",
       "    such that cells below constitute this proportion of the total count (or\n",
       "    other statistic, when used).\n",
       "cbar : bool\n",
       "    If True, add a colorbar to annotate the color mapping in a bivariate plot.\n",
       "    Note: Does not currently support plots with a ``hue`` variable well.\n",
       "cbar_ax : :class:`matplotlib.axes.Axes`\n",
       "    Pre-existing axes for the colorbar.\n",
       "cbar_kws : dict\n",
       "    Additional parameters passed to :meth:`matplotlib.figure.Figure.colorbar`.\n",
       "palette : string, list, dict, or :class:`matplotlib.colors.Colormap`\n",
       "    Method for choosing the colors to use when mapping the ``hue`` semantic.\n",
       "    String values are passed to :func:`color_palette`. List or dict values\n",
       "    imply categorical mapping, while a colormap object implies numeric mapping.\n",
       "hue_order : vector of strings\n",
       "    Specify the order of processing and plotting for categorical levels of the\n",
       "    ``hue`` semantic.\n",
       "hue_norm : tuple or :class:`matplotlib.colors.Normalize`\n",
       "    Either a pair of values that set the normalization range in data units\n",
       "    or an object that will map from data units into a [0, 1] interval. Usage\n",
       "    implies numeric mapping.\n",
       "color : :mod:`matplotlib color <matplotlib.colors>`\n",
       "    Single color specification for when hue mapping is not used. Otherwise, the\n",
       "    plot will try to hook into the matplotlib property cycle.\n",
       "log_scale : bool or number, or pair of bools or numbers\n",
       "    Set axis scale(s) to log. A single value sets the data axis for univariate\n",
       "    distributions and both axes for bivariate distributions. A pair of values\n",
       "    sets each axis independently. Numeric values are interpreted as the desired\n",
       "    base (default 10). If `False`, defer to the existing Axes scale.\n",
       "legend : bool\n",
       "    If False, suppress the legend for semantic variables.\n",
       "ax : :class:`matplotlib.axes.Axes`\n",
       "    Pre-existing axes for the plot. Otherwise, call :func:`matplotlib.pyplot.gca`\n",
       "    internally.\n",
       "kwargs\n",
       "    Other keyword arguments are passed to one of the following matplotlib\n",
       "    functions:\n",
       "\n",
       "    - :meth:`matplotlib.axes.Axes.bar` (univariate, element=\"bars\")\n",
       "    - :meth:`matplotlib.axes.Axes.fill_between` (univariate, other element, fill=True)\n",
       "    - :meth:`matplotlib.axes.Axes.plot` (univariate, other element, fill=False)\n",
       "    - :meth:`matplotlib.axes.Axes.pcolormesh` (bivariate)\n",
       "\n",
       "Returns\n",
       "-------\n",
       ":class:`matplotlib.axes.Axes`\n",
       "    The matplotlib axes containing the plot.\n",
       "\n",
       "See Also\n",
       "--------\n",
       "displot : Figure-level interface to distribution plot functions.\n",
       "kdeplot : Plot univariate or bivariate distributions using kernel density estimation.\n",
       "rugplot : Plot a tick at each observation value along the x and/or y axes.\n",
       "ecdfplot : Plot empirical cumulative distribution functions.\n",
       "jointplot : Draw a bivariate plot with univariate marginal distributions.\n",
       "\n",
       "Notes\n",
       "-----\n",
       "\n",
       "The choice of bins for computing and plotting a histogram can exert\n",
       "substantial influence on the insights that one is able to draw from the\n",
       "visualization. If the bins are too large, they may erase important features.\n",
       "On the other hand, bins that are too small may be dominated by random\n",
       "variability, obscuring the shape of the true underlying distribution. The\n",
       "default bin size is determined using a reference rule that depends on the\n",
       "sample size and variance. This works well in many cases, (i.e., with\n",
       "\"well-behaved\" data) but it fails in others. It is always a good to try\n",
       "different bin sizes to be sure that you are not missing something important.\n",
       "This function allows you to specify bins in several different ways, such as\n",
       "by setting the total number of bins to use, the width of each bin, or the\n",
       "specific locations where the bins should break.\n",
       "\n",
       "Examples\n",
       "--------\n",
       "\n",
       ".. include:: ../docstrings/histplot.rst\n",
       "\u001b[1;31mFile:\u001b[0m      c:\\users\\suruc\\anaconda3\\lib\\site-packages\\seaborn\\distributions.py\n",
       "\u001b[1;31mType:\u001b[0m      function\n"
      ]
     },
     "metadata": {},
     "output_type": "display_data"
    }
   ],
   "source": [
    "?sns.histplot"
   ]
  },
  {
   "cell_type": "markdown",
   "id": "2e24ea3b-afa5-4a17-ac70-b1f66641d6a0",
   "metadata": {},
   "source": [
    "> **HİSTPLOT PARAMETRELERİ**:\n",
    "\n",
    "* <span style='color:red'>data</span> : Dataframe veya Numpy dizisi şe klinde veri girişi\n",
    "* <span style='color:red'>x, y (opsiyonel)</span> : x ve y eksenlerinde sırasıyla konumlandırılacak verilerin anahtarı\n",
    "* <span style='color:red'>hue (isteğe bağlı)</span> : çizim öğelerinin rengini belirlemek için eşlenen anlamsal veri anahtarı\n",
    "* <span style='color:red'>stat (isteğe bağlı)</span> : sayı, sıklık, yoğunluk veya olasılık\n",
    "* <span style='color:red'>kde (isteğe bağlı)</span>kde (isteğe bağlı):  yoğunluk fonksiyonun grafiğe eklenip eklenmemesi ile ilgili bir ayarlama\n",
    "* <span style='color:red'>bins (isteğe bağlı)</span> : kaç tane kutu oluşturulacağını gösterir.değer arttıkça ayrıntı artıyor gibi düşün."
   ]
  },
  {
   "cell_type": "code",
   "execution_count": 3,
   "id": "63b7a42f-42e5-4b38-bd12-baf21d87fdf9",
   "metadata": {
    "tags": []
   },
   "outputs": [
    {
     "data": {
      "text/html": [
       "<div>\n",
       "<style scoped>\n",
       "    .dataframe tbody tr th:only-of-type {\n",
       "        vertical-align: middle;\n",
       "    }\n",
       "\n",
       "    .dataframe tbody tr th {\n",
       "        vertical-align: top;\n",
       "    }\n",
       "\n",
       "    .dataframe thead th {\n",
       "        text-align: right;\n",
       "    }\n",
       "</style>\n",
       "<table border=\"1\" class=\"dataframe\">\n",
       "  <thead>\n",
       "    <tr style=\"text-align: right;\">\n",
       "      <th></th>\n",
       "      <th>carat</th>\n",
       "      <th>cut</th>\n",
       "      <th>color</th>\n",
       "      <th>clarity</th>\n",
       "      <th>depth</th>\n",
       "      <th>table</th>\n",
       "      <th>price</th>\n",
       "      <th>x</th>\n",
       "      <th>y</th>\n",
       "      <th>z</th>\n",
       "    </tr>\n",
       "  </thead>\n",
       "  <tbody>\n",
       "    <tr>\n",
       "      <th>0</th>\n",
       "      <td>0.23</td>\n",
       "      <td>Ideal</td>\n",
       "      <td>E</td>\n",
       "      <td>SI2</td>\n",
       "      <td>61.5</td>\n",
       "      <td>55.0</td>\n",
       "      <td>326</td>\n",
       "      <td>3.95</td>\n",
       "      <td>3.98</td>\n",
       "      <td>2.43</td>\n",
       "    </tr>\n",
       "    <tr>\n",
       "      <th>1</th>\n",
       "      <td>0.21</td>\n",
       "      <td>Premium</td>\n",
       "      <td>E</td>\n",
       "      <td>SI1</td>\n",
       "      <td>59.8</td>\n",
       "      <td>61.0</td>\n",
       "      <td>326</td>\n",
       "      <td>3.89</td>\n",
       "      <td>3.84</td>\n",
       "      <td>2.31</td>\n",
       "    </tr>\n",
       "    <tr>\n",
       "      <th>2</th>\n",
       "      <td>0.23</td>\n",
       "      <td>Good</td>\n",
       "      <td>E</td>\n",
       "      <td>VS1</td>\n",
       "      <td>56.9</td>\n",
       "      <td>65.0</td>\n",
       "      <td>327</td>\n",
       "      <td>4.05</td>\n",
       "      <td>4.07</td>\n",
       "      <td>2.31</td>\n",
       "    </tr>\n",
       "    <tr>\n",
       "      <th>3</th>\n",
       "      <td>0.29</td>\n",
       "      <td>Premium</td>\n",
       "      <td>I</td>\n",
       "      <td>VS2</td>\n",
       "      <td>62.4</td>\n",
       "      <td>58.0</td>\n",
       "      <td>334</td>\n",
       "      <td>4.20</td>\n",
       "      <td>4.23</td>\n",
       "      <td>2.63</td>\n",
       "    </tr>\n",
       "    <tr>\n",
       "      <th>4</th>\n",
       "      <td>0.31</td>\n",
       "      <td>Good</td>\n",
       "      <td>J</td>\n",
       "      <td>SI2</td>\n",
       "      <td>63.3</td>\n",
       "      <td>58.0</td>\n",
       "      <td>335</td>\n",
       "      <td>4.34</td>\n",
       "      <td>4.35</td>\n",
       "      <td>2.75</td>\n",
       "    </tr>\n",
       "  </tbody>\n",
       "</table>\n",
       "</div>"
      ],
      "text/plain": [
       "   carat      cut color clarity  depth  table  price     x     y     z\n",
       "0   0.23    Ideal     E     SI2   61.5   55.0    326  3.95  3.98  2.43\n",
       "1   0.21  Premium     E     SI1   59.8   61.0    326  3.89  3.84  2.31\n",
       "2   0.23     Good     E     VS1   56.9   65.0    327  4.05  4.07  2.31\n",
       "3   0.29  Premium     I     VS2   62.4   58.0    334  4.20  4.23  2.63\n",
       "4   0.31     Good     J     SI2   63.3   58.0    335  4.34  4.35  2.75"
      ]
     },
     "execution_count": 3,
     "metadata": {},
     "output_type": "execute_result"
    }
   ],
   "source": [
    "import seaborn as sns\n",
    "import warnings\n",
    "\n",
    "diamonds = sns.load_dataset('diamonds')\n",
    "warnings.filterwarnings(\"ignore\")\n",
    "a = diamonds.copy()\n",
    "a.head() "
   ]
  },
  {
   "cell_type": "code",
   "execution_count": 10,
   "id": "2ea9a85d-00ee-4161-ae3a-6a1867faba24",
   "metadata": {},
   "outputs": [
    {
     "data": {
      "image/png": "[encoded data removed]",
      "text/plain": [
       "<Figure size 432x288 with 1 Axes>"
      ]
     },
     "metadata": {
      "needs_background": "light"
     },
     "output_type": "display_data"
    }
   ],
   "source": [
    "sns.histplot(data = a ,x = \"price\",kde=False).set_title(\"price sayısal değişkenin histogram tekniği ile görselleştirilmesi\");\n",
    "# kde: yoğunluk fonksiyonun grafiğe eklenip eklenmemesi ile ilgili bir ayarlama. ekle:True ,ekleme: False"
   ]
  },
  {
   "cell_type": "code",
   "execution_count": 7,
   "id": "a8df7439-52b0-4a6b-a47c-63b76418bd50",
   "metadata": {},
   "outputs": [
    {
     "data": {
      "image/png": "[encoded data removed]",
      "text/plain": [
       "<Figure size 432x288 with 1 Axes>"
      ]
     },
     "metadata": {
      "needs_background": "light"
     },
     "output_type": "display_data"
    }
   ],
   "source": [
    "sns.histplot(data = a , x = \"price\",kde=True);  # yoğunluk fonksiyonu grafiğe eklenmiş oldu."
   ]
  },
  {
   "cell_type": "code",
   "execution_count": 40,
   "id": "cdea106c-e5ec-44af-bd8d-e5781a54b512",
   "metadata": {
    "collapsed": true,
    "jupyter": {
     "outputs_hidden": true
    },
    "tags": []
   },
   "outputs": [
    {
     "data": {
      "text/plain": [
       "<seaborn.axisgrid.FacetGrid at 0x20ec31b80d0>"
      ]
     },
     "execution_count": 40,
     "metadata": {},
     "output_type": "execute_result"
    },
    {
     "data": {
      "image/png": "[encoded data removed]",
      "text/plain": [
       "<Figure size 360x360 with 1 Axes>"
      ]
     },
     "metadata": {
      "needs_background": "light"
     },
     "output_type": "display_data"
    }
   ],
   "source": [
    "sns.displot(a.price)"
   ]
  },
  {
   "cell_type": "code",
   "execution_count": 85,
   "id": "b90ebf46-41bb-4df2-8a3c-3b462539748b",
   "metadata": {},
   "outputs": [
    {
     "data": {
      "image/png": "[encoded data removed]",
      "text/plain": [
       "<Figure size 432x288 with 1 Axes>"
      ]
     },
     "metadata": {
      "needs_background": "light"
     },
     "output_type": "display_data"
    }
   ],
   "source": [
    "sns.histplot(a.price, bins = 1000 , kde = False);   # bins: kaç tane kutu oluşturulacağını gösterir.değer arttıkça ayrıntı artıyor gibi düşün"
   ]
  },
  {
   "cell_type": "code",
   "execution_count": 161,
   "id": "c7a8796c-40ec-431c-99d4-f9918f66737b",
   "metadata": {},
   "outputs": [
    {
     "data": {
      "image/png": "[encoded data removed]",
      "text/plain": [
       "<Figure size 432x288 with 1 Axes>"
      ]
     },
     "metadata": {
      "needs_background": "light"
     },
     "output_type": "display_data"
    }
   ],
   "source": [
    "sns.histplot(data = a ,x = \"price\", bins = 15 ,kde = True, hue = \"color\").set_title(\"price sayısal değişkenin histogram tekniği ile görselleştirilmesi\");"
   ]
  },
  {
   "cell_type": "code",
   "execution_count": 110,
   "id": "9f98ec10-b622-4e3d-b667-641c131fa8fb",
   "metadata": {},
   "outputs": [
    {
     "data": {
      "text/plain": [
       "price    27540\n",
       "dtype: int64"
      ]
     },
     "execution_count": 110,
     "metadata": {},
     "output_type": "execute_result"
    }
   ],
   "source": [
    "# 2500 değerinden küçük kaç tane price sınıfı vardır ? Grafikte görüntüyü kanıtlayınız.\n",
    "a[(a[\"price\"]<2500)].count()[[\"price\"]]"
   ]
  },
  {
   "cell_type": "code",
   "execution_count": 111,
   "id": "b4f4a09d-c8ac-4663-9e54-457833d632d1",
   "metadata": {
    "tags": []
   },
   "outputs": [
    {
     "data": {
      "text/plain": [
       "\u001b[1;31mSignature:\u001b[0m\n",
       "\u001b[0msns\u001b[0m\u001b[1;33m.\u001b[0m\u001b[0mkdeplot\u001b[0m\u001b[1;33m(\u001b[0m\u001b[1;33m\n",
       "\u001b[0m    \u001b[0mx\u001b[0m\u001b[1;33m=\u001b[0m\u001b[1;32mNone\u001b[0m\u001b[1;33m,\u001b[0m\u001b[1;33m\n",
       "\u001b[0m    \u001b[1;33m*\u001b[0m\u001b[1;33m,\u001b[0m\u001b[1;33m\n",
       "\u001b[0m    \u001b[0my\u001b[0m\u001b[1;33m=\u001b[0m\u001b[1;32mNone\u001b[0m\u001b[1;33m,\u001b[0m\u001b[1;33m\n",
       "\u001b[0m    \u001b[0mshade\u001b[0m\u001b[1;33m=\u001b[0m\u001b[1;32mNone\u001b[0m\u001b[1;33m,\u001b[0m\u001b[1;33m\n",
       "\u001b[0m    \u001b[0mvertical\u001b[0m\u001b[1;33m=\u001b[0m\u001b[1;32mFalse\u001b[0m\u001b[1;33m,\u001b[0m\u001b[1;33m\n",
       "\u001b[0m    \u001b[0mkernel\u001b[0m\u001b[1;33m=\u001b[0m\u001b[1;32mNone\u001b[0m\u001b[1;33m,\u001b[0m\u001b[1;33m\n",
       "\u001b[0m    \u001b[0mbw\u001b[0m\u001b[1;33m=\u001b[0m\u001b[1;32mNone\u001b[0m\u001b[1;33m,\u001b[0m\u001b[1;33m\n",
       "\u001b[0m    \u001b[0mgridsize\u001b[0m\u001b[1;33m=\u001b[0m\u001b[1;36m200\u001b[0m\u001b[1;33m,\u001b[0m\u001b[1;33m\n",
       "\u001b[0m    \u001b[0mcut\u001b[0m\u001b[1;33m=\u001b[0m\u001b[1;36m3\u001b[0m\u001b[1;33m,\u001b[0m\u001b[1;33m\n",
       "\u001b[0m    \u001b[0mclip\u001b[0m\u001b[1;33m=\u001b[0m\u001b[1;32mNone\u001b[0m\u001b[1;33m,\u001b[0m\u001b[1;33m\n",
       "\u001b[0m    \u001b[0mlegend\u001b[0m\u001b[1;33m=\u001b[0m\u001b[1;32mTrue\u001b[0m\u001b[1;33m,\u001b[0m\u001b[1;33m\n",
       "\u001b[0m    \u001b[0mcumulative\u001b[0m\u001b[1;33m=\u001b[0m\u001b[1;32mFalse\u001b[0m\u001b[1;33m,\u001b[0m\u001b[1;33m\n",
       "\u001b[0m    \u001b[0mshade_lowest\u001b[0m\u001b[1;33m=\u001b[0m\u001b[1;32mNone\u001b[0m\u001b[1;33m,\u001b[0m\u001b[1;33m\n",
       "\u001b[0m    \u001b[0mcbar\u001b[0m\u001b[1;33m=\u001b[0m\u001b[1;32mFalse\u001b[0m\u001b[1;33m,\u001b[0m\u001b[1;33m\n",
       "\u001b[0m    \u001b[0mcbar_ax\u001b[0m\u001b[1;33m=\u001b[0m\u001b[1;32mNone\u001b[0m\u001b[1;33m,\u001b[0m\u001b[1;33m\n",
       "\u001b[0m    \u001b[0mcbar_kws\u001b[0m\u001b[1;33m=\u001b[0m\u001b[1;32mNone\u001b[0m\u001b[1;33m,\u001b[0m\u001b[1;33m\n",
       "\u001b[0m    \u001b[0max\u001b[0m\u001b[1;33m=\u001b[0m\u001b[1;32mNone\u001b[0m\u001b[1;33m,\u001b[0m\u001b[1;33m\n",
       "\u001b[0m    \u001b[0mweights\u001b[0m\u001b[1;33m=\u001b[0m\u001b[1;32mNone\u001b[0m\u001b[1;33m,\u001b[0m\u001b[1;33m\n",
       "\u001b[0m    \u001b[0mhue\u001b[0m\u001b[1;33m=\u001b[0m\u001b[1;32mNone\u001b[0m\u001b[1;33m,\u001b[0m\u001b[1;33m\n",
       "\u001b[0m    \u001b[0mpalette\u001b[0m\u001b[1;33m=\u001b[0m\u001b[1;32mNone\u001b[0m\u001b[1;33m,\u001b[0m\u001b[1;33m\n",
       "\u001b[0m    \u001b[0mhue_order\u001b[0m\u001b[1;33m=\u001b[0m\u001b[1;32mNone\u001b[0m\u001b[1;33m,\u001b[0m\u001b[1;33m\n",
       "\u001b[0m    \u001b[0mhue_norm\u001b[0m\u001b[1;33m=\u001b[0m\u001b[1;32mNone\u001b[0m\u001b[1;33m,\u001b[0m\u001b[1;33m\n",
       "\u001b[0m    \u001b[0mmultiple\u001b[0m\u001b[1;33m=\u001b[0m\u001b[1;34m'layer'\u001b[0m\u001b[1;33m,\u001b[0m\u001b[1;33m\n",
       "\u001b[0m    \u001b[0mcommon_norm\u001b[0m\u001b[1;33m=\u001b[0m\u001b[1;32mTrue\u001b[0m\u001b[1;33m,\u001b[0m\u001b[1;33m\n",
       "\u001b[0m    \u001b[0mcommon_grid\u001b[0m\u001b[1;33m=\u001b[0m\u001b[1;32mFalse\u001b[0m\u001b[1;33m,\u001b[0m\u001b[1;33m\n",
       "\u001b[0m    \u001b[0mlevels\u001b[0m\u001b[1;33m=\u001b[0m\u001b[1;36m10\u001b[0m\u001b[1;33m,\u001b[0m\u001b[1;33m\n",
       "\u001b[0m    \u001b[0mthresh\u001b[0m\u001b[1;33m=\u001b[0m\u001b[1;36m0.05\u001b[0m\u001b[1;33m,\u001b[0m\u001b[1;33m\n",
       "\u001b[0m    \u001b[0mbw_method\u001b[0m\u001b[1;33m=\u001b[0m\u001b[1;34m'scott'\u001b[0m\u001b[1;33m,\u001b[0m\u001b[1;33m\n",
       "\u001b[0m    \u001b[0mbw_adjust\u001b[0m\u001b[1;33m=\u001b[0m\u001b[1;36m1\u001b[0m\u001b[1;33m,\u001b[0m\u001b[1;33m\n",
       "\u001b[0m    \u001b[0mlog_scale\u001b[0m\u001b[1;33m=\u001b[0m\u001b[1;32mNone\u001b[0m\u001b[1;33m,\u001b[0m\u001b[1;33m\n",
       "\u001b[0m    \u001b[0mcolor\u001b[0m\u001b[1;33m=\u001b[0m\u001b[1;32mNone\u001b[0m\u001b[1;33m,\u001b[0m\u001b[1;33m\n",
       "\u001b[0m    \u001b[0mfill\u001b[0m\u001b[1;33m=\u001b[0m\u001b[1;32mNone\u001b[0m\u001b[1;33m,\u001b[0m\u001b[1;33m\n",
       "\u001b[0m    \u001b[0mdata\u001b[0m\u001b[1;33m=\u001b[0m\u001b[1;32mNone\u001b[0m\u001b[1;33m,\u001b[0m\u001b[1;33m\n",
       "\u001b[0m    \u001b[0mdata2\u001b[0m\u001b[1;33m=\u001b[0m\u001b[1;32mNone\u001b[0m\u001b[1;33m,\u001b[0m\u001b[1;33m\n",
       "\u001b[0m    \u001b[0mwarn_singular\u001b[0m\u001b[1;33m=\u001b[0m\u001b[1;32mTrue\u001b[0m\u001b[1;33m,\u001b[0m\u001b[1;33m\n",
       "\u001b[0m    \u001b[1;33m**\u001b[0m\u001b[0mkwargs\u001b[0m\u001b[1;33m,\u001b[0m\u001b[1;33m\n",
       "\u001b[0m\u001b[1;33m)\u001b[0m\u001b[1;33m\u001b[0m\u001b[1;33m\u001b[0m\u001b[0m\n",
       "\u001b[1;31mDocstring:\u001b[0m\n",
       "Plot univariate or bivariate distributions using kernel density estimation.\n",
       "\n",
       "A kernel density estimate (KDE) plot is a method for visualizing the\n",
       "distribution of observations in a dataset, analagous to a histogram. KDE\n",
       "represents the data using a continuous probability density curve in one or\n",
       "more dimensions.\n",
       "\n",
       "The approach is explained further in the :ref:`user guide <tutorial_kde>`.\n",
       "\n",
       "Relative to a histogram, KDE can produce a plot that is less cluttered and\n",
       "more interpretable, especially when drawing multiple distributions. But it\n",
       "has the potential to introduce distortions if the underlying distribution is\n",
       "bounded or not smooth. Like a histogram, the quality of the representation\n",
       "also depends on the selection of good smoothing parameters.\n",
       "\n",
       "Parameters\n",
       "----------\n",
       "x, y : vectors or keys in ``data``\n",
       "    Variables that specify positions on the x and y axes.\n",
       "shade : bool\n",
       "    Alias for ``fill``. Using ``fill`` is recommended.\n",
       "vertical : bool\n",
       "    Orientation parameter.\n",
       "\n",
       "    .. deprecated:: 0.11.0\n",
       "       specify orientation by assigning the ``x`` or ``y`` variables.\n",
       "\n",
       "kernel : str\n",
       "    Function that defines the kernel.\n",
       "\n",
       "    .. deprecated:: 0.11.0\n",
       "       support for non-Gaussian kernels has been removed.\n",
       "\n",
       "bw : str, number, or callable\n",
       "    Smoothing parameter.\n",
       "\n",
       "    .. deprecated:: 0.11.0\n",
       "       see ``bw_method`` and ``bw_adjust``.\n",
       "\n",
       "gridsize : int\n",
       "    Number of points on each dimension of the evaluation grid.\n",
       "cut : number, optional\n",
       "    Factor, multiplied by the smoothing bandwidth, that determines how\n",
       "    far the evaluation grid extends past the extreme datapoints. When\n",
       "    set to 0, truncate the curve at the data limits.\n",
       "clip : pair of numbers or None, or a pair of such pairs\n",
       "    Do not evaluate the density outside of these limits.\n",
       "legend : bool\n",
       "    If False, suppress the legend for semantic variables.\n",
       "cumulative : bool, optional\n",
       "    If True, estimate a cumulative distribution function.\n",
       "shade_lowest : bool\n",
       "    If False, the area below the lowest contour will be transparent\n",
       "\n",
       "    .. deprecated:: 0.11.0\n",
       "       see ``thresh``.\n",
       "\n",
       "cbar : bool\n",
       "    If True, add a colorbar to annotate the color mapping in a bivariate plot.\n",
       "    Note: Does not currently support plots with a ``hue`` variable well.\n",
       "cbar_ax : :class:`matplotlib.axes.Axes`\n",
       "    Pre-existing axes for the colorbar.\n",
       "cbar_kws : dict\n",
       "    Additional parameters passed to :meth:`matplotlib.figure.Figure.colorbar`.\n",
       "ax : :class:`matplotlib.axes.Axes`\n",
       "    Pre-existing axes for the plot. Otherwise, call :func:`matplotlib.pyplot.gca`\n",
       "    internally.\n",
       "weights : vector or key in ``data``\n",
       "    If provided, weight the kernel density estimation using these values.\n",
       "hue : vector or key in ``data``\n",
       "    Semantic variable that is mapped to determine the color of plot elements.\n",
       "palette : string, list, dict, or :class:`matplotlib.colors.Colormap`\n",
       "    Method for choosing the colors to use when mapping the ``hue`` semantic.\n",
       "    String values are passed to :func:`color_palette`. List or dict values\n",
       "    imply categorical mapping, while a colormap object implies numeric mapping.\n",
       "hue_order : vector of strings\n",
       "    Specify the order of processing and plotting for categorical levels of the\n",
       "    ``hue`` semantic.\n",
       "hue_norm : tuple or :class:`matplotlib.colors.Normalize`\n",
       "    Either a pair of values that set the normalization range in data units\n",
       "    or an object that will map from data units into a [0, 1] interval. Usage\n",
       "    implies numeric mapping.\n",
       "multiple : {{\"layer\", \"stack\", \"fill\"}}\n",
       "    Method for drawing multiple elements when semantic mapping creates subsets.\n",
       "    Only relevant with univariate data.\n",
       "common_norm : bool\n",
       "    If True, scale each conditional density by the number of observations\n",
       "    such that the total area under all densities sums to 1. Otherwise,\n",
       "    normalize each density independently.\n",
       "common_grid : bool\n",
       "    If True, use the same evaluation grid for each kernel density estimate.\n",
       "    Only relevant with univariate data.\n",
       "levels : int or vector\n",
       "    Number of contour levels or values to draw contours at. A vector argument\n",
       "    must have increasing values in [0, 1]. Levels correspond to iso-proportions\n",
       "    of the density: e.g., 20% of the probability mass will lie below the\n",
       "    contour drawn for 0.2. Only relevant with bivariate data.\n",
       "thresh : number in [0, 1]\n",
       "    Lowest iso-proportion level at which to draw a contour line. Ignored when\n",
       "    ``levels`` is a vector. Only relevant with bivariate data.\n",
       "bw_method : string, scalar, or callable, optional\n",
       "    Method for determining the smoothing bandwidth to use; passed to\n",
       "    :class:`scipy.stats.gaussian_kde`.\n",
       "bw_adjust : number, optional\n",
       "    Factor that multiplicatively scales the value chosen using\n",
       "    ``bw_method``. Increasing will make the curve smoother. See Notes.\n",
       "log_scale : bool or number, or pair of bools or numbers\n",
       "    Set axis scale(s) to log. A single value sets the data axis for univariate\n",
       "    distributions and both axes for bivariate distributions. A pair of values\n",
       "    sets each axis independently. Numeric values are interpreted as the desired\n",
       "    base (default 10). If `False`, defer to the existing Axes scale.\n",
       "color : :mod:`matplotlib color <matplotlib.colors>`\n",
       "    Single color specification for when hue mapping is not used. Otherwise, the\n",
       "    plot will try to hook into the matplotlib property cycle.\n",
       "fill : bool or None\n",
       "    If True, fill in the area under univariate density curves or between\n",
       "    bivariate contours. If None, the default depends on ``multiple``.\n",
       "data : :class:`pandas.DataFrame`, :class:`numpy.ndarray`, mapping, or sequence\n",
       "    Input data structure. Either a long-form collection of vectors that can be\n",
       "    assigned to named variables or a wide-form dataset that will be internally\n",
       "    reshaped.\n",
       "warn_singular : bool\n",
       "    If True, issue a warning when trying to estimate the density of data\n",
       "    with zero variance.\n",
       "kwargs\n",
       "    Other keyword arguments are passed to one of the following matplotlib\n",
       "    functions:\n",
       "\n",
       "    - :meth:`matplotlib.axes.Axes.plot` (univariate, ``fill=False``),\n",
       "    - :meth:`matplotlib.axes.Axes.fill_between` (univariate, ``fill=True``),\n",
       "    - :meth:`matplotlib.axes.Axes.contour` (bivariate, ``fill=False``),\n",
       "    - :meth:`matplotlib.axes.contourf` (bivariate, ``fill=True``).\n",
       "\n",
       "Returns\n",
       "-------\n",
       ":class:`matplotlib.axes.Axes`\n",
       "    The matplotlib axes containing the plot.\n",
       "\n",
       "See Also\n",
       "--------\n",
       "displot : Figure-level interface to distribution plot functions.\n",
       "histplot : Plot a histogram of binned counts with optional normalization or smoothing.\n",
       "ecdfplot : Plot empirical cumulative distribution functions.\n",
       "jointplot : Draw a bivariate plot with univariate marginal distributions.\n",
       "violinplot : Draw an enhanced boxplot using kernel density estimation.\n",
       "\n",
       "Notes\n",
       "-----\n",
       "\n",
       "The *bandwidth*, or standard deviation of the smoothing kernel, is an\n",
       "important parameter. Misspecification of the bandwidth can produce a\n",
       "distorted representation of the data. Much like the choice of bin width in a\n",
       "histogram, an over-smoothed curve can erase true features of a\n",
       "distribution, while an under-smoothed curve can create false features out of\n",
       "random variability. The rule-of-thumb that sets the default bandwidth works\n",
       "best when the true distribution is smooth, unimodal, and roughly bell-shaped.\n",
       "It is always a good idea to check the default behavior by using ``bw_adjust``\n",
       "to increase or decrease the amount of smoothing.\n",
       "\n",
       "Because the smoothing algorithm uses a Gaussian kernel, the estimated density\n",
       "curve can extend to values that do not make sense for a particular dataset.\n",
       "For example, the curve may be drawn over negative values when smoothing data\n",
       "that are naturally positive. The ``cut`` and ``clip`` parameters can be used\n",
       "to control the extent of the curve, but datasets that have many observations\n",
       "close to a natural boundary may be better served by a different visualization\n",
       "method.\n",
       "\n",
       "Similar considerations apply when a dataset is naturally discrete or \"spiky\"\n",
       "(containing many repeated observations of the same value). Kernel density\n",
       "estimation will always produce a smooth curve, which would be misleading\n",
       "in these situations.\n",
       "\n",
       "The units on the density axis are a common source of confusion. While kernel\n",
       "density estimation produces a probability distribution, the height of the curve\n",
       "at each point gives a density, not a probability. A probability can be obtained\n",
       "only by integrating the density across a range. The curve is normalized so\n",
       "that the integral over all possible values is 1, meaning that the scale of\n",
       "the density axis depends on the data values.\n",
       "\n",
       "Examples\n",
       "--------\n",
       "\n",
       ".. include:: ../docstrings/kdeplot.rst\n",
       "\u001b[1;31mFile:\u001b[0m      c:\\users\\dogukan\\anaconda3\\lib\\site-packages\\seaborn\\distributions.py\n",
       "\u001b[1;31mType:\u001b[0m      function\n"
      ]
     },
     "metadata": {},
     "output_type": "display_data"
    }
   ],
   "source": [
    "?sns.kdeplot"
   ]
  },
  {
   "cell_type": "code",
   "execution_count": 126,
   "id": "e2712022-61a2-4ef7-85af-33b86440806c",
   "metadata": {
    "tags": []
   },
   "outputs": [
    {
     "data": {
      "image/png": "[encoded data removed]",
      "text/plain": [
       "<Figure size 432x288 with 1 Axes>"
      ]
     },
     "metadata": {
      "needs_background": "light"
     },
     "output_type": "display_data"
    }
   ],
   "source": [
    "# histogram değil, sadece yoğunluk grafiği oluşturmak istenirse histplot() yerine kdeplot() metodu kullanılmalıdır.\n",
    " \n",
    "sns.kdeplot(a.price);   # yoğunluk grafiği oluşturur."
   ]
  },
  {
   "cell_type": "code",
   "execution_count": 72,
   "id": "8a37d1c3-9a6a-4c7e-80e1-5377d7b324e2",
   "metadata": {
    "collapsed": true,
    "jupyter": {
     "outputs_hidden": true
    },
    "tags": []
   },
   "outputs": [
    {
     "data": {
      "text/plain": [
       "<seaborn.axisgrid.FacetGrid at 0x20ec91b14f0>"
      ]
     },
     "execution_count": 72,
     "metadata": {},
     "output_type": "execute_result"
    },
    {
     "data": {
      "image/png": "[encoded data removed]",
      "text/plain": [
       "<Figure size 360x360 with 1 Axes>"
      ]
     },
     "metadata": {
      "needs_background": "light"
     },
     "output_type": "display_data"
    }
   ],
   "source": [
    "#2. başka bir yol\n",
    "sns.displot(a.price,kind='kde')"
   ]
  },
  {
   "cell_type": "markdown",
   "id": "fbf2bab4-9b1d-4e0f-9c10-3d20da090aaa",
   "metadata": {
    "tags": []
   },
   "source": [
    "* Grafiğe baktığımızda price değişkeninin dağılımına baktığımızda pozitif çarpık olduğunu söyleyebiliriz. \n",
    "* Yayvan(basık) bir dağılımın olduğunu söyleyebiliriz. \n",
    "* Standart sapmasının çok da küçük olmadığını söyleyebiliriz."
   ]
  },
  {
   "cell_type": "code",
   "execution_count": 74,
   "id": "28af10f9-7519-4ac5-9349-2bf7a4c22ec1",
   "metadata": {
    "tags": []
   },
   "outputs": [
    {
     "data": {
      "text/plain": [
       "count    53940.000000\n",
       "mean      3932.799722\n",
       "std       3989.439738\n",
       "min        326.000000\n",
       "25%        950.000000\n",
       "50%       2401.000000\n",
       "75%       5324.250000\n",
       "max      18823.000000\n",
       "Name: price, dtype: float64"
      ]
     },
     "execution_count": 74,
     "metadata": {},
     "output_type": "execute_result"
    }
   ],
   "source": [
    "a[\"price\"].describe()\n",
    "\n",
    "# grafikte ortalamanın 4000 civarında olduğunu biliyoruz. Tabiki çarpıklık söz konusu."
   ]
  },
  {
   "cell_type": "code",
   "execution_count": 115,
   "id": "bc16e16c-5e80-4303-a942-3ea497f793f9",
   "metadata": {},
   "outputs": [
    {
     "data": {
      "image/png": "[encoded data removed]",
      "text/plain": [
       "<Figure size 640x480 with 1 Axes>"
      ]
     },
     "metadata": {},
     "output_type": "display_data"
    }
   ],
   "source": [
    "sns.kdeplot(data=a, x=\"price\",shade=True,color=\"green\");"
   ]
  },
  {
   "cell_type": "code",
   "execution_count": 140,
   "id": "e589ff3d-0af3-494d-b261-43e281d3a3f0",
   "metadata": {},
   "outputs": [
    {
     "data": {
      "image/png": "[encoded data removed]",
      "text/plain": [
       "<Figure size 432x288 with 1 Axes>"
      ]
     },
     "metadata": {
      "needs_background": "light"
     },
     "output_type": "display_data"
    }
   ],
   "source": [
    "sns.kdeplot(a.price,vertical = True);"
   ]
  },
  {
   "cell_type": "code",
   "execution_count": 141,
   "id": "2ec70734-10de-4448-9be3-7d9f1de0917f",
   "metadata": {},
   "outputs": [
    {
     "data": {
      "image/png": "[encoded data removed]",
      "text/plain": [
       "<Figure size 432x288 with 2 Axes>"
      ]
     },
     "metadata": {
      "needs_background": "light"
     },
     "output_type": "display_data"
    }
   ],
   "source": [
    "import numpy as np\n",
    "x= np.random.randn(50)\n",
    "y = np.random.randn(50)\n",
    "sns.kdeplot(x,y,shade = True,cbar=True);"
   ]
  },
  {
   "cell_type": "markdown",
   "id": "710b5b6f-e7e9-49cf-8f0c-daef005c00d9",
   "metadata": {},
   "source": [
    "## Histogram Ve Yoğunluk Çaprazlamalar"
   ]
  },
  {
   "cell_type": "code",
   "execution_count": 81,
   "id": "2fc3bd20-caeb-4cad-ac3b-b323c9b99374",
   "metadata": {},
   "outputs": [
    {
     "data": {
      "text/html": [
       "<div>\n",
       "<style scoped>\n",
       "    .dataframe tbody tr th:only-of-type {\n",
       "        vertical-align: middle;\n",
       "    }\n",
       "\n",
       "    .dataframe tbody tr th {\n",
       "        vertical-align: top;\n",
       "    }\n",
       "\n",
       "    .dataframe thead th {\n",
       "        text-align: right;\n",
       "    }\n",
       "</style>\n",
       "<table border=\"1\" class=\"dataframe\">\n",
       "  <thead>\n",
       "    <tr style=\"text-align: right;\">\n",
       "      <th></th>\n",
       "      <th>carat</th>\n",
       "      <th>cut</th>\n",
       "      <th>color</th>\n",
       "      <th>clarity</th>\n",
       "      <th>depth</th>\n",
       "      <th>table</th>\n",
       "      <th>price</th>\n",
       "      <th>x</th>\n",
       "      <th>y</th>\n",
       "      <th>z</th>\n",
       "    </tr>\n",
       "  </thead>\n",
       "  <tbody>\n",
       "    <tr>\n",
       "      <th>0</th>\n",
       "      <td>0.23</td>\n",
       "      <td>Ideal</td>\n",
       "      <td>E</td>\n",
       "      <td>SI2</td>\n",
       "      <td>61.5</td>\n",
       "      <td>55.0</td>\n",
       "      <td>326</td>\n",
       "      <td>3.95</td>\n",
       "      <td>3.98</td>\n",
       "      <td>2.43</td>\n",
       "    </tr>\n",
       "    <tr>\n",
       "      <th>1</th>\n",
       "      <td>0.21</td>\n",
       "      <td>Premium</td>\n",
       "      <td>E</td>\n",
       "      <td>SI1</td>\n",
       "      <td>59.8</td>\n",
       "      <td>61.0</td>\n",
       "      <td>326</td>\n",
       "      <td>3.89</td>\n",
       "      <td>3.84</td>\n",
       "      <td>2.31</td>\n",
       "    </tr>\n",
       "    <tr>\n",
       "      <th>2</th>\n",
       "      <td>0.23</td>\n",
       "      <td>Good</td>\n",
       "      <td>E</td>\n",
       "      <td>VS1</td>\n",
       "      <td>56.9</td>\n",
       "      <td>65.0</td>\n",
       "      <td>327</td>\n",
       "      <td>4.05</td>\n",
       "      <td>4.07</td>\n",
       "      <td>2.31</td>\n",
       "    </tr>\n",
       "    <tr>\n",
       "      <th>3</th>\n",
       "      <td>0.29</td>\n",
       "      <td>Premium</td>\n",
       "      <td>I</td>\n",
       "      <td>VS2</td>\n",
       "      <td>62.4</td>\n",
       "      <td>58.0</td>\n",
       "      <td>334</td>\n",
       "      <td>4.20</td>\n",
       "      <td>4.23</td>\n",
       "      <td>2.63</td>\n",
       "    </tr>\n",
       "    <tr>\n",
       "      <th>4</th>\n",
       "      <td>0.31</td>\n",
       "      <td>Good</td>\n",
       "      <td>J</td>\n",
       "      <td>SI2</td>\n",
       "      <td>63.3</td>\n",
       "      <td>58.0</td>\n",
       "      <td>335</td>\n",
       "      <td>4.34</td>\n",
       "      <td>4.35</td>\n",
       "      <td>2.75</td>\n",
       "    </tr>\n",
       "  </tbody>\n",
       "</table>\n",
       "</div>"
      ],
      "text/plain": [
       "   carat      cut color clarity  depth  table  price     x     y     z\n",
       "0   0.23    Ideal     E     SI2   61.5   55.0    326  3.95  3.98  2.43\n",
       "1   0.21  Premium     E     SI1   59.8   61.0    326  3.89  3.84  2.31\n",
       "2   0.23     Good     E     VS1   56.9   65.0    327  4.05  4.07  2.31\n",
       "3   0.29  Premium     I     VS2   62.4   58.0    334  4.20  4.23  2.63\n",
       "4   0.31     Good     J     SI2   63.3   58.0    335  4.34  4.35  2.75"
      ]
     },
     "execution_count": 81,
     "metadata": {},
     "output_type": "execute_result"
    }
   ],
   "source": [
    "import seaborn as sns\n",
    "diamonds = sns.load_dataset('diamonds')\n",
    "a = diamonds.copy()\n",
    "a.head() "
   ]
  },
  {
   "cell_type": "code",
   "execution_count": 83,
   "id": "911746b7-518b-4309-88b7-9c229f33ca22",
   "metadata": {},
   "outputs": [
    {
     "data": {
      "image/png": "[encoded data removed]",
      "text/plain": [
       "<Figure size 432x288 with 1 Axes>"
      ]
     },
     "metadata": {
      "needs_background": "light"
     },
     "output_type": "display_data"
    }
   ],
   "source": [
    "sns.kdeplot(a.price,shade = True).set_title(\"Bir sürekli değişkenin yoğunluk grafiği\");"
   ]
  },
  {
   "cell_type": "markdown",
   "id": "b7c497f0-56f3-4154-8b6d-bf9f4a94f2a7",
   "metadata": {},
   "source": [
    "* **bir yoğunluk grafiğine başka bir boyut ekleme**"
   ]
  },
  {
   "cell_type": "code",
   "execution_count": 121,
   "id": "09f22753-4b11-4983-a8de-360808203ce8",
   "metadata": {},
   "outputs": [
    {
     "data": {
      "image/png": "[encoded data removed]",
      "text/plain": [
       "<Figure size 447.5x360 with 1 Axes>"
      ]
     },
     "metadata": {
      "needs_background": "light"
     },
     "output_type": "display_data"
    }
   ],
   "source": [
    "# price'a göre bir yoğunluk grafiği oluşturup bunun üzerine boyut eklemek istiyoruz.\n",
    "#Bunu seaborn fonksiyonu olan FacetGrid ile yaparız. Sonrasında ekleyeceğimiz boyut(cut değişkeni)\n",
    "# ile price değişkenini map'lememiz ilişkilendirmemiz lazım.\n",
    "\n",
    "import seaborn as sns\n",
    "from pandas.api.types import CategoricalDtype\n",
    "\n",
    "diamonds = sns.load_dataset('diamonds')\n",
    "a = diamonds.copy()\n",
    "\n",
    "a.cut = a.cut.astype(CategoricalDtype(categories = [\"Fair\",\"Good\",\"Very Good\",\"Premium\",\"Ideal\"],ordered = True))\n",
    "\n",
    "(sns\n",
    " .FacetGrid(a,\n",
    "            hue = \"cut\",\n",
    "            height = 5,\n",
    "            xlim = (0,10000))\n",
    " .map(sns.kdeplot,\"price\",shade=True)\n",
    " .add_legend()\n",
    ");"
   ]
  },
  {
   "cell_type": "code",
   "execution_count": 8,
   "id": "e1b402df-e00d-4e4e-be48-0ffab7c1bba8",
   "metadata": {},
   "outputs": [
    {
     "data": {
      "image/png": "[encoded data removed]",
      "text/plain": [
       "<Figure size 403.75x360 with 1 Axes>"
      ]
     },
     "metadata": {
      "needs_background": "light"
     },
     "output_type": "display_data"
    }
   ],
   "source": [
    "sns.catplot(x=\"cut\",y=\"price\",hue=\"color\",kind=\"point\",data=a);\n",
    "\n",
    "# color aracılığıyla cut değişkenleri sınıflarının kesişiminde bir bilgi taşındığı gözlemlenir"
   ]
  },
  {
   "cell_type": "code",
   "execution_count": 6,
   "id": "0fc4ac0e-e2d9-4fec-bde0-4490123e3c98",
   "metadata": {},
   "outputs": [
    {
     "data": {
      "image/png": "[encoded data removed]",
      "text/plain": [
       "<Figure size 403.75x360 with 1 Axes>"
      ]
     },
     "metadata": {
      "needs_background": "light"
     },
     "output_type": "display_data"
    }
   ],
   "source": [
    "sns.catplot(x=\"cut\",y=\"price\",hue=\"color\",kind=\"strip\",data=a);"
   ]
  }
 ],
 "metadata": {
  "kernelspec": {
   "display_name": "Python 3 (ipykernel)",
   "language": "python",
   "name": "python3"
  },
  "language_info": {
   "codemirror_mode": {
    "name": "ipython",
    "version": 3
   },
   "file_extension": ".py",
   "mimetype": "text/x-python",
   "name": "python",
   "nbconvert_exporter": "python",
   "pygments_lexer": "ipython3",
   "version": "3.9.13"
  }
 },
 "nbformat": 4,
 "nbformat_minor": 5
}
