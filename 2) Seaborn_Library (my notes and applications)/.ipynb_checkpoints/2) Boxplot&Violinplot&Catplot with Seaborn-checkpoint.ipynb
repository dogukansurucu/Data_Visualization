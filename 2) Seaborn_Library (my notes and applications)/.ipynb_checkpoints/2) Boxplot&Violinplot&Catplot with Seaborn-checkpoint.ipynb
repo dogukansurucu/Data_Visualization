{
 "cells": [
  {
   "cell_type": "markdown",
   "id": "7caf0f6a-c015-4571-a82c-017e76ce2960",
   "metadata": {
    "tags": []
   },
   "source": [
    "## **Boxplot (Kutu Grafiği)**"
   ]
  },
  {
   "cell_type": "markdown",
   "id": "242cd8d6-3fcc-425b-b695-91b8bc4fe8ec",
   "metadata": {},
   "source": [
    "> **BOXPLOT** : **Sayısal değişkeneleri ve sürekli değişkenleri görselleştirmek amacıyla kullanılır .**\n",
    "\n",
    "> Ayrıca histogram ile eşit ağırlığa sahiptir yani sayısal bir değişkennin dağılımı incelendiğinde mutlaka histogram grafiğine de göz atmalıyız."
   ]
  },
  {
   "cell_type": "markdown",
   "id": "385cfce4-31f3-4625-b6a9-79f65b0e6791",
   "metadata": {},
   "source": [
    "**Veri Seti Hikayesi**"
   ]
  },
  {
   "cell_type": "markdown",
   "id": "338ec480-2ad0-4d4a-a29f-1208dbdcef5d",
   "metadata": {},
   "source": [
    "total_bill: yemeğin toplam fiyatı (bahşiş ve vergi dahil)\n",
    "\n",
    "tip: bahşiş\n",
    "\n",
    "sex: ücreti ödeyen kişinin cinsiyeti (0=male, 1=female)\n",
    "\n",
    "smoker: grupta sigara içen var mı? (0=No, 1=Yes)\n",
    "\n",
    "day: gün (3=Thur, 4=Fri, 5=Sat, 6=Sun)\n",
    "\n",
    "time: ne zaman? (0=Day, 1=Night)\n",
    "\n",
    "size: grupta kaç kişi var?"
   ]
  },
  {
   "cell_type": "code",
   "execution_count": 2,
   "id": "efd3618f-6794-4874-baba-12b7395dc2ee",
   "metadata": {},
   "outputs": [
    {
     "data": {
      "text/html": [
       "<div>\n",
       "<style scoped>\n",
       "    .dataframe tbody tr th:only-of-type {\n",
       "        vertical-align: middle;\n",
       "    }\n",
       "\n",
       "    .dataframe tbody tr th {\n",
       "        vertical-align: top;\n",
       "    }\n",
       "\n",
       "    .dataframe thead th {\n",
       "        text-align: right;\n",
       "    }\n",
       "</style>\n",
       "<table border=\"1\" class=\"dataframe\">\n",
       "  <thead>\n",
       "    <tr style=\"text-align: right;\">\n",
       "      <th></th>\n",
       "      <th>total_bill</th>\n",
       "      <th>tip</th>\n",
       "      <th>sex</th>\n",
       "      <th>smoker</th>\n",
       "      <th>day</th>\n",
       "      <th>time</th>\n",
       "      <th>size</th>\n",
       "    </tr>\n",
       "  </thead>\n",
       "  <tbody>\n",
       "    <tr>\n",
       "      <th>0</th>\n",
       "      <td>16.99</td>\n",
       "      <td>1.01</td>\n",
       "      <td>Female</td>\n",
       "      <td>No</td>\n",
       "      <td>Sun</td>\n",
       "      <td>Dinner</td>\n",
       "      <td>2</td>\n",
       "    </tr>\n",
       "    <tr>\n",
       "      <th>1</th>\n",
       "      <td>10.34</td>\n",
       "      <td>1.66</td>\n",
       "      <td>Male</td>\n",
       "      <td>No</td>\n",
       "      <td>Sun</td>\n",
       "      <td>Dinner</td>\n",
       "      <td>3</td>\n",
       "    </tr>\n",
       "    <tr>\n",
       "      <th>2</th>\n",
       "      <td>21.01</td>\n",
       "      <td>3.50</td>\n",
       "      <td>Male</td>\n",
       "      <td>No</td>\n",
       "      <td>Sun</td>\n",
       "      <td>Dinner</td>\n",
       "      <td>3</td>\n",
       "    </tr>\n",
       "    <tr>\n",
       "      <th>3</th>\n",
       "      <td>23.68</td>\n",
       "      <td>3.31</td>\n",
       "      <td>Male</td>\n",
       "      <td>No</td>\n",
       "      <td>Sun</td>\n",
       "      <td>Dinner</td>\n",
       "      <td>2</td>\n",
       "    </tr>\n",
       "    <tr>\n",
       "      <th>4</th>\n",
       "      <td>24.59</td>\n",
       "      <td>3.61</td>\n",
       "      <td>Female</td>\n",
       "      <td>No</td>\n",
       "      <td>Sun</td>\n",
       "      <td>Dinner</td>\n",
       "      <td>4</td>\n",
       "    </tr>\n",
       "  </tbody>\n",
       "</table>\n",
       "</div>"
      ],
      "text/plain": [
       "   total_bill   tip     sex smoker  day    time  size\n",
       "0       16.99  1.01  Female     No  Sun  Dinner     2\n",
       "1       10.34  1.66    Male     No  Sun  Dinner     3\n",
       "2       21.01  3.50    Male     No  Sun  Dinner     3\n",
       "3       23.68  3.31    Male     No  Sun  Dinner     2\n",
       "4       24.59  3.61  Female     No  Sun  Dinner     4"
      ]
     },
     "execution_count": 2,
     "metadata": {},
     "output_type": "execute_result"
    }
   ],
   "source": [
    "import seaborn as sns\n",
    "tips = sns.load_dataset(\"tips\")\n",
    "df = tips.copy()\n",
    "df.head()"
   ]
  },
  {
   "cell_type": "code",
   "execution_count": 3,
   "id": "aaf60afb-3d41-47cb-8033-e884f3189ba0",
   "metadata": {},
   "outputs": [
    {
     "data": {
      "text/html": [
       "<div>\n",
       "<style scoped>\n",
       "    .dataframe tbody tr th:only-of-type {\n",
       "        vertical-align: middle;\n",
       "    }\n",
       "\n",
       "    .dataframe tbody tr th {\n",
       "        vertical-align: top;\n",
       "    }\n",
       "\n",
       "    .dataframe thead th {\n",
       "        text-align: right;\n",
       "    }\n",
       "</style>\n",
       "<table border=\"1\" class=\"dataframe\">\n",
       "  <thead>\n",
       "    <tr style=\"text-align: right;\">\n",
       "      <th></th>\n",
       "      <th>total_bill</th>\n",
       "      <th>tip</th>\n",
       "      <th>size</th>\n",
       "    </tr>\n",
       "  </thead>\n",
       "  <tbody>\n",
       "    <tr>\n",
       "      <th>count</th>\n",
       "      <td>244.000000</td>\n",
       "      <td>244.000000</td>\n",
       "      <td>244.000000</td>\n",
       "    </tr>\n",
       "    <tr>\n",
       "      <th>mean</th>\n",
       "      <td>19.785943</td>\n",
       "      <td>2.998279</td>\n",
       "      <td>2.569672</td>\n",
       "    </tr>\n",
       "    <tr>\n",
       "      <th>std</th>\n",
       "      <td>8.902412</td>\n",
       "      <td>1.383638</td>\n",
       "      <td>0.951100</td>\n",
       "    </tr>\n",
       "    <tr>\n",
       "      <th>min</th>\n",
       "      <td>3.070000</td>\n",
       "      <td>1.000000</td>\n",
       "      <td>1.000000</td>\n",
       "    </tr>\n",
       "    <tr>\n",
       "      <th>25%</th>\n",
       "      <td>13.347500</td>\n",
       "      <td>2.000000</td>\n",
       "      <td>2.000000</td>\n",
       "    </tr>\n",
       "    <tr>\n",
       "      <th>50%</th>\n",
       "      <td>17.795000</td>\n",
       "      <td>2.900000</td>\n",
       "      <td>2.000000</td>\n",
       "    </tr>\n",
       "    <tr>\n",
       "      <th>75%</th>\n",
       "      <td>24.127500</td>\n",
       "      <td>3.562500</td>\n",
       "      <td>3.000000</td>\n",
       "    </tr>\n",
       "    <tr>\n",
       "      <th>max</th>\n",
       "      <td>50.810000</td>\n",
       "      <td>10.000000</td>\n",
       "      <td>6.000000</td>\n",
       "    </tr>\n",
       "  </tbody>\n",
       "</table>\n",
       "</div>"
      ],
      "text/plain": [
       "       total_bill         tip        size\n",
       "count  244.000000  244.000000  244.000000\n",
       "mean    19.785943    2.998279    2.569672\n",
       "std      8.902412    1.383638    0.951100\n",
       "min      3.070000    1.000000    1.000000\n",
       "25%     13.347500    2.000000    2.000000\n",
       "50%     17.795000    2.900000    2.000000\n",
       "75%     24.127500    3.562500    3.000000\n",
       "max     50.810000   10.000000    6.000000"
      ]
     },
     "execution_count": 3,
     "metadata": {},
     "output_type": "execute_result"
    }
   ],
   "source": [
    "df.describe()"
   ]
  },
  {
   "cell_type": "code",
   "execution_count": 17,
   "id": "0fdcfffb-27c7-495d-8cdd-00092742e639",
   "metadata": {
    "collapsed": true,
    "jupyter": {
     "outputs_hidden": true
    },
    "tags": []
   },
   "outputs": [
    {
     "data": {
      "text/plain": [
       "67      3.07\n",
       "92      5.75\n",
       "111     7.25\n",
       "172     7.25\n",
       "149     7.51\n",
       "       ...  \n",
       "151    13.13\n",
       "139    13.16\n",
       "213    13.27\n",
       "228    13.28\n",
       "26     13.37\n",
       "Name: total_bill, Length: 62, dtype: float64"
      ]
     },
     "execution_count": 17,
     "metadata": {},
     "output_type": "execute_result"
    }
   ],
   "source": [
    "#merak\n",
    "# alt kartili (25%) tablodaki gibi bulunuz ?\n",
    "# 244+1/4 = 61,.25\n",
    "# demekki total_bill verileri küçükten büyüğe doğru sıralandığında 1.kartil 61-62.satırlardaki değer\n",
    "\n",
    "df[\"total_bill\"].sort_values().head(62)"
   ]
  },
  {
   "cell_type": "code",
   "execution_count": 18,
   "id": "a5c95409-8dd8-4a3b-9447-6e4c0a0435d3",
   "metadata": {},
   "outputs": [
    {
     "data": {
      "text/html": [
       "<div>\n",
       "<style scoped>\n",
       "    .dataframe tbody tr th:only-of-type {\n",
       "        vertical-align: middle;\n",
       "    }\n",
       "\n",
       "    .dataframe tbody tr th {\n",
       "        vertical-align: top;\n",
       "    }\n",
       "\n",
       "    .dataframe thead th {\n",
       "        text-align: right;\n",
       "    }\n",
       "</style>\n",
       "<table border=\"1\" class=\"dataframe\">\n",
       "  <thead>\n",
       "    <tr style=\"text-align: right;\">\n",
       "      <th></th>\n",
       "      <th>count</th>\n",
       "      <th>mean</th>\n",
       "      <th>std</th>\n",
       "      <th>min</th>\n",
       "      <th>25%</th>\n",
       "      <th>50%</th>\n",
       "      <th>75%</th>\n",
       "      <th>max</th>\n",
       "    </tr>\n",
       "  </thead>\n",
       "  <tbody>\n",
       "    <tr>\n",
       "      <th>total_bill</th>\n",
       "      <td>244.0</td>\n",
       "      <td>19.785943</td>\n",
       "      <td>8.902412</td>\n",
       "      <td>3.07</td>\n",
       "      <td>13.3475</td>\n",
       "      <td>17.795</td>\n",
       "      <td>24.1275</td>\n",
       "      <td>50.81</td>\n",
       "    </tr>\n",
       "    <tr>\n",
       "      <th>tip</th>\n",
       "      <td>244.0</td>\n",
       "      <td>2.998279</td>\n",
       "      <td>1.383638</td>\n",
       "      <td>1.00</td>\n",
       "      <td>2.0000</td>\n",
       "      <td>2.900</td>\n",
       "      <td>3.5625</td>\n",
       "      <td>10.00</td>\n",
       "    </tr>\n",
       "    <tr>\n",
       "      <th>size</th>\n",
       "      <td>244.0</td>\n",
       "      <td>2.569672</td>\n",
       "      <td>0.951100</td>\n",
       "      <td>1.00</td>\n",
       "      <td>2.0000</td>\n",
       "      <td>2.000</td>\n",
       "      <td>3.0000</td>\n",
       "      <td>6.00</td>\n",
       "    </tr>\n",
       "  </tbody>\n",
       "</table>\n",
       "</div>"
      ],
      "text/plain": [
       "            count       mean       std   min      25%     50%      75%    max\n",
       "total_bill  244.0  19.785943  8.902412  3.07  13.3475  17.795  24.1275  50.81\n",
       "tip         244.0   2.998279  1.383638  1.00   2.0000   2.900   3.5625  10.00\n",
       "size        244.0   2.569672  0.951100  1.00   2.0000   2.000   3.0000   6.00"
      ]
     },
     "execution_count": 18,
     "metadata": {},
     "output_type": "execute_result"
    }
   ],
   "source": [
    "df.describe().T"
   ]
  },
  {
   "cell_type": "code",
   "execution_count": 24,
   "id": "b799a6d0-03ba-43af-bc82-c21f2d18360f",
   "metadata": {},
   "outputs": [
    {
     "data": {
      "text/plain": [
       "Male      157\n",
       "Female     87\n",
       "Name: sex, dtype: int64"
      ]
     },
     "execution_count": 24,
     "metadata": {},
     "output_type": "execute_result"
    }
   ],
   "source": [
    "df[\"sex\"].value_counts()"
   ]
  },
  {
   "cell_type": "code",
   "execution_count": 25,
   "id": "d387dc55-f08c-44da-84ac-73d9a9d79b3c",
   "metadata": {},
   "outputs": [
    {
     "data": {
      "text/plain": [
       "No     151\n",
       "Yes     93\n",
       "Name: smoker, dtype: int64"
      ]
     },
     "execution_count": 25,
     "metadata": {},
     "output_type": "execute_result"
    }
   ],
   "source": [
    "df[\"smoker\"].value_counts()"
   ]
  },
  {
   "cell_type": "code",
   "execution_count": 26,
   "id": "ad30a711-b1d8-4fec-9900-beb6dcac9f19",
   "metadata": {},
   "outputs": [
    {
     "data": {
      "text/plain": [
       "Sat     87\n",
       "Sun     76\n",
       "Thur    62\n",
       "Fri     19\n",
       "Name: day, dtype: int64"
      ]
     },
     "execution_count": 26,
     "metadata": {},
     "output_type": "execute_result"
    }
   ],
   "source": [
    "df[\"day\"].value_counts()"
   ]
  },
  {
   "cell_type": "code",
   "execution_count": 27,
   "id": "5362d85b-d6ee-4f06-8ef5-8648dbd9c823",
   "metadata": {},
   "outputs": [
    {
     "data": {
      "text/plain": [
       "Dinner    176\n",
       "Lunch      68\n",
       "Name: time, dtype: int64"
      ]
     },
     "execution_count": 27,
     "metadata": {},
     "output_type": "execute_result"
    }
   ],
   "source": [
    "df[\"time\"].value_counts()"
   ]
  },
  {
   "cell_type": "markdown",
   "id": "a1f7f6b3-21c3-49b7-a701-f0ee8bd0e0a1",
   "metadata": {
    "tags": []
   },
   "source": [
    "## Kutu Grafiğinin Oluşturulması (Boxplot)"
   ]
  },
  {
   "cell_type": "markdown",
   "id": "d4423973-7e2d-4afa-adaa-fd4b6988cf34",
   "metadata": {},
   "source": [
    "* Boxplot, **kartiller aracılığıyla** çok değerli bilgi sunan görselleştirme tekniğidir"
   ]
  },
  {
   "cell_type": "markdown",
   "id": "42bfbef1-60d9-4319-832b-a3d1cc9de71d",
   "metadata": {
    "tags": []
   },
   "source": [
    "![alt text](Boxplot-Normal-Dağılım-1.jpg)"
   ]
  },
  {
   "cell_type": "code",
   "execution_count": 145,
   "id": "bd35062f-e80a-418e-ab32-25c2296161cc",
   "metadata": {
    "tags": []
   },
   "outputs": [
    {
     "data": {
      "text/plain": [
       "\u001b[1;31mSignature:\u001b[0m\n",
       "\u001b[0msns\u001b[0m\u001b[1;33m.\u001b[0m\u001b[0mboxplot\u001b[0m\u001b[1;33m(\u001b[0m\u001b[1;33m\n",
       "\u001b[0m    \u001b[1;33m*\u001b[0m\u001b[1;33m,\u001b[0m\u001b[1;33m\n",
       "\u001b[0m    \u001b[0mx\u001b[0m\u001b[1;33m=\u001b[0m\u001b[1;32mNone\u001b[0m\u001b[1;33m,\u001b[0m\u001b[1;33m\n",
       "\u001b[0m    \u001b[0my\u001b[0m\u001b[1;33m=\u001b[0m\u001b[1;32mNone\u001b[0m\u001b[1;33m,\u001b[0m\u001b[1;33m\n",
       "\u001b[0m    \u001b[0mhue\u001b[0m\u001b[1;33m=\u001b[0m\u001b[1;32mNone\u001b[0m\u001b[1;33m,\u001b[0m\u001b[1;33m\n",
       "\u001b[0m    \u001b[0mdata\u001b[0m\u001b[1;33m=\u001b[0m\u001b[1;32mNone\u001b[0m\u001b[1;33m,\u001b[0m\u001b[1;33m\n",
       "\u001b[0m    \u001b[0morder\u001b[0m\u001b[1;33m=\u001b[0m\u001b[1;32mNone\u001b[0m\u001b[1;33m,\u001b[0m\u001b[1;33m\n",
       "\u001b[0m    \u001b[0mhue_order\u001b[0m\u001b[1;33m=\u001b[0m\u001b[1;32mNone\u001b[0m\u001b[1;33m,\u001b[0m\u001b[1;33m\n",
       "\u001b[0m    \u001b[0morient\u001b[0m\u001b[1;33m=\u001b[0m\u001b[1;32mNone\u001b[0m\u001b[1;33m,\u001b[0m\u001b[1;33m\n",
       "\u001b[0m    \u001b[0mcolor\u001b[0m\u001b[1;33m=\u001b[0m\u001b[1;32mNone\u001b[0m\u001b[1;33m,\u001b[0m\u001b[1;33m\n",
       "\u001b[0m    \u001b[0mpalette\u001b[0m\u001b[1;33m=\u001b[0m\u001b[1;32mNone\u001b[0m\u001b[1;33m,\u001b[0m\u001b[1;33m\n",
       "\u001b[0m    \u001b[0msaturation\u001b[0m\u001b[1;33m=\u001b[0m\u001b[1;36m0.75\u001b[0m\u001b[1;33m,\u001b[0m\u001b[1;33m\n",
       "\u001b[0m    \u001b[0mwidth\u001b[0m\u001b[1;33m=\u001b[0m\u001b[1;36m0.8\u001b[0m\u001b[1;33m,\u001b[0m\u001b[1;33m\n",
       "\u001b[0m    \u001b[0mdodge\u001b[0m\u001b[1;33m=\u001b[0m\u001b[1;32mTrue\u001b[0m\u001b[1;33m,\u001b[0m\u001b[1;33m\n",
       "\u001b[0m    \u001b[0mfliersize\u001b[0m\u001b[1;33m=\u001b[0m\u001b[1;36m5\u001b[0m\u001b[1;33m,\u001b[0m\u001b[1;33m\n",
       "\u001b[0m    \u001b[0mlinewidth\u001b[0m\u001b[1;33m=\u001b[0m\u001b[1;32mNone\u001b[0m\u001b[1;33m,\u001b[0m\u001b[1;33m\n",
       "\u001b[0m    \u001b[0mwhis\u001b[0m\u001b[1;33m=\u001b[0m\u001b[1;36m1.5\u001b[0m\u001b[1;33m,\u001b[0m\u001b[1;33m\n",
       "\u001b[0m    \u001b[0max\u001b[0m\u001b[1;33m=\u001b[0m\u001b[1;32mNone\u001b[0m\u001b[1;33m,\u001b[0m\u001b[1;33m\n",
       "\u001b[0m    \u001b[1;33m**\u001b[0m\u001b[0mkwargs\u001b[0m\u001b[1;33m,\u001b[0m\u001b[1;33m\n",
       "\u001b[0m\u001b[1;33m)\u001b[0m\u001b[1;33m\u001b[0m\u001b[1;33m\u001b[0m\u001b[0m\n",
       "\u001b[1;31mDocstring:\u001b[0m\n",
       "Draw a box plot to show distributions with respect to categories.\n",
       "\n",
       "A box plot (or box-and-whisker plot) shows the distribution of quantitative\n",
       "data in a way that facilitates comparisons between variables or across\n",
       "levels of a categorical variable. The box shows the quartiles of the\n",
       "dataset while the whiskers extend to show the rest of the distribution,\n",
       "except for points that are determined to be \"outliers\" using a method\n",
       "that is a function of the inter-quartile range.\n",
       "\n",
       "\n",
       "Input data can be passed in a variety of formats, including:\n",
       "\n",
       "- Vectors of data represented as lists, numpy arrays, or pandas Series\n",
       "  objects passed directly to the ``x``, ``y``, and/or ``hue`` parameters.\n",
       "- A \"long-form\" DataFrame, in which case the ``x``, ``y``, and ``hue``\n",
       "  variables will determine how the data are plotted.\n",
       "- A \"wide-form\" DataFrame, such that each numeric column will be plotted.\n",
       "- An array or list of vectors.\n",
       "\n",
       "In most cases, it is possible to use numpy or Python objects, but pandas\n",
       "objects are preferable because the associated names will be used to\n",
       "annotate the axes. Additionally, you can use Categorical types for the\n",
       "grouping variables to control the order of plot elements.    \n",
       "\n",
       "This function always treats one of the variables as categorical and\n",
       "draws data at ordinal positions (0, 1, ... n) on the relevant axis, even\n",
       "when the data has a numeric or date type.\n",
       "\n",
       "See the :ref:`tutorial <categorical_tutorial>` for more information.    \n",
       "\n",
       "Parameters\n",
       "----------\n",
       "x, y, hue : names of variables in ``data`` or vector data, optional\n",
       "    Inputs for plotting long-form data. See examples for interpretation.        \n",
       "data : DataFrame, array, or list of arrays, optional\n",
       "    Dataset for plotting. If ``x`` and ``y`` are absent, this is\n",
       "    interpreted as wide-form. Otherwise it is expected to be long-form.    \n",
       "order, hue_order : lists of strings, optional\n",
       "    Order to plot the categorical levels in, otherwise the levels are\n",
       "    inferred from the data objects.        \n",
       "orient : \"v\" | \"h\", optional\n",
       "    Orientation of the plot (vertical or horizontal). This is usually\n",
       "    inferred based on the type of the input variables, but it can be used\n",
       "    to resolve ambiguity when both `x` and `y` are numeric or when\n",
       "    plotting wide-form data.    \n",
       "color : matplotlib color, optional\n",
       "    Color for all of the elements, or seed for a gradient palette.    \n",
       "palette : palette name, list, or dict\n",
       "    Colors to use for the different levels of the ``hue`` variable. Should\n",
       "    be something that can be interpreted by :func:`color_palette`, or a\n",
       "    dictionary mapping hue levels to matplotlib colors.    \n",
       "saturation : float, optional\n",
       "    Proportion of the original saturation to draw colors at. Large patches\n",
       "    often look better with slightly desaturated colors, but set this to\n",
       "    ``1`` if you want the plot colors to perfectly match the input color\n",
       "    spec.    \n",
       "width : float, optional\n",
       "    Width of a full element when not using hue nesting, or width of all the\n",
       "    elements for one level of the major grouping variable.    \n",
       "dodge : bool, optional\n",
       "    When hue nesting is used, whether elements should be shifted along the\n",
       "    categorical axis.    \n",
       "fliersize : float, optional\n",
       "    Size of the markers used to indicate outlier observations.\n",
       "linewidth : float, optional\n",
       "    Width of the gray lines that frame the plot elements.    \n",
       "whis : float, optional\n",
       "    Proportion of the IQR past the low and high quartiles to extend the\n",
       "    plot whiskers. Points outside this range will be identified as\n",
       "    outliers.\n",
       "ax : matplotlib Axes, optional\n",
       "    Axes object to draw the plot onto, otherwise uses the current Axes.    \n",
       "kwargs : key, value mappings\n",
       "    Other keyword arguments are passed through to\n",
       "    :meth:`matplotlib.axes.Axes.boxplot`.\n",
       "\n",
       "Returns\n",
       "-------\n",
       "ax : matplotlib Axes\n",
       "    Returns the Axes object with the plot drawn onto it.    \n",
       "\n",
       "See Also\n",
       "--------\n",
       "violinplot : A combination of boxplot and kernel density estimation.    \n",
       "stripplot : A scatterplot where one variable is categorical. Can be used\n",
       "            in conjunction with other plots to show each observation.    \n",
       "swarmplot : A categorical scatterplot where the points do not overlap. Can\n",
       "            be used with other plots to show each observation.    \n",
       "catplot : Combine a categorical plot with a :class:`FacetGrid`.    \n",
       "\n",
       "Examples\n",
       "--------\n",
       "\n",
       "Draw a single horizontal boxplot:\n",
       "\n",
       ".. plot::\n",
       "    :context: close-figs\n",
       "\n",
       "    >>> import seaborn as sns\n",
       "    >>> sns.set_theme(style=\"whitegrid\")\n",
       "    >>> tips = sns.load_dataset(\"tips\")\n",
       "    >>> ax = sns.boxplot(x=tips[\"total_bill\"])\n",
       "\n",
       "Draw a vertical boxplot grouped by a categorical variable:\n",
       "\n",
       ".. plot::\n",
       "    :context: close-figs\n",
       "\n",
       "    >>> ax = sns.boxplot(x=\"day\", y=\"total_bill\", data=tips)\n",
       "\n",
       "Draw a boxplot with nested grouping by two categorical variables:\n",
       "\n",
       ".. plot::\n",
       "    :context: close-figs\n",
       "\n",
       "    >>> ax = sns.boxplot(x=\"day\", y=\"total_bill\", hue=\"smoker\",\n",
       "    ...                  data=tips, palette=\"Set3\")\n",
       "\n",
       "Draw a boxplot with nested grouping when some bins are empty:\n",
       "\n",
       ".. plot::\n",
       "    :context: close-figs\n",
       "\n",
       "    >>> ax = sns.boxplot(x=\"day\", y=\"total_bill\", hue=\"time\",\n",
       "    ...                  data=tips, linewidth=2.5)\n",
       "\n",
       "Control box order by passing an explicit order:\n",
       "\n",
       ".. plot::\n",
       "    :context: close-figs\n",
       "\n",
       "    >>> ax = sns.boxplot(x=\"time\", y=\"tip\", data=tips,\n",
       "    ...                  order=[\"Dinner\", \"Lunch\"])\n",
       "\n",
       "Draw a boxplot for each numeric variable in a DataFrame:\n",
       "\n",
       ".. plot::\n",
       "    :context: close-figs\n",
       "\n",
       "    >>> iris = sns.load_dataset(\"iris\")\n",
       "    >>> ax = sns.boxplot(data=iris, orient=\"h\", palette=\"Set2\")\n",
       "\n",
       "Use ``hue`` without changing box position or width:\n",
       "\n",
       ".. plot::\n",
       "    :context: close-figs\n",
       "\n",
       "    >>> tips[\"weekend\"] = tips[\"day\"].isin([\"Sat\", \"Sun\"])\n",
       "    >>> ax = sns.boxplot(x=\"day\", y=\"total_bill\", hue=\"weekend\",\n",
       "    ...                  data=tips, dodge=False)\n",
       "\n",
       "Use :func:`swarmplot` to show the datapoints on top of the boxes:\n",
       "\n",
       ".. plot::\n",
       "    :context: close-figs\n",
       "\n",
       "    >>> ax = sns.boxplot(x=\"day\", y=\"total_bill\", data=tips)\n",
       "    >>> ax = sns.swarmplot(x=\"day\", y=\"total_bill\", data=tips, color=\".25\")\n",
       "\n",
       "Use :func:`catplot` to combine a :func:`boxplot` and a\n",
       ":class:`FacetGrid`. This allows grouping within additional categorical\n",
       "variables. Using :func:`catplot` is safer than using :class:`FacetGrid`\n",
       "directly, as it ensures synchronization of variable order across facets:\n",
       "\n",
       ".. plot::\n",
       "    :context: close-figs\n",
       "\n",
       "    >>> g = sns.catplot(x=\"sex\", y=\"total_bill\",\n",
       "    ...                 hue=\"smoker\", col=\"time\",\n",
       "    ...                 data=tips, kind=\"box\",\n",
       "    ...                 height=4, aspect=.7);\n",
       "\u001b[1;31mFile:\u001b[0m      c:\\users\\suruc\\anaconda3\\lib\\site-packages\\seaborn\\categorical.py\n",
       "\u001b[1;31mType:\u001b[0m      function\n"
      ]
     },
     "metadata": {},
     "output_type": "display_data"
    }
   ],
   "source": [
    "?sns.boxplot"
   ]
  },
  {
   "cell_type": "markdown",
   "id": "a50a3093-78ff-4287-9b9c-2da0267a07fb",
   "metadata": {},
   "source": [
    "> **Syntax** : seaborn.boxplot(x=None, y=None, hue=None, data=None, order=None, hue_order=None, orient=None, color=None, palette=None, saturation=0.75, width=0.8, dodge=True, fliersize=5, linewidth=None, whis=1.5, ax=None, **kwargs)"
   ]
  },
  {
   "cell_type": "markdown",
   "id": "08d75050-a2de-46d3-b203-3573239b3bb3",
   "metadata": {},
   "source": [
    "> **KUTU GRAFİĞİ PARAMETRELERİ**:  \n",
    "* <span style='color:red'>x, y, hue</span> : Uzun biçimli verileri çizmek için girişler. \n",
    "* <span style='color:red'>data</span> : Çizim için veri seti. x ve y yoksa, bu geniş biçimli olarak yorumlanır. \n",
    "* <span style='color:red'>color</span> : Tüm elementler için renk."
   ]
  },
  {
   "cell_type": "code",
   "execution_count": 144,
   "id": "0af293ce-a085-462e-921b-fdc376e9efc0",
   "metadata": {},
   "outputs": [
    {
     "data": {
      "image/png": "[encoded data removed]",
      "text/plain": [
       "<Figure size 432x288 with 1 Axes>"
      ]
     },
     "metadata": {
      "needs_background": "light"
     },
     "output_type": "display_data"
    }
   ],
   "source": [
    "import seaborn as sns\n",
    "tips = sns.load_dataset(\"tips\")\n",
    "df = tips.copy()\n",
    "df.head()\n",
    "\n",
    "sns.boxplot(x = df[\"total_bill\"]);"
   ]
  },
  {
   "cell_type": "code",
   "execution_count": 157,
   "id": "9b2e5a44-6507-4aea-a468-5aec8a73bb5a",
   "metadata": {},
   "outputs": [
    {
     "data": {
      "image/png": "[encoded data removed]",
      "text/plain": [
       "<Figure size 432x288 with 1 Axes>"
      ]
     },
     "metadata": {
      "needs_background": "light"
     },
     "output_type": "display_data"
    }
   ],
   "source": [
    "sns.boxplot(y = df[\"total_bill\"]);"
   ]
  },
  {
   "cell_type": "markdown",
   "id": "d63258c2-4d70-42e0-a329-1f683024cacb",
   "metadata": {},
   "source": [
    "## Kutu Grafiği Çaprazlamalar"
   ]
  },
  {
   "cell_type": "code",
   "execution_count": 149,
   "id": "813006c3-206f-4059-bb2c-b9542d4fe27d",
   "metadata": {
    "tags": []
   },
   "outputs": [
    {
     "data": {
      "text/html": [
       "<div>\n",
       "<style scoped>\n",
       "    .dataframe tbody tr th:only-of-type {\n",
       "        vertical-align: middle;\n",
       "    }\n",
       "\n",
       "    .dataframe tbody tr th {\n",
       "        vertical-align: top;\n",
       "    }\n",
       "\n",
       "    .dataframe thead th {\n",
       "        text-align: right;\n",
       "    }\n",
       "</style>\n",
       "<table border=\"1\" class=\"dataframe\">\n",
       "  <thead>\n",
       "    <tr style=\"text-align: right;\">\n",
       "      <th></th>\n",
       "      <th>total_bill</th>\n",
       "      <th>tip</th>\n",
       "      <th>sex</th>\n",
       "      <th>smoker</th>\n",
       "      <th>day</th>\n",
       "      <th>time</th>\n",
       "      <th>size</th>\n",
       "    </tr>\n",
       "  </thead>\n",
       "  <tbody>\n",
       "    <tr>\n",
       "      <th>0</th>\n",
       "      <td>16.99</td>\n",
       "      <td>1.01</td>\n",
       "      <td>Female</td>\n",
       "      <td>No</td>\n",
       "      <td>Sun</td>\n",
       "      <td>Dinner</td>\n",
       "      <td>2</td>\n",
       "    </tr>\n",
       "    <tr>\n",
       "      <th>1</th>\n",
       "      <td>10.34</td>\n",
       "      <td>1.66</td>\n",
       "      <td>Male</td>\n",
       "      <td>No</td>\n",
       "      <td>Sun</td>\n",
       "      <td>Dinner</td>\n",
       "      <td>3</td>\n",
       "    </tr>\n",
       "    <tr>\n",
       "      <th>2</th>\n",
       "      <td>21.01</td>\n",
       "      <td>3.50</td>\n",
       "      <td>Male</td>\n",
       "      <td>No</td>\n",
       "      <td>Sun</td>\n",
       "      <td>Dinner</td>\n",
       "      <td>3</td>\n",
       "    </tr>\n",
       "    <tr>\n",
       "      <th>3</th>\n",
       "      <td>23.68</td>\n",
       "      <td>3.31</td>\n",
       "      <td>Male</td>\n",
       "      <td>No</td>\n",
       "      <td>Sun</td>\n",
       "      <td>Dinner</td>\n",
       "      <td>2</td>\n",
       "    </tr>\n",
       "    <tr>\n",
       "      <th>4</th>\n",
       "      <td>24.59</td>\n",
       "      <td>3.61</td>\n",
       "      <td>Female</td>\n",
       "      <td>No</td>\n",
       "      <td>Sun</td>\n",
       "      <td>Dinner</td>\n",
       "      <td>4</td>\n",
       "    </tr>\n",
       "  </tbody>\n",
       "</table>\n",
       "</div>"
      ],
      "text/plain": [
       "   total_bill   tip     sex smoker  day    time  size\n",
       "0       16.99  1.01  Female     No  Sun  Dinner     2\n",
       "1       10.34  1.66    Male     No  Sun  Dinner     3\n",
       "2       21.01  3.50    Male     No  Sun  Dinner     3\n",
       "3       23.68  3.31    Male     No  Sun  Dinner     2\n",
       "4       24.59  3.61  Female     No  Sun  Dinner     4"
      ]
     },
     "execution_count": 149,
     "metadata": {},
     "output_type": "execute_result"
    }
   ],
   "source": [
    "# hangi günler daha fazla kazanıyoruz ?\n",
    "\n",
    "import seaborn as sns\n",
    "tips = sns.load_dataset(\"tips\")\n",
    "df = tips.copy()\n",
    "df.head()"
   ]
  },
  {
   "cell_type": "code",
   "execution_count": 49,
   "id": "30a15da5-408a-4045-9ad0-24a272df4b9c",
   "metadata": {},
   "outputs": [
    {
     "data": {
      "image/png": "[encoded data removed]",
      "text/plain": [
       "<Figure size 432x288 with 1 Axes>"
      ]
     },
     "metadata": {
      "needs_background": "light"
     },
     "output_type": "display_data"
    }
   ],
   "source": [
    "sns.boxplot(y = \"total_bill\", x = \"day\", data=df);"
   ]
  },
  {
   "cell_type": "markdown",
   "id": "d57248ac-52ac-49f4-9893-7b4868c76af6",
   "metadata": {},
   "source": [
    "* Cumartesi günü gelen müşteri sayısı diğerlerine göre daha fazl olmasına rağmen en çok gelir pazar günü olduğu görülüyor."
   ]
  },
  {
   "cell_type": "code",
   "execution_count": 64,
   "id": "fede5840-c030-4c15-a6fc-78ad3b60a70a",
   "metadata": {
    "tags": []
   },
   "outputs": [
    {
     "data": {
      "image/png": "[encoded data removed]",
      "text/plain": [
       "<Figure size 432x288 with 1 Axes>"
      ]
     },
     "metadata": {
      "needs_background": "light"
     },
     "output_type": "display_data"
    }
   ],
   "source": [
    "# sabah mı akşam mı daha çok kazanıyoruz ?\n",
    "\n",
    "sns.boxplot(x = \"total_bill\", y = \"time\", data=df);"
   ]
  },
  {
   "cell_type": "markdown",
   "id": "5fc7a5f3-3469-40ac-92f3-8cb68ebfd376",
   "metadata": {},
   "source": [
    "* grafiğe baktığımızda akşam yemeklerinde daha fazla gelirin olduğunu gözlemleyebiliyoruz.\n",
    "\n",
    "* o zaman restoran sahibi şunu düşünmelidir; en kaliteli,müşterilerle ilgilenmesini bilen,deneyimli çalışanları haftasonu ve akşamları görevlendirirse daha fazla gelir elde edebilir."
   ]
  },
  {
   "cell_type": "code",
   "execution_count": 63,
   "id": "74e4a1e1-47e9-4283-b926-c0533e7e0f66",
   "metadata": {},
   "outputs": [
    {
     "data": {
      "text/html": [
       "<div>\n",
       "<style scoped>\n",
       "    .dataframe tbody tr th:only-of-type {\n",
       "        vertical-align: middle;\n",
       "    }\n",
       "\n",
       "    .dataframe tbody tr th {\n",
       "        vertical-align: top;\n",
       "    }\n",
       "\n",
       "    .dataframe thead th {\n",
       "        text-align: right;\n",
       "    }\n",
       "</style>\n",
       "<table border=\"1\" class=\"dataframe\">\n",
       "  <thead>\n",
       "    <tr style=\"text-align: right;\">\n",
       "      <th></th>\n",
       "      <th>total_bill</th>\n",
       "    </tr>\n",
       "    <tr>\n",
       "      <th>time</th>\n",
       "      <th></th>\n",
       "    </tr>\n",
       "  </thead>\n",
       "  <tbody>\n",
       "    <tr>\n",
       "      <th>Lunch</th>\n",
       "      <td>1167.47</td>\n",
       "    </tr>\n",
       "    <tr>\n",
       "      <th>Dinner</th>\n",
       "      <td>3660.30</td>\n",
       "    </tr>\n",
       "  </tbody>\n",
       "</table>\n",
       "</div>"
      ],
      "text/plain": [
       "        total_bill\n",
       "time              \n",
       "Lunch      1167.47\n",
       "Dinner     3660.30"
      ]
     },
     "execution_count": 63,
     "metadata": {},
     "output_type": "execute_result"
    }
   ],
   "source": [
    "# kanıt\n",
    "df.groupby(\"time\")[[\"total_bill\"]].sum()"
   ]
  },
  {
   "cell_type": "code",
   "execution_count": 68,
   "id": "286c7c16-4bee-41f9-8599-4842c266b365",
   "metadata": {},
   "outputs": [
    {
     "data": {
      "image/png": "[encoded data removed]",
      "text/plain": [
       "<Figure size 432x288 with 1 Axes>"
      ]
     },
     "metadata": {
      "needs_background": "light"
     },
     "output_type": "display_data"
    }
   ],
   "source": [
    "# kişi sayısı kazanç\n",
    "\n",
    "sns.boxplot(y = \"total_bill\", x = \"size\", data=df);"
   ]
  },
  {
   "cell_type": "code",
   "execution_count": 154,
   "id": "9a094a9f-494c-4e22-85e0-e73dffa5f796",
   "metadata": {
    "tags": []
   },
   "outputs": [
    {
     "data": {
      "image/png": "[encoded data removed]",
      "text/plain": [
       "<Figure size 432x288 with 1 Axes>"
      ]
     },
     "metadata": {
      "needs_background": "light"
     },
     "output_type": "display_data"
    }
   ],
   "source": [
    "# gün ve cinsiyet faktörüne göre elde edilen geliri kutu grafiği ile gösterilmesi.\n",
    "\n",
    "sns.boxplot(x = \"total_bill\", y = \"day\", hue = \"sex\" , data=df);"
   ]
  },
  {
   "cell_type": "markdown",
   "id": "1110b16c-8fbe-4d86-9144-0e1f30a57cd4",
   "metadata": {
    "tags": []
   },
   "source": [
    "## Violin Grafiğinin Oluşturulması (Violin)"
   ]
  },
  {
   "cell_type": "markdown",
   "id": "35a10376-ecf5-4bfc-a039-4073ffad6d4c",
   "metadata": {},
   "source": [
    "**VİOLİN**"
   ]
  },
  {
   "cell_type": "markdown",
   "id": "2650fbaa-4329-400f-a960-bc90e6a6dd0f",
   "metadata": {
    "tags": []
   },
   "source": [
    "> **Violin plot (keman grafiği) sayısal değerler için birden fazla istatistiksel çıkarım yapmamızı sağlayan hem box plot (kutu grafiği) hem de kernel density plotun (yoğunluk grafiği) bir karışımıdır.**"
   ]
  },
  {
   "cell_type": "code",
   "execution_count": 175,
   "id": "6a6af7d6-12ac-4e3e-ac7a-8f7cfdb9b006",
   "metadata": {
    "tags": []
   },
   "outputs": [
    {
     "data": {
      "text/plain": [
       "\u001b[1;31mSignature:\u001b[0m\n",
       "\u001b[0msns\u001b[0m\u001b[1;33m.\u001b[0m\u001b[0mviolinplot\u001b[0m\u001b[1;33m(\u001b[0m\u001b[1;33m\n",
       "\u001b[0m    \u001b[1;33m*\u001b[0m\u001b[1;33m,\u001b[0m\u001b[1;33m\n",
       "\u001b[0m    \u001b[0mx\u001b[0m\u001b[1;33m=\u001b[0m\u001b[1;32mNone\u001b[0m\u001b[1;33m,\u001b[0m\u001b[1;33m\n",
       "\u001b[0m    \u001b[0my\u001b[0m\u001b[1;33m=\u001b[0m\u001b[1;32mNone\u001b[0m\u001b[1;33m,\u001b[0m\u001b[1;33m\n",
       "\u001b[0m    \u001b[0mhue\u001b[0m\u001b[1;33m=\u001b[0m\u001b[1;32mNone\u001b[0m\u001b[1;33m,\u001b[0m\u001b[1;33m\n",
       "\u001b[0m    \u001b[0mdata\u001b[0m\u001b[1;33m=\u001b[0m\u001b[1;32mNone\u001b[0m\u001b[1;33m,\u001b[0m\u001b[1;33m\n",
       "\u001b[0m    \u001b[0morder\u001b[0m\u001b[1;33m=\u001b[0m\u001b[1;32mNone\u001b[0m\u001b[1;33m,\u001b[0m\u001b[1;33m\n",
       "\u001b[0m    \u001b[0mhue_order\u001b[0m\u001b[1;33m=\u001b[0m\u001b[1;32mNone\u001b[0m\u001b[1;33m,\u001b[0m\u001b[1;33m\n",
       "\u001b[0m    \u001b[0mbw\u001b[0m\u001b[1;33m=\u001b[0m\u001b[1;34m'scott'\u001b[0m\u001b[1;33m,\u001b[0m\u001b[1;33m\n",
       "\u001b[0m    \u001b[0mcut\u001b[0m\u001b[1;33m=\u001b[0m\u001b[1;36m2\u001b[0m\u001b[1;33m,\u001b[0m\u001b[1;33m\n",
       "\u001b[0m    \u001b[0mscale\u001b[0m\u001b[1;33m=\u001b[0m\u001b[1;34m'area'\u001b[0m\u001b[1;33m,\u001b[0m\u001b[1;33m\n",
       "\u001b[0m    \u001b[0mscale_hue\u001b[0m\u001b[1;33m=\u001b[0m\u001b[1;32mTrue\u001b[0m\u001b[1;33m,\u001b[0m\u001b[1;33m\n",
       "\u001b[0m    \u001b[0mgridsize\u001b[0m\u001b[1;33m=\u001b[0m\u001b[1;36m100\u001b[0m\u001b[1;33m,\u001b[0m\u001b[1;33m\n",
       "\u001b[0m    \u001b[0mwidth\u001b[0m\u001b[1;33m=\u001b[0m\u001b[1;36m0.8\u001b[0m\u001b[1;33m,\u001b[0m\u001b[1;33m\n",
       "\u001b[0m    \u001b[0minner\u001b[0m\u001b[1;33m=\u001b[0m\u001b[1;34m'box'\u001b[0m\u001b[1;33m,\u001b[0m\u001b[1;33m\n",
       "\u001b[0m    \u001b[0msplit\u001b[0m\u001b[1;33m=\u001b[0m\u001b[1;32mFalse\u001b[0m\u001b[1;33m,\u001b[0m\u001b[1;33m\n",
       "\u001b[0m    \u001b[0mdodge\u001b[0m\u001b[1;33m=\u001b[0m\u001b[1;32mTrue\u001b[0m\u001b[1;33m,\u001b[0m\u001b[1;33m\n",
       "\u001b[0m    \u001b[0morient\u001b[0m\u001b[1;33m=\u001b[0m\u001b[1;32mNone\u001b[0m\u001b[1;33m,\u001b[0m\u001b[1;33m\n",
       "\u001b[0m    \u001b[0mlinewidth\u001b[0m\u001b[1;33m=\u001b[0m\u001b[1;32mNone\u001b[0m\u001b[1;33m,\u001b[0m\u001b[1;33m\n",
       "\u001b[0m    \u001b[0mcolor\u001b[0m\u001b[1;33m=\u001b[0m\u001b[1;32mNone\u001b[0m\u001b[1;33m,\u001b[0m\u001b[1;33m\n",
       "\u001b[0m    \u001b[0mpalette\u001b[0m\u001b[1;33m=\u001b[0m\u001b[1;32mNone\u001b[0m\u001b[1;33m,\u001b[0m\u001b[1;33m\n",
       "\u001b[0m    \u001b[0msaturation\u001b[0m\u001b[1;33m=\u001b[0m\u001b[1;36m0.75\u001b[0m\u001b[1;33m,\u001b[0m\u001b[1;33m\n",
       "\u001b[0m    \u001b[0max\u001b[0m\u001b[1;33m=\u001b[0m\u001b[1;32mNone\u001b[0m\u001b[1;33m,\u001b[0m\u001b[1;33m\n",
       "\u001b[0m    \u001b[1;33m**\u001b[0m\u001b[0mkwargs\u001b[0m\u001b[1;33m,\u001b[0m\u001b[1;33m\n",
       "\u001b[0m\u001b[1;33m)\u001b[0m\u001b[1;33m\u001b[0m\u001b[1;33m\u001b[0m\u001b[0m\n",
       "\u001b[1;31mDocstring:\u001b[0m\n",
       "Draw a combination of boxplot and kernel density estimate.\n",
       "\n",
       "A violin plot plays a similar role as a box and whisker plot. It shows the\n",
       "distribution of quantitative data across several levels of one (or more)\n",
       "categorical variables such that those distributions can be compared. Unlike\n",
       "a box plot, in which all of the plot components correspond to actual\n",
       "datapoints, the violin plot features a kernel density estimation of the\n",
       "underlying distribution.\n",
       "\n",
       "This can be an effective and attractive way to show multiple distributions\n",
       "of data at once, but keep in mind that the estimation procedure is\n",
       "influenced by the sample size, and violins for relatively small samples\n",
       "might look misleadingly smooth.\n",
       "\n",
       "\n",
       "Input data can be passed in a variety of formats, including:\n",
       "\n",
       "- Vectors of data represented as lists, numpy arrays, or pandas Series\n",
       "  objects passed directly to the ``x``, ``y``, and/or ``hue`` parameters.\n",
       "- A \"long-form\" DataFrame, in which case the ``x``, ``y``, and ``hue``\n",
       "  variables will determine how the data are plotted.\n",
       "- A \"wide-form\" DataFrame, such that each numeric column will be plotted.\n",
       "- An array or list of vectors.\n",
       "\n",
       "In most cases, it is possible to use numpy or Python objects, but pandas\n",
       "objects are preferable because the associated names will be used to\n",
       "annotate the axes. Additionally, you can use Categorical types for the\n",
       "grouping variables to control the order of plot elements.    \n",
       "\n",
       "This function always treats one of the variables as categorical and\n",
       "draws data at ordinal positions (0, 1, ... n) on the relevant axis, even\n",
       "when the data has a numeric or date type.\n",
       "\n",
       "See the :ref:`tutorial <categorical_tutorial>` for more information.    \n",
       "\n",
       "Parameters\n",
       "----------\n",
       "x, y, hue : names of variables in ``data`` or vector data, optional\n",
       "    Inputs for plotting long-form data. See examples for interpretation.        \n",
       "data : DataFrame, array, or list of arrays, optional\n",
       "    Dataset for plotting. If ``x`` and ``y`` are absent, this is\n",
       "    interpreted as wide-form. Otherwise it is expected to be long-form.    \n",
       "order, hue_order : lists of strings, optional\n",
       "    Order to plot the categorical levels in, otherwise the levels are\n",
       "    inferred from the data objects.        \n",
       "bw : {'scott', 'silverman', float}, optional\n",
       "    Either the name of a reference rule or the scale factor to use when\n",
       "    computing the kernel bandwidth. The actual kernel size will be\n",
       "    determined by multiplying the scale factor by the standard deviation of\n",
       "    the data within each bin.\n",
       "cut : float, optional\n",
       "    Distance, in units of bandwidth size, to extend the density past the\n",
       "    extreme datapoints. Set to 0 to limit the violin range within the range\n",
       "    of the observed data (i.e., to have the same effect as ``trim=True`` in\n",
       "    ``ggplot``.\n",
       "scale : {\"area\", \"count\", \"width\"}, optional\n",
       "    The method used to scale the width of each violin. If ``area``, each\n",
       "    violin will have the same area. If ``count``, the width of the violins\n",
       "    will be scaled by the number of observations in that bin. If ``width``,\n",
       "    each violin will have the same width.\n",
       "scale_hue : bool, optional\n",
       "    When nesting violins using a ``hue`` variable, this parameter\n",
       "    determines whether the scaling is computed within each level of the\n",
       "    major grouping variable (``scale_hue=True``) or across all the violins\n",
       "    on the plot (``scale_hue=False``).\n",
       "gridsize : int, optional\n",
       "    Number of points in the discrete grid used to compute the kernel\n",
       "    density estimate.\n",
       "width : float, optional\n",
       "    Width of a full element when not using hue nesting, or width of all the\n",
       "    elements for one level of the major grouping variable.    \n",
       "inner : {\"box\", \"quartile\", \"point\", \"stick\", None}, optional\n",
       "    Representation of the datapoints in the violin interior. If ``box``,\n",
       "    draw a miniature boxplot. If ``quartiles``, draw the quartiles of the\n",
       "    distribution.  If ``point`` or ``stick``, show each underlying\n",
       "    datapoint. Using ``None`` will draw unadorned violins.\n",
       "split : bool, optional\n",
       "    When using hue nesting with a variable that takes two levels, setting\n",
       "    ``split`` to True will draw half of a violin for each level. This can\n",
       "    make it easier to directly compare the distributions.\n",
       "dodge : bool, optional\n",
       "    When hue nesting is used, whether elements should be shifted along the\n",
       "    categorical axis.    \n",
       "orient : \"v\" | \"h\", optional\n",
       "    Orientation of the plot (vertical or horizontal). This is usually\n",
       "    inferred based on the type of the input variables, but it can be used\n",
       "    to resolve ambiguity when both `x` and `y` are numeric or when\n",
       "    plotting wide-form data.    \n",
       "linewidth : float, optional\n",
       "    Width of the gray lines that frame the plot elements.    \n",
       "color : matplotlib color, optional\n",
       "    Color for all of the elements, or seed for a gradient palette.    \n",
       "palette : palette name, list, or dict\n",
       "    Colors to use for the different levels of the ``hue`` variable. Should\n",
       "    be something that can be interpreted by :func:`color_palette`, or a\n",
       "    dictionary mapping hue levels to matplotlib colors.    \n",
       "saturation : float, optional\n",
       "    Proportion of the original saturation to draw colors at. Large patches\n",
       "    often look better with slightly desaturated colors, but set this to\n",
       "    ``1`` if you want the plot colors to perfectly match the input color\n",
       "    spec.    \n",
       "ax : matplotlib Axes, optional\n",
       "    Axes object to draw the plot onto, otherwise uses the current Axes.    \n",
       "\n",
       "Returns\n",
       "-------\n",
       "ax : matplotlib Axes\n",
       "    Returns the Axes object with the plot drawn onto it.    \n",
       "\n",
       "See Also\n",
       "--------\n",
       "boxplot : A traditional box-and-whisker plot with a similar API.    \n",
       "stripplot : A scatterplot where one variable is categorical. Can be used\n",
       "            in conjunction with other plots to show each observation.    \n",
       "swarmplot : A categorical scatterplot where the points do not overlap. Can\n",
       "            be used with other plots to show each observation.    \n",
       "catplot : Combine a categorical plot with a :class:`FacetGrid`.    \n",
       "\n",
       "Examples\n",
       "--------\n",
       "\n",
       "Draw a single horizontal violinplot:\n",
       "\n",
       ".. plot::\n",
       "    :context: close-figs\n",
       "\n",
       "    >>> import seaborn as sns\n",
       "    >>> sns.set_theme(style=\"whitegrid\")\n",
       "    >>> tips = sns.load_dataset(\"tips\")\n",
       "    >>> ax = sns.violinplot(x=tips[\"total_bill\"])\n",
       "\n",
       "Draw a vertical violinplot grouped by a categorical variable:\n",
       "\n",
       ".. plot::\n",
       "    :context: close-figs\n",
       "\n",
       "    >>> ax = sns.violinplot(x=\"day\", y=\"total_bill\", data=tips)\n",
       "\n",
       "Draw a violinplot with nested grouping by two categorical variables:\n",
       "\n",
       ".. plot::\n",
       "    :context: close-figs\n",
       "\n",
       "    >>> ax = sns.violinplot(x=\"day\", y=\"total_bill\", hue=\"smoker\",\n",
       "    ...                     data=tips, palette=\"muted\")\n",
       "\n",
       "Draw split violins to compare the across the hue variable:\n",
       "\n",
       ".. plot::\n",
       "    :context: close-figs\n",
       "\n",
       "    >>> ax = sns.violinplot(x=\"day\", y=\"total_bill\", hue=\"smoker\",\n",
       "    ...                     data=tips, palette=\"muted\", split=True)\n",
       "\n",
       "Control violin order by passing an explicit order:\n",
       "\n",
       ".. plot::\n",
       "    :context: close-figs\n",
       "\n",
       "    >>> ax = sns.violinplot(x=\"time\", y=\"tip\", data=tips,\n",
       "    ...                     order=[\"Dinner\", \"Lunch\"])\n",
       "\n",
       "Scale the violin width by the number of observations in each bin:\n",
       "\n",
       ".. plot::\n",
       "    :context: close-figs\n",
       "\n",
       "    >>> ax = sns.violinplot(x=\"day\", y=\"total_bill\", hue=\"sex\",\n",
       "    ...                     data=tips, palette=\"Set2\", split=True,\n",
       "    ...                     scale=\"count\")\n",
       "\n",
       "Draw the quartiles as horizontal lines instead of a mini-box:\n",
       "\n",
       ".. plot::\n",
       "    :context: close-figs\n",
       "\n",
       "    >>> ax = sns.violinplot(x=\"day\", y=\"total_bill\", hue=\"sex\",\n",
       "    ...                     data=tips, palette=\"Set2\", split=True,\n",
       "    ...                     scale=\"count\", inner=\"quartile\")\n",
       "\n",
       "Show each observation with a stick inside the violin:\n",
       "\n",
       ".. plot::\n",
       "    :context: close-figs\n",
       "\n",
       "    >>> ax = sns.violinplot(x=\"day\", y=\"total_bill\", hue=\"sex\",\n",
       "    ...                     data=tips, palette=\"Set2\", split=True,\n",
       "    ...                     scale=\"count\", inner=\"stick\")\n",
       "\n",
       "Scale the density relative to the counts across all bins:\n",
       "\n",
       ".. plot::\n",
       "    :context: close-figs\n",
       "\n",
       "    >>> ax = sns.violinplot(x=\"day\", y=\"total_bill\", hue=\"sex\",\n",
       "    ...                     data=tips, palette=\"Set2\", split=True,\n",
       "    ...                     scale=\"count\", inner=\"stick\", scale_hue=False)\n",
       "\n",
       "Use a narrow bandwidth to reduce the amount of smoothing:\n",
       "\n",
       ".. plot::\n",
       "    :context: close-figs\n",
       "\n",
       "    >>> ax = sns.violinplot(x=\"day\", y=\"total_bill\", hue=\"sex\",\n",
       "    ...                     data=tips, palette=\"Set2\", split=True,\n",
       "    ...                     scale=\"count\", inner=\"stick\",\n",
       "    ...                     scale_hue=False, bw=.2)\n",
       "\n",
       "Draw horizontal violins:\n",
       "\n",
       ".. plot::\n",
       "    :context: close-figs\n",
       "\n",
       "    >>> planets = sns.load_dataset(\"planets\")\n",
       "    >>> ax = sns.violinplot(x=\"orbital_period\", y=\"method\",\n",
       "    ...                     data=planets[planets.orbital_period < 1000],\n",
       "    ...                     scale=\"width\", palette=\"Set3\")\n",
       "\n",
       "Don't let density extend past extreme values in the data:\n",
       "\n",
       ".. plot::\n",
       "    :context: close-figs\n",
       "\n",
       "    >>> ax = sns.violinplot(x=\"orbital_period\", y=\"method\",\n",
       "    ...                     data=planets[planets.orbital_period < 1000],\n",
       "    ...                     cut=0, scale=\"width\", palette=\"Set3\")\n",
       "\n",
       "Use ``hue`` without changing violin position or width:\n",
       "\n",
       ".. plot::\n",
       "    :context: close-figs\n",
       "\n",
       "    >>> tips[\"weekend\"] = tips[\"day\"].isin([\"Sat\", \"Sun\"])\n",
       "    >>> ax = sns.violinplot(x=\"day\", y=\"total_bill\", hue=\"weekend\",\n",
       "    ...                     data=tips, dodge=False)\n",
       "\n",
       "Use :func:`catplot` to combine a :func:`violinplot` and a\n",
       ":class:`FacetGrid`. This allows grouping within additional categorical\n",
       "variables. Using :func:`catplot` is safer than using :class:`FacetGrid`\n",
       "directly, as it ensures synchronization of variable order across facets:\n",
       "\n",
       ".. plot::\n",
       "    :context: close-figs\n",
       "\n",
       "    >>> g = sns.catplot(x=\"sex\", y=\"total_bill\",\n",
       "    ...                 hue=\"smoker\", col=\"time\",\n",
       "    ...                 data=tips, kind=\"violin\", split=True,\n",
       "    ...                 height=4, aspect=.7);\n",
       "\u001b[1;31mFile:\u001b[0m      c:\\users\\suruc\\anaconda3\\lib\\site-packages\\seaborn\\categorical.py\n",
       "\u001b[1;31mType:\u001b[0m      function\n"
      ]
     },
     "metadata": {},
     "output_type": "display_data"
    }
   ],
   "source": [
    "?sns.violinplot"
   ]
  },
  {
   "cell_type": "code",
   "execution_count": 162,
   "id": "f4ad172c-4cbc-4b78-a40a-d97154375e43",
   "metadata": {
    "tags": []
   },
   "outputs": [
    {
     "data": {
      "text/plain": [
       "\u001b[1;31mSignature:\u001b[0m\n",
       "\u001b[0msns\u001b[0m\u001b[1;33m.\u001b[0m\u001b[0mcatplot\u001b[0m\u001b[1;33m(\u001b[0m\u001b[1;33m\n",
       "\u001b[0m    \u001b[1;33m*\u001b[0m\u001b[1;33m,\u001b[0m\u001b[1;33m\n",
       "\u001b[0m    \u001b[0mx\u001b[0m\u001b[1;33m=\u001b[0m\u001b[1;32mNone\u001b[0m\u001b[1;33m,\u001b[0m\u001b[1;33m\n",
       "\u001b[0m    \u001b[0my\u001b[0m\u001b[1;33m=\u001b[0m\u001b[1;32mNone\u001b[0m\u001b[1;33m,\u001b[0m\u001b[1;33m\n",
       "\u001b[0m    \u001b[0mhue\u001b[0m\u001b[1;33m=\u001b[0m\u001b[1;32mNone\u001b[0m\u001b[1;33m,\u001b[0m\u001b[1;33m\n",
       "\u001b[0m    \u001b[0mdata\u001b[0m\u001b[1;33m=\u001b[0m\u001b[1;32mNone\u001b[0m\u001b[1;33m,\u001b[0m\u001b[1;33m\n",
       "\u001b[0m    \u001b[0mrow\u001b[0m\u001b[1;33m=\u001b[0m\u001b[1;32mNone\u001b[0m\u001b[1;33m,\u001b[0m\u001b[1;33m\n",
       "\u001b[0m    \u001b[0mcol\u001b[0m\u001b[1;33m=\u001b[0m\u001b[1;32mNone\u001b[0m\u001b[1;33m,\u001b[0m\u001b[1;33m\n",
       "\u001b[0m    \u001b[0mcol_wrap\u001b[0m\u001b[1;33m=\u001b[0m\u001b[1;32mNone\u001b[0m\u001b[1;33m,\u001b[0m\u001b[1;33m\n",
       "\u001b[0m    \u001b[0mestimator\u001b[0m\u001b[1;33m=\u001b[0m\u001b[1;33m<\u001b[0m\u001b[0mfunction\u001b[0m \u001b[0mmean\u001b[0m \u001b[0mat\u001b[0m \u001b[1;36m0x000001F05BB23EE0\u001b[0m\u001b[1;33m>\u001b[0m\u001b[1;33m,\u001b[0m\u001b[1;33m\n",
       "\u001b[0m    \u001b[0mci\u001b[0m\u001b[1;33m=\u001b[0m\u001b[1;36m95\u001b[0m\u001b[1;33m,\u001b[0m\u001b[1;33m\n",
       "\u001b[0m    \u001b[0mn_boot\u001b[0m\u001b[1;33m=\u001b[0m\u001b[1;36m1000\u001b[0m\u001b[1;33m,\u001b[0m\u001b[1;33m\n",
       "\u001b[0m    \u001b[0munits\u001b[0m\u001b[1;33m=\u001b[0m\u001b[1;32mNone\u001b[0m\u001b[1;33m,\u001b[0m\u001b[1;33m\n",
       "\u001b[0m    \u001b[0mseed\u001b[0m\u001b[1;33m=\u001b[0m\u001b[1;32mNone\u001b[0m\u001b[1;33m,\u001b[0m\u001b[1;33m\n",
       "\u001b[0m    \u001b[0morder\u001b[0m\u001b[1;33m=\u001b[0m\u001b[1;32mNone\u001b[0m\u001b[1;33m,\u001b[0m\u001b[1;33m\n",
       "\u001b[0m    \u001b[0mhue_order\u001b[0m\u001b[1;33m=\u001b[0m\u001b[1;32mNone\u001b[0m\u001b[1;33m,\u001b[0m\u001b[1;33m\n",
       "\u001b[0m    \u001b[0mrow_order\u001b[0m\u001b[1;33m=\u001b[0m\u001b[1;32mNone\u001b[0m\u001b[1;33m,\u001b[0m\u001b[1;33m\n",
       "\u001b[0m    \u001b[0mcol_order\u001b[0m\u001b[1;33m=\u001b[0m\u001b[1;32mNone\u001b[0m\u001b[1;33m,\u001b[0m\u001b[1;33m\n",
       "\u001b[0m    \u001b[0mkind\u001b[0m\u001b[1;33m=\u001b[0m\u001b[1;34m'strip'\u001b[0m\u001b[1;33m,\u001b[0m\u001b[1;33m\n",
       "\u001b[0m    \u001b[0mheight\u001b[0m\u001b[1;33m=\u001b[0m\u001b[1;36m5\u001b[0m\u001b[1;33m,\u001b[0m\u001b[1;33m\n",
       "\u001b[0m    \u001b[0maspect\u001b[0m\u001b[1;33m=\u001b[0m\u001b[1;36m1\u001b[0m\u001b[1;33m,\u001b[0m\u001b[1;33m\n",
       "\u001b[0m    \u001b[0morient\u001b[0m\u001b[1;33m=\u001b[0m\u001b[1;32mNone\u001b[0m\u001b[1;33m,\u001b[0m\u001b[1;33m\n",
       "\u001b[0m    \u001b[0mcolor\u001b[0m\u001b[1;33m=\u001b[0m\u001b[1;32mNone\u001b[0m\u001b[1;33m,\u001b[0m\u001b[1;33m\n",
       "\u001b[0m    \u001b[0mpalette\u001b[0m\u001b[1;33m=\u001b[0m\u001b[1;32mNone\u001b[0m\u001b[1;33m,\u001b[0m\u001b[1;33m\n",
       "\u001b[0m    \u001b[0mlegend\u001b[0m\u001b[1;33m=\u001b[0m\u001b[1;32mTrue\u001b[0m\u001b[1;33m,\u001b[0m\u001b[1;33m\n",
       "\u001b[0m    \u001b[0mlegend_out\u001b[0m\u001b[1;33m=\u001b[0m\u001b[1;32mTrue\u001b[0m\u001b[1;33m,\u001b[0m\u001b[1;33m\n",
       "\u001b[0m    \u001b[0msharex\u001b[0m\u001b[1;33m=\u001b[0m\u001b[1;32mTrue\u001b[0m\u001b[1;33m,\u001b[0m\u001b[1;33m\n",
       "\u001b[0m    \u001b[0msharey\u001b[0m\u001b[1;33m=\u001b[0m\u001b[1;32mTrue\u001b[0m\u001b[1;33m,\u001b[0m\u001b[1;33m\n",
       "\u001b[0m    \u001b[0mmargin_titles\u001b[0m\u001b[1;33m=\u001b[0m\u001b[1;32mFalse\u001b[0m\u001b[1;33m,\u001b[0m\u001b[1;33m\n",
       "\u001b[0m    \u001b[0mfacet_kws\u001b[0m\u001b[1;33m=\u001b[0m\u001b[1;32mNone\u001b[0m\u001b[1;33m,\u001b[0m\u001b[1;33m\n",
       "\u001b[0m    \u001b[1;33m**\u001b[0m\u001b[0mkwargs\u001b[0m\u001b[1;33m,\u001b[0m\u001b[1;33m\n",
       "\u001b[0m\u001b[1;33m)\u001b[0m\u001b[1;33m\u001b[0m\u001b[1;33m\u001b[0m\u001b[0m\n",
       "\u001b[1;31mDocstring:\u001b[0m\n",
       "Figure-level interface for drawing categorical plots onto a FacetGrid.\n",
       "\n",
       "This function provides access to several axes-level functions that\n",
       "show the relationship between a numerical and one or more categorical\n",
       "variables using one of several visual representations. The ``kind``\n",
       "parameter selects the underlying axes-level function to use:\n",
       "\n",
       "Categorical scatterplots:\n",
       "\n",
       "- :func:`stripplot` (with ``kind=\"strip\"``; the default)\n",
       "- :func:`swarmplot` (with ``kind=\"swarm\"``)\n",
       "\n",
       "Categorical distribution plots:\n",
       "\n",
       "- :func:`boxplot` (with ``kind=\"box\"``)\n",
       "- :func:`violinplot` (with ``kind=\"violin\"``)\n",
       "- :func:`boxenplot` (with ``kind=\"boxen\"``)\n",
       "\n",
       "Categorical estimate plots:\n",
       "\n",
       "- :func:`pointplot` (with ``kind=\"point\"``)\n",
       "- :func:`barplot` (with ``kind=\"bar\"``)\n",
       "- :func:`countplot` (with ``kind=\"count\"``)\n",
       "\n",
       "Extra keyword arguments are passed to the underlying function, so you\n",
       "should refer to the documentation for each to see kind-specific options.\n",
       "\n",
       "Note that unlike when using the axes-level functions directly, data must be\n",
       "passed in a long-form DataFrame with variables specified by passing strings\n",
       "to ``x``, ``y``, ``hue``, etc.\n",
       "\n",
       "As in the case with the underlying plot functions, if variables have a\n",
       "``categorical`` data type, the levels of the categorical variables, and\n",
       "their order will be inferred from the objects. Otherwise you may have to\n",
       "use alter the dataframe sorting or use the function parameters (``orient``,\n",
       "``order``, ``hue_order``, etc.) to set up the plot correctly.\n",
       "\n",
       "This function always treats one of the variables as categorical and\n",
       "draws data at ordinal positions (0, 1, ... n) on the relevant axis, even\n",
       "when the data has a numeric or date type.\n",
       "\n",
       "See the :ref:`tutorial <categorical_tutorial>` for more information.    \n",
       "\n",
       "After plotting, the :class:`FacetGrid` with the plot is returned and can\n",
       "be used directly to tweak supporting plot details or add other layers.\n",
       "\n",
       "Parameters\n",
       "----------\n",
       "x, y, hue : names of variables in ``data``\n",
       "    Inputs for plotting long-form data. See examples for interpretation.        \n",
       "data : DataFrame\n",
       "    Long-form (tidy) dataset for plotting. Each column should correspond\n",
       "    to a variable, and each row should correspond to an observation.    \n",
       "row, col : names of variables in ``data``, optional\n",
       "    Categorical variables that will determine the faceting of the grid.\n",
       "col_wrap : int\n",
       "    \"Wrap\" the column variable at this width, so that the column facets\n",
       "    span multiple rows. Incompatible with a ``row`` facet.    \n",
       "estimator : callable that maps vector -> scalar, optional\n",
       "    Statistical function to estimate within each categorical bin.\n",
       "ci : float or \"sd\" or None, optional\n",
       "    Size of confidence intervals to draw around estimated values.  If\n",
       "    \"sd\", skip bootstrapping and draw the standard deviation of the\n",
       "    observations. If ``None``, no bootstrapping will be performed, and\n",
       "    error bars will not be drawn.\n",
       "n_boot : int, optional\n",
       "    Number of bootstrap iterations to use when computing confidence\n",
       "    intervals.\n",
       "units : name of variable in ``data`` or vector data, optional\n",
       "    Identifier of sampling units, which will be used to perform a\n",
       "    multilevel bootstrap and account for repeated measures design.\n",
       "seed : int, numpy.random.Generator, or numpy.random.RandomState, optional\n",
       "    Seed or random number generator for reproducible bootstrapping.    \n",
       "order, hue_order : lists of strings, optional\n",
       "    Order to plot the categorical levels in, otherwise the levels are\n",
       "    inferred from the data objects.        \n",
       "row_order, col_order : lists of strings, optional\n",
       "    Order to organize the rows and/or columns of the grid in, otherwise the\n",
       "    orders are inferred from the data objects.\n",
       "kind : str, optional\n",
       "    The kind of plot to draw, corresponds to the name of a categorical\n",
       "    axes-level plotting function. Options are: \"strip\", \"swarm\", \"box\", \"violin\",\n",
       "    \"boxen\", \"point\", \"bar\", or \"count\".\n",
       "height : scalar\n",
       "    Height (in inches) of each facet. See also: ``aspect``.    \n",
       "aspect : scalar\n",
       "    Aspect ratio of each facet, so that ``aspect * height`` gives the width\n",
       "    of each facet in inches.    \n",
       "orient : \"v\" | \"h\", optional\n",
       "    Orientation of the plot (vertical or horizontal). This is usually\n",
       "    inferred based on the type of the input variables, but it can be used\n",
       "    to resolve ambiguity when both `x` and `y` are numeric or when\n",
       "    plotting wide-form data.    \n",
       "color : matplotlib color, optional\n",
       "    Color for all of the elements, or seed for a gradient palette.    \n",
       "palette : palette name, list, or dict\n",
       "    Colors to use for the different levels of the ``hue`` variable. Should\n",
       "    be something that can be interpreted by :func:`color_palette`, or a\n",
       "    dictionary mapping hue levels to matplotlib colors.    \n",
       "legend : bool, optional\n",
       "    If ``True`` and there is a ``hue`` variable, draw a legend on the plot.\n",
       "legend_out : bool\n",
       "    If ``True``, the figure size will be extended, and the legend will be\n",
       "    drawn outside the plot on the center right.    \n",
       "share{x,y} : bool, 'col', or 'row' optional\n",
       "    If true, the facets will share y axes across columns and/or x axes\n",
       "    across rows.    \n",
       "margin_titles : bool\n",
       "    If ``True``, the titles for the row variable are drawn to the right of\n",
       "    the last column. This option is experimental and may not work in all\n",
       "    cases.    \n",
       "facet_kws : dict, optional\n",
       "    Dictionary of other keyword arguments to pass to :class:`FacetGrid`.\n",
       "kwargs : key, value pairings\n",
       "    Other keyword arguments are passed through to the underlying plotting\n",
       "    function.\n",
       "\n",
       "Returns\n",
       "-------\n",
       "g : :class:`FacetGrid`\n",
       "    Returns the :class:`FacetGrid` object with the plot on it for further\n",
       "    tweaking.\n",
       "\n",
       "Examples\n",
       "--------\n",
       "\n",
       "Draw a single facet to use the :class:`FacetGrid` legend placement:\n",
       "\n",
       ".. plot::\n",
       "    :context: close-figs\n",
       "\n",
       "    >>> import seaborn as sns\n",
       "    >>> sns.set_theme(style=\"ticks\")\n",
       "    >>> exercise = sns.load_dataset(\"exercise\")\n",
       "    >>> g = sns.catplot(x=\"time\", y=\"pulse\", hue=\"kind\", data=exercise)\n",
       "\n",
       "Use a different plot kind to visualize the same data:\n",
       "\n",
       ".. plot::\n",
       "    :context: close-figs\n",
       "\n",
       "    >>> g = sns.catplot(x=\"time\", y=\"pulse\", hue=\"kind\",\n",
       "    ...                data=exercise, kind=\"violin\")\n",
       "\n",
       "Facet along the columns to show a third categorical variable:\n",
       "\n",
       ".. plot::\n",
       "    :context: close-figs\n",
       "\n",
       "    >>> g = sns.catplot(x=\"time\", y=\"pulse\", hue=\"kind\",\n",
       "    ...                 col=\"diet\", data=exercise)\n",
       "\n",
       "Use a different height and aspect ratio for the facets:\n",
       "\n",
       ".. plot::\n",
       "    :context: close-figs\n",
       "\n",
       "    >>> g = sns.catplot(x=\"time\", y=\"pulse\", hue=\"kind\",\n",
       "    ...                 col=\"diet\", data=exercise,\n",
       "    ...                 height=5, aspect=.8)\n",
       "\n",
       "Make many column facets and wrap them into the rows of the grid:\n",
       "\n",
       ".. plot::\n",
       "    :context: close-figs\n",
       "\n",
       "    >>> titanic = sns.load_dataset(\"titanic\")\n",
       "    >>> g = sns.catplot(x=\"alive\", col=\"deck\", col_wrap=4,\n",
       "    ...                 data=titanic[titanic.deck.notnull()],\n",
       "    ...                 kind=\"count\", height=2.5, aspect=.8)\n",
       "\n",
       "Plot horizontally and pass other keyword arguments to the plot function:\n",
       "\n",
       ".. plot::\n",
       "    :context: close-figs\n",
       "\n",
       "    >>> g = sns.catplot(x=\"age\", y=\"embark_town\",\n",
       "    ...                 hue=\"sex\", row=\"class\",\n",
       "    ...                 data=titanic[titanic.embark_town.notnull()],\n",
       "    ...                 orient=\"h\", height=2, aspect=3, palette=\"Set3\",\n",
       "    ...                 kind=\"violin\", dodge=True, cut=0, bw=.2)\n",
       "\n",
       "Use methods on the returned :class:`FacetGrid` to tweak the presentation:\n",
       "\n",
       ".. plot::\n",
       "    :context: close-figs\n",
       "\n",
       "    >>> g = sns.catplot(x=\"who\", y=\"survived\", col=\"class\",\n",
       "    ...                 data=titanic, saturation=.5,\n",
       "    ...                 kind=\"bar\", ci=None, aspect=.6)\n",
       "    >>> (g.set_axis_labels(\"\", \"Survival Rate\")\n",
       "    ...   .set_xticklabels([\"Men\", \"Women\", \"Children\"])\n",
       "    ...   .set_titles(\"{col_name} {col_var}\")\n",
       "    ...   .set(ylim=(0, 1))\n",
       "    ...   .despine(left=True))  #doctest: +ELLIPSIS\n",
       "    <seaborn.axisgrid.FacetGrid object at 0x...>\n",
       "\u001b[1;31mFile:\u001b[0m      c:\\users\\suruc\\anaconda3\\lib\\site-packages\\seaborn\\categorical.py\n",
       "\u001b[1;31mType:\u001b[0m      function\n"
      ]
     },
     "metadata": {},
     "output_type": "display_data"
    }
   ],
   "source": [
    "?sns.catplot"
   ]
  },
  {
   "cell_type": "markdown",
   "id": "3c0acce2-6f31-4bc3-9d46-d7bcb4aba3cc",
   "metadata": {},
   "source": [
    ">seaborn.violinplot(x=None, y=None, hue=None, data=None, order=None, hue_order=None, bw=’scott’, cut=2, scale=’area’, scale_hue=True, gridsize=100, width=0.8, inner=’box’, split=False, dodge=True, orient=None, linewidth=None, color=None, palette=None, saturation=0.75, ax=None, **kwargs)"
   ]
  },
  {
   "cell_type": "markdown",
   "id": "836b2ba4-66e2-4f8d-bc55-9eab106379f4",
   "metadata": {},
   "source": [
    "**VİOLİN GRAFİĞİ PARAMETRELERİ:** \n",
    "* <span style='color:red'>x, y, hue</span> : Uzun biçimli verileri çizmek için girişler. \n",
    "* <span style='color:red'>data</span> : Çizim için veri seti. \n",
    "* <span style='color:red'>scale</span> : Her kemanın genişliğini ölçeklemek için kullanılan yöntem."
   ]
  },
  {
   "cell_type": "code",
   "execution_count": 177,
   "id": "a8138b5a-295b-4d0e-8042-df1a98881800",
   "metadata": {
    "tags": []
   },
   "outputs": [
    {
     "data": {
      "image/png": "[encoded data removed]",
      "text/plain": [
       "<Figure size 360x360 with 1 Axes>"
      ]
     },
     "metadata": {
      "needs_background": "light"
     },
     "output_type": "display_data"
    }
   ],
   "source": [
    "sns.catplot(y = \"total_bill\", kind = \"violin\", data = df);"
   ]
  },
  {
   "cell_type": "markdown",
   "id": "92415423-ab3f-4419-bc0f-955c9a65e801",
   "metadata": {},
   "source": [
    "> **Violin plot'da grafiğe yatay olarakb baktığımızda yoğunluk grafiğine ait özellikler görürken , grafiğe dikey olarak baktığımızda box plot'un özelliklerinden yararlanıldığını gözlemlemekteyiz.**"
   ]
  },
  {
   "cell_type": "markdown",
   "id": "1b4334fc-bfbc-45ad-8e76-187d5c65626e",
   "metadata": {},
   "source": [
    "![alt text](violin.jpg)"
   ]
  },
  {
   "cell_type": "markdown",
   "id": "3858af91-889d-4024-9d50-86c5a3ed09a3",
   "metadata": {},
   "source": [
    "## Violin Grafik Çaprazlanma"
   ]
  },
  {
   "cell_type": "code",
   "execution_count": 84,
   "id": "76e3d4b4-0852-461e-97d2-873e5e4c0caa",
   "metadata": {},
   "outputs": [
    {
     "data": {
      "image/png": "[encoded data removed]",
      "text/plain": [
       "<Figure size 360x360 with 1 Axes>"
      ]
     },
     "metadata": {
      "needs_background": "light"
     },
     "output_type": "display_data"
    }
   ],
   "source": [
    "sns.catplot(x = \"day\", y = \"total_bill\", kind = \"violin\", data = df);"
   ]
  },
  {
   "cell_type": "code",
   "execution_count": 174,
   "id": "083bce41-c211-4a1d-8b19-ca116d27a12b",
   "metadata": {},
   "outputs": [
    {
     "data": {
      "image/png": "[encoded data removed]",
      "text/plain": [
       "<Figure size 432.125x360 with 1 Axes>"
      ]
     },
     "metadata": {
      "needs_background": "light"
     },
     "output_type": "display_data"
    }
   ],
   "source": [
    "sns.catplot(x = \"day\", y = \"total_bill\", hue = \"sex\", kind = \"violin\",data = df);"
   ]
  }
 ],
 "metadata": {
  "kernelspec": {
   "display_name": "Python 3 (ipykernel)",
   "language": "python",
   "name": "python3"
  },
  "language_info": {
   "codemirror_mode": {
    "name": "ipython",
    "version": 3
   },
   "file_extension": ".py",
   "mimetype": "text/x-python",
   "name": "python",
   "nbconvert_exporter": "python",
   "pygments_lexer": "ipython3",
   "version": "3.9.13"
  }
 },
 "nbformat": 4,
 "nbformat_minor": 5
}
